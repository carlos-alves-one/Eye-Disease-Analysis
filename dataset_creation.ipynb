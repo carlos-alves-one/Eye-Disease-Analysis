{
  "nbformat": 4,
  "nbformat_minor": 0,
  "metadata": {
    "colab": {
      "provenance": [],
      "authorship_tag": "ABX9TyOdE/PulRDSln51g+lldkbB",
      "include_colab_link": true
    },
    "kernelspec": {
      "name": "python3",
      "display_name": "Python 3"
    },
    "language_info": {
      "name": "python"
    }
  },
  "cells": [
    {
      "cell_type": "markdown",
      "metadata": {
        "id": "view-in-github",
        "colab_type": "text"
      },
      "source": [
        "<a href=\"https://colab.research.google.com/github/carlos-alves-one/-Eye-Disease-Analysis/blob/main/dataset_creation.ipynb\" target=\"_parent\"><img src=\"https://colab.research.google.com/assets/colab-badge.svg\" alt=\"Open In Colab\"/></a>"
      ]
    },
    {
      "cell_type": "markdown",
      "source": [
        "### Goldsmiths University of London\n",
        "### MSc. Data Science and Artificial Inteligence\n",
        "### Module: Data Programming\n",
        "### Project Eye Disease Analysis\n",
        "### Author: Carlos Manuel De Oliveira Alves\n",
        "### Student: cdeol003\n",
        "### Created: 04/10/2023"
      ],
      "metadata": {
        "id": "_Tk8xMT0c-ty"
      }
    },
    {
      "cell_type": "code",
      "source": [],
      "metadata": {
        "id": "3gCi4Xyvc_oI"
      },
      "execution_count": null,
      "outputs": []
    }
  ]
}