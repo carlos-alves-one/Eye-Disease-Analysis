{
  "nbformat": 4,
  "nbformat_minor": 0,
  "metadata": {
    "colab": {
      "provenance": [],
      "authorship_tag": "ABX9TyM5jFT8VCBdNwinBO+rUJs2",
      "include_colab_link": true
    },
    "kernelspec": {
      "name": "python3",
      "display_name": "Python 3"
    },
    "language_info": {
      "name": "python"
    }
  },
  "cells": [
    {
      "cell_type": "markdown",
      "metadata": {
        "id": "view-in-github",
        "colab_type": "text"
      },
      "source": [
        "<a href=\"https://colab.research.google.com/github/carlos-alves-one/-Eye-Disease-Analysis/blob/main/dataset_creation.ipynb\" target=\"_parent\"><img src=\"https://colab.research.google.com/assets/colab-badge.svg\" alt=\"Open In Colab\"/></a>"
      ]
    },
    {
      "cell_type": "markdown",
      "source": [
        "### Goldsmiths University of London\n",
        "### MSc. Data Science and Artificial Inteligence\n",
        "### Module: Data Programming\n",
        "### Project Eye Disease Analysis\n",
        "### Author: Carlos Manuel De Oliveira Alves\n",
        "### Student: cdeol003\n",
        "### Created: 04/10/2023"
      ],
      "metadata": {
        "id": "_Tk8xMT0c-ty"
      }
    },
    {
      "cell_type": "code",
      "source": [
        "# Import the pandas library to read the data\n",
        "import pandas as pd\n",
        "\n",
        "# Import random to generate random data\n",
        "import random\n"
      ],
      "metadata": {
        "id": "3gCi4Xyvc_oI"
      },
      "execution_count": 1,
      "outputs": []
    },
    {
      "cell_type": "code",
      "source": [
        "# Declare 20 columns for the dataset\n",
        "columns = ['Country', 'Population', 'Eye_Disease', 'Affected_People', 'Blindness_Cases', 'Healthcare_Cost', 'Productivity_Loss', 'Region',\n",
        "           'Age_Group', 'Gender', 'Treatment_Availability', 'Medical_Facilities', 'Research_Funding', 'Awareness_Programs', 'Prevention_Measures',\n",
        "           'Recovery_Rate', 'Mortality_Rate', 'Vaccination', 'Medication', 'Surgery_Options']\n",
        ""
      ],
      "metadata": {
        "id": "BSyYX40_f-fA"
      },
      "execution_count": 4,
      "outputs": []
    },
    {
      "cell_type": "code",
      "source": [
        "# Declare sample data for each column\n",
        "countries = ['USA', 'Canada', 'UK', 'Australia', 'India', 'China', 'Brazil', 'South Africa', 'Nigeria', 'Egypt']\n",
        "eye_diseases = ['Glaucoma', 'Cataract', 'Macular Degeneration', 'Diabetic Retinopathy', 'Retinal Detachment']\n",
        "regions = ['North America', 'Europe', 'Asia', 'Africa', 'Australia']\n",
        "age_groups = ['0-10', '11-20', '21-30', '31-40', '41-50', '51-60', '61-70', '71+']\n",
        "genders = ['Male', 'Female']\n",
        "yes_no = ['Yes', 'No']\n"
      ],
      "metadata": {
        "id": "7FIcKmYwgYik"
      },
      "execution_count": 5,
      "outputs": []
    },
    {
      "cell_type": "code",
      "source": [
        "# Generating random data for the dataset\n",
        "data = []\n",
        "for _ in range(1000000):\n",
        "    country = random.choice(countries)\n",
        "    population = random.randint(1000000, 50000000)\n",
        "    eye_disease = random.choice(eye_diseases)\n",
        "    affected_people = random.randint(1000, 100000)\n",
        "    blindness_cases = random.randint(10, 10000)\n",
        "    healthcare_cost = random.randint(1000, 1000000)\n",
        "    productivity_loss = random.randint(1000, 1000000)\n",
        "    region = random.choice(regions)\n",
        "    age_group = random.choice(age_groups)\n",
        "    gender = random.choice(genders)\n",
        "    treatment_availability = random.choice(yes_no)\n",
        "    medical_facilities = random.choice(yes_no)\n",
        "    research_funding = random.randint(1000, 1000000)\n",
        "    awareness_programs = random.choice(yes_no)\n",
        "    prevention_measures = random.choice(yes_no)\n",
        "    recovery_rate = random.uniform(0.1, 1.0)\n",
        "    mortality_rate = random.uniform(0.1, 1.0)\n",
        "    vaccination = random.choice(yes_no)\n",
        "    medication = random.choice(yes_no)\n",
        "    surgery_options = random.choice(yes_no)\n",
        "    data.append([country, population, eye_disease, affected_people, blindness_cases, healthcare_cost, productivity_loss, region, age_group,\n",
        "                 gender, treatment_availability, medical_facilities, research_funding, awareness_programs, prevention_measures, recovery_rate,\n",
        "                 mortality_rate, vaccination, medication, surgery_options])\n",
        ""
      ],
      "metadata": {
        "id": "tXDB3Y8wgtvH"
      },
      "execution_count": null,
      "outputs": []
    }
  ]
}