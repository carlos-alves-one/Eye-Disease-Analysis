{
  "nbformat": 4,
  "nbformat_minor": 0,
  "metadata": {
    "colab": {
      "provenance": [],
      "authorship_tag": "ABX9TyN1SVX3Z1HwguXCfKQjkHxg",
      "include_colab_link": true
    },
    "kernelspec": {
      "name": "python3",
      "display_name": "Python 3"
    },
    "language_info": {
      "name": "python"
    }
  },
  "cells": [
    {
      "cell_type": "markdown",
      "metadata": {
        "id": "view-in-github",
        "colab_type": "text"
      },
      "source": [
        "<a href=\"https://colab.research.google.com/github/carlos-alves-one/-Eye-Disease-Analysis/blob/main/dataset_creation.ipynb\" target=\"_parent\"><img src=\"https://colab.research.google.com/assets/colab-badge.svg\" alt=\"Open In Colab\"/></a>"
      ]
    },
    {
      "cell_type": "markdown",
      "source": [
        "### Goldsmiths University of London\n",
        "### MSc. Data Science and Artificial Inteligence\n",
        "### Module: Data Programming\n",
        "### Project Eye Disease Analysis\n",
        "### Author: Carlos Manuel De Oliveira Alves\n",
        "### Student: cdeol003\n",
        "### Created: 04/10/2023"
      ],
      "metadata": {
        "id": "_Tk8xMT0c-ty"
      }
    },
    {
      "cell_type": "markdown",
      "source": [
        "## I. Import Libraries and Packages"
      ],
      "metadata": {
        "id": "bcUjIkWvekP2"
      }
    },
    {
      "cell_type": "code",
      "source": [
        "# Import the pandas library to read the data\n",
        "import pandas as pd\n",
        "\n",
        "# Import random to generate random data\n",
        "import random\n"
      ],
      "metadata": {
        "id": "3gCi4Xyvc_oI"
      },
      "execution_count": 1,
      "outputs": []
    },
    {
      "cell_type": "code",
      "source": [
        "# Declare 20 columns for the dataset\n",
        "columns = ['Country', 'Population', 'Eye_Disease', 'Affected_People', 'Blindness_Cases', 'Healthcare_Cost', 'Productivity_Loss', 'Region',\n",
        "           'Age_Group', 'Gender', 'Treatment_Availability', 'Medical_Facilities', 'Research_Funding', 'Awareness_Programs', 'Prevention_Measures',\n",
        "           'Recovery_Rate', 'Mortality_Rate', 'Vaccination', 'Medication', 'Surgery_Options']\n",
        ""
      ],
      "metadata": {
        "id": "BSyYX40_f-fA"
      },
      "execution_count": 3,
      "outputs": []
    }
  ]
}