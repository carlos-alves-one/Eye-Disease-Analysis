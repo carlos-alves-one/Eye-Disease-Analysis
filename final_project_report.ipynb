{
  "nbformat": 4,
  "nbformat_minor": 0,
  "metadata": {
    "colab": {
      "provenance": [],
      "authorship_tag": "ABX9TyNQBVbDEjWYMu/exPPDjl5a",
      "include_colab_link": true
    },
    "kernelspec": {
      "name": "python3",
      "display_name": "Python 3"
    },
    "language_info": {
      "name": "python"
    }
  },
  "cells": [
    {
      "cell_type": "markdown",
      "metadata": {
        "id": "view-in-github",
        "colab_type": "text"
      },
      "source": [
        "<a href=\"https://colab.research.google.com/github/carlos-alves-one/-Eye-Disease-Analysis/blob/main/final_project_report.ipynb\" target=\"_parent\"><img src=\"https://colab.research.google.com/assets/colab-badge.svg\" alt=\"Open In Colab\"/></a>"
      ]
    },
    {
      "cell_type": "markdown",
      "source": [
        "### Goldsmiths University of London\n",
        "### MSc. Data Science and Artificial Intelligence\n",
        "### Module: Data Programming\n",
        "### Author: Carlos Manuel De Oliveira Alves\n",
        "### Student: cdeol003"
      ],
      "metadata": {
        "id": "jwk-RHnwdsHz"
      }
    },
    {
      "cell_type": "markdown",
      "source": [
        "# Final Project"
      ],
      "metadata": {
        "id": "8eSaYfD5enNr"
      }
    },
    {
      "cell_type": "markdown",
      "source": [
        "- Theme: Eye Diseases Analysis\n",
        "\n",
        "- Scope: Project could focus on datasets related to various eye diseases, their prevalence in different demographics, causes, symptoms, and treatments. This could include data from various research studies, hospitals, and health organizations.\n",
        "\n",
        "- Project: \"Prevalence and Risk Factors of Glaucoma: An Analysis of Global Data in AI-Driven Research\"\n"
      ],
      "metadata": {
        "id": "FCUNcGpuez05"
      }
    },
    {
      "cell_type": "code",
      "source": [],
      "metadata": {
        "id": "gVFGQGyJemME"
      },
      "execution_count": null,
      "outputs": []
    }
  ]
}