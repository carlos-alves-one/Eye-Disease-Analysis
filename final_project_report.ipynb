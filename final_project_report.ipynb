{
  "nbformat": 4,
  "nbformat_minor": 0,
  "metadata": {
    "colab": {
      "provenance": [],
      "toc_visible": true,
      "include_colab_link": true
    },
    "kernelspec": {
      "name": "python3",
      "display_name": "Python 3"
    },
    "language_info": {
      "name": "python"
    }
  },
  "cells": [
    {
      "cell_type": "markdown",
      "metadata": {
        "id": "view-in-github",
        "colab_type": "text"
      },
      "source": [
        "<a href=\"https://colab.research.google.com/github/carlos-alves-one/-Eye-Disease-Analysis/blob/main/final_project_report.ipynb\" target=\"_parent\"><img src=\"https://colab.research.google.com/assets/colab-badge.svg\" alt=\"Open In Colab\"/></a>"
      ]
    },
    {
      "cell_type": "markdown",
      "source": [
        "### Goldsmiths University of London\n",
        "### MSc. Data Science and Artificial Intelligence\n",
        "### Module: Data Programming\n",
        "### Author: Carlos Manuel De Oliveira Alves\n",
        "### Student: cdeol003"
      ],
      "metadata": {
        "id": "jwk-RHnwdsHz"
      }
    },
    {
      "cell_type": "markdown",
      "source": [
        "# Final Project Report"
      ],
      "metadata": {
        "id": "8eSaYfD5enNr"
      }
    },
    {
      "cell_type": "markdown",
      "source": [
        "- Theme: Eye Diseases Analysis\n",
        "\n",
        "- Scope: Project could focus on datasets related to various eye diseases, their prevalence in different demographics, causes, symptoms, and treatments. This could include data from various research studies, hospitals, and health organizations.\n",
        "\n",
        "- Project: \"Prevalence and Risk Factors of Glaucoma: An Analysis of Global Data in AI-Driven Research\"\n"
      ],
      "metadata": {
        "id": "FCUNcGpuez05"
      }
    },
    {
      "cell_type": "markdown",
      "source": [
        "#Aims and Objectives"
      ],
      "metadata": {
        "id": "l8y5dz1C1gWU"
      }
    },
    {
      "cell_type": "markdown",
      "source": [
        "##Introduction"
      ],
      "metadata": {
        "id": "t_etYUzW1pNb"
      }
    },
    {
      "cell_type": "markdown",
      "source": [
        "**The Role of Artificial Intelligence in Addressing the Global Challenge of Glaucoma**\n",
        "\n",
        "Within the dynamic realm of healthcare, glaucoma presents itself as a noteworthy public health concern, discreetly and progressively compromising visual acuity on a global scale. This report explores the significant contribution of artificial intelligence (AI) in comprehending and addressing the prevalent ocular ailment. In this study, we will examine the characteristics of glaucoma, the notable developments made by artificial intelligence (AI) in healthcare, and the utilisation of AI in the present research to gain insights into the worldwide implications of glaucoma. The primary objective is to enhance tactics related to preventing, detecting, and treating this condition.\n"
      ],
      "metadata": {
        "id": "8JIlURDs1w5k"
      }
    },
    {
      "cell_type": "markdown",
      "source": [
        "1. Glaucoma Overview\n",
        "\n",
        "Definition and Impact:\n",
        "Glaucoma, commonly called the \"silent thief of sight,\" is a collection of ocular ailments distinguished by optic nerve impairment resulting in permanent visual deterioration. The insidious character of this phenomenon presents a formidable obstacle in early detection since it frequently advances without manifesting recognisable signs. Glaucoma, a leading cause of irreversible visual impairment on a global scale, poses a substantial burden by detrimentally impacting both the individual's quality of life and imposing economic obstacles.\n",
        "\n",
        "Demographic Considerations:\n",
        "The incidence of glaucoma is anticipated to rise in tandem with the advancing age of the worldwide population. The current increase in cases highlights the need for a more comprehensive comprehension of the disease's diverse prevalence and risk factors throughout various geographical areas and demographic groups. The convergence of globalisation and demographic changes amplifies the necessity for a thorough and sophisticated strategy in addressing this ailment.\n",
        "\n",
        "2. Role of Artificial Intelligence (AI) in Glaucoma Research\n",
        "\n",
        "AI in Healthcare:\n",
        "The achievements of artificial intelligence (AI) have had a profound impact on the healthcare industry, offering groundbreaking tools for comprehending and addressing a wide range of medical disorders, such as glaucoma. Through the utilisation of sophisticated algorithms and machine learning techniques, artificial intelligence (AI) has the capability to analyse extensive volumes of worldwide data, thereby revealing concealed patterns, trends, and interrelationships that would otherwise remain undisclosed.\n",
        "\n",
        "AI's Contribution to Understanding Glaucoma:\n",
        "The utilisation of artificial intelligence (AI) in the field of glaucoma research presents novel opportunities for comprehensive comprehension. This facilitates the identification of elements that contribute to the disease and allows for establishing proactive and tailored treatment strategies. This technological advancement can significantly transform our approach to glaucoma, transitioning from a reactive therapy model to a proactive and individualised strategy.\n",
        "\n",
        "3. Purpose of the Current Study\n",
        "\n",
        "Utilising AI to Explore Glaucoma Data:\n",
        "The present study utilises artificial intelligence (AI) to perform an extensive examination of worldwide databases about glaucoma. This study aims to investigate the prevalence rates and intricate risk factors related to the disease beyond regional and demographic limitations.\n",
        "\n",
        "Aiming for Actionable Insights:\n",
        "The research has been structured to offer practical and applicable knowledge to healthcare practitioners, scholars, and decision-makers. This study aims to provide guidance for preventive measures, improve early detection tools, and inform the development of effective treatment options by presenting a more detailed understanding of the dynamics of glaucoma.\n",
        "\n",
        "Envisioning a Brighter Visual Future:\n",
        "In the end, the findings obtained from this study, which utilises artificial intelligence, possess the capacity to influence a forthcoming era characterised by a substantial decrease in vision impairment resulting from glaucoma. The study seeks to enhance global visual health outcomes by informing and influencing healthcare practises and policies to minimise the impact of a significant and often overlooked threat.\n",
        "\n",
        "Conclusion:\n",
        "In summary, the convergence of artificial intelligence (AI) with the healthcare field, specifically in the context of glaucoma research, signifies the advent of a novel era characterised by enhanced medical knowledge and interventions. This study signifies a crucial advancement in utilising artificial intelligence (AI) to comprehend and comprehensively address the challenges posed by glaucoma worldwide. The ongoing integration of technology and medicine presents significant opportunities for revolutionising healthcare results, significantly impacting the well-being of those at risk of or already impacted by glaucoma."
      ],
      "metadata": {
        "id": "PBWd08tXCtyt"
      }
    },
    {
      "cell_type": "markdown",
      "source": [
        "##Aims"
      ],
      "metadata": {
        "id": "O-J5ZH5IB_jR"
      }
    },
    {
      "cell_type": "markdown",
      "source": [
        "**Unveiling the Global Landscape of Glaucoma: An AI-Driven Approach**\n",
        "\n",
        "Glaucoma, a prominent aetiology of permanent visual impairment on a global scale, poses a substantial public health dilemma owing to its insidious advancement and diverse epidemiological characteristics. To tackle this difficulty effectively, it is vital to comprehensively comprehend its worldwide occurrence and the components contributing to its risk. This report presents a research endeavour that seeks to utilise artificial intelligence (AI) to analyse extensive datasets and offer a thorough understanding of the prevalence of glaucoma and its related dangers. Through the utilisation of artificial intelligence (AI), this research endeavour endeavours to augment our comprehension of glaucoma, with the ultimate objective of making valuable contributions to the advancement of productive solutions for prevention and therapy."
      ],
      "metadata": {
        "id": "lpqlIEvs124i"
      }
    },
    {
      "cell_type": "markdown",
      "source": [
        "\n",
        "1. Understanding Global Glaucoma Prevalence\n",
        "\n",
        ">*Comprehensive Analysis*\n",
        "\n",
        "The primary objective of this study is to perform a comprehensive investigation of the worldwide prevalence of glaucoma. This entails evaluating the incidence of the disease among different geographical areas and demographic groups. The primary objective of this study is to shed light on the many epidemiological patterns associated with glaucoma, thereby providing a comprehensive worldwide outlook on its implications.\n",
        "\n",
        ">*Epidemiological Insights*\n",
        "\n",
        "Comprehending these trends is of utmost importance in discerning the impact of glaucoma on various demographic cohorts. These insights can influence healthcare methods customised for specific communities, improving the efficacy of public health efforts.\n",
        "\n",
        "2. Investigation of Glaucoma Risk Factors\n",
        "\n",
        ">*Identifying Core Risk Factors*\n",
        "\n",
        "An essential component of this study entails identifying and analysing the underlying risk factors that are inherently linked to the development and progression of glaucoma. This entails exploring the aetiology, correlations, and probable pathophysiological processes behind the onset of the disease.\n",
        "\n",
        ">*Towards Prevention and Treatment*\n",
        "\n",
        "A complete understanding of these risk variables is necessary to formulate precise preventive strategies and therapeutic interventions. This understanding could contribute to developing more individualised and pragmatic strategies for managing glaucoma, potentially decreasing the occurrence and severity of the condition.\n",
        "\n",
        "3. Utilizing AI for Data Analysis\n",
        "\n",
        ">*Leveraging AI Technologies*\n",
        "\n",
        "The research employs the sophisticated functionalities of artificial intelligence (AI) to handle and analyse extensive and intricate datasets effectively. Artificial intelligence (AI) technologies and approaches, such as machine learning and data mining, play a crucial role in enabling the efficient management, analysis, and interpretation of data derived from various geographical regions and diverse populations.\n",
        "\n",
        ">*Enhancing Analytical Efficiency*\n",
        "\n",
        "The utilisation of artificial intelligence (AI) within this research is anticipated to enhance the precision and effectiveness of the analytical procedure. The capacity of artificial intelligence (AI) to rapidly and accurately handle and analyse extensive volumes of data facilitates the generation of more refined and comprehensive insights compared to conventional data analysis techniques.\n",
        "\n",
        "\n",
        "**Conclusion**\n",
        "\n",
        "In summary, this research signifies a substantial advancement in comprehending the worldwide implications of glaucoma. By harnessing the capabilities of artificial intelligence, the objective is to offer a comprehensive examination of the prevalence and risk factors associated with the disease across diverse geographical areas and demographic groups. The findings derived from this study possess the capacity to guide public health policies, offer insights for clinical practices, and eventually contribute to the global prevention and treatment of glaucoma. With the increasing adoption of artificial intelligence (AI) and data analytics, there is a growing sense of optimism over the potential of these technologies to revolutionise healthcare and improve illness management. This holds particularly true for persons suffering from glaucoma and other related conditions, as these breakthroughs offer the promise of enhanced outcomes.\n"
      ],
      "metadata": {
        "id": "gexyOYqCCCW4"
      }
    },
    {
      "cell_type": "markdown",
      "source": [
        "##Objectives"
      ],
      "metadata": {
        "id": "Vc0Flp8Iyw3X"
      }
    },
    {
      "cell_type": "markdown",
      "source": [
        "**Harnessing AI to Illuminate the Global Landscape of Glaucoma: A Data-Driven Approach**\n",
        "\n",
        "The prevalence and risk factors of glaucoma, a prominent cause of irreversible blindness, require a comprehensive approach to comprehend the global burden it imposes. This report presents a systematic project that employs artificial intelligence (AI) to analyse worldwide glaucoma data. The primary objective of this research is to acquire and analyse data methodically to offer significant findings about patterns of glaucoma, characteristics that contribute to risk, and disparities across different regions. The primary objective is to provide valuable insights into efficient approaches for the timely identification, prevention, and treatment of glaucoma, aiming to improve patient outcomes worldwide."
      ],
      "metadata": {
        "id": "gRkBzEja2Q6j"
      }
    },
    {
      "cell_type": "markdown",
      "source": [
        "1. Objective of Data Collection\n",
        "\n",
        ">*Gathering Comprehensive Data*\n",
        "\n",
        "The initial stage entails the comprehensive acquisition of a dataset about glaucoma prevalence. This entails utilising data from reputable international organisations such as the World Health Organisation, national health databases, and diverse epidemiological studies. A dataset has been previously established in the project proposal for this undertaking.\n",
        "\n",
        ">*Categorizing Risk Factors*\n",
        "\n",
        "The data will be methodically classified to encompass potential risk factors, such as age, ethnicity, genetics, intraocular pressure, systemic health conditions, and environmental factors. The implementation of this comprehensive strategy guarantees that the investigation encompasses all pertinent factors that exert an influence on glaucoma.\n",
        "\n",
        "2. AI-Driven Data Analysis\n",
        "\n",
        ">*Utilizing Machine Learning*\n",
        "\n",
        "Machine learning techniques will be employed for pattern recognition and identifying interrelations within the data. This advanced approach facilitates discovering subtle connections and trends that traditional analysis methods might overlook.\n",
        "\n",
        ">*Statistical Methods Application*\n",
        "\n",
        "In this study, statistical approaches will be utilised to assess the relevance and influence of identified risk variables on the prevalence of glaucoma. This approach will provide a measurable comprehension of the respective roles played by these variables.\n",
        "\n",
        "3. Comprehensive Regional Analysis\n",
        "\n",
        ">*Regional Prevalence Patterns*\n",
        "\n",
        "The research will employ data segmentation according to geographical regions to identify and analyse significant patterns in the prevalence of glaucoma across different regions. This analysis will comprehensively understand how regional factors influence the disease.\n",
        "\n",
        ">*Risk Factor Significance Assessment*\n",
        "\n",
        "This study aims to examine the significance of risk variables in different locations, with a specific focus on identifying potential changes in the dynamics of glaucoma.\n",
        "\n",
        "4. Temporal Analysis\n",
        "\n",
        ">*Studying Time-Based Variations*\n",
        "\n",
        "This study aims to investigate the temporal fluctuations in glaucoma prevalence, thereby offering a historical framework to comprehend the evolution of the disease and probable future patterns. Due to the constraints imposed by the dataset, we have decided not to proceed with this analysis.\n",
        "\n",
        ">*Projecting Future Prevalence*\n",
        "\n",
        "The utilisation of present data and the identification of patterns will be employed to forecast the future prevalence of glaucoma, thereby facilitating proactive measures to address anticipated surges in the number of cases. We have decided not to proceed with the analysis.\n",
        "\n",
        "5. Development of Predictive Models\n",
        "\n",
        ">*AI-Based Prediction Models*\n",
        "\n",
        "Artificial intelligence (AI) methodologies will be employed to construct predictive models that estimate the probability of glaucoma development within different demographic cohorts, utilising recognised risk factors.\n",
        "\n",
        ">*Model Validation*\n",
        "\n",
        "The validation process will assess the correctness and dependability of these models by employing a specific subset of data, thereby confirming their suitability for real-world applications.\n",
        "\n",
        "6. Recommendations and Intervention Suggestions\n",
        "\n",
        ">*Evidence-Based Strategies*\n",
        "\n",
        "The project aims to present a comprehensive set of methods for the timely identification, prevention, and effective management of glaucoma. These strategies will be developed based on rigorous data analysis and informed by insights derived from artificial intelligence.\n",
        "\n",
        ">*Highlighting Future Research Avenues*\n",
        "\n",
        "Additionally, this study will identify and emphasise specific areas that warrant additional investigation and explore possible applications of artificial intelligence in augmenting the efficacy of glaucoma treatments.\n",
        "\n",
        "7. Project Conclusion\n",
        "\n",
        ">*Providing a Detailed Perspective*\n",
        "\n",
        "The objective of this research is to give a comprehensive examination of the worldwide glaucoma landscape, enhanced by the incorporation of insights derived from artificial intelligence analysis.\n",
        "\n",
        ">*Aiding Stakeholders*\n",
        "\n",
        "The primary objective is to provide healthcare professionals, policymakers, and researchers with a deeper level of knowledge and comprehension regarding glaucoma. This will facilitate informed decision-making and eventually enhance patient outcomes.\n",
        "\n",
        "**Conclusion**\n",
        "\n",
        "In essence, this study demonstrates the considerable influence of artificial intelligence in revolutionising healthcare research. Artificial intelligence (AI) in examining glaucoma data seeks to elucidate this ailment's worldwide occurrence and potential determinants, thereby imparting significant knowledge for its effective administration. This strategy facilitates comprehension of the current implications of glaucoma and equips individuals to anticipate and address its forthcoming obstacles, signifying a noteworthy advancement in the battle against this ocular ailment."
      ],
      "metadata": {
        "id": "A9hLeTRwyydc"
      }
    },
    {
      "cell_type": "markdown",
      "source": [
        "#Data Collection"
      ],
      "metadata": {
        "id": "JwdP2YtJMTmQ"
      }
    },
    {
      "cell_type": "markdown",
      "source": [
        "##1. Load the Data\n",
        "   - Connect to Google Drive to access the dataset\n",
        "   - Load the data from the provided CSV file."
      ],
      "metadata": {
        "id": "WJpwZmKhMzU0"
      }
    },
    {
      "cell_type": "code",
      "source": [
        "# Imports the 'drive' module from 'google.colab' and mounts the Google Drive to\n",
        "# the '/content/drive' directory in the Colab environment.\n",
        "from google.colab import drive\n",
        "drive.mount('/content/drive')"
      ],
      "metadata": {
        "colab": {
          "base_uri": "https://localhost:8080/"
        },
        "id": "3m12MJ4tOD5r",
        "outputId": "062ae5ab-ad8e-4fc3-fc96-b0baa1fda29b"
      },
      "execution_count": 1,
      "outputs": [
        {
          "output_type": "stream",
          "name": "stdout",
          "text": [
            "Mounted at /content/drive\n"
          ]
        }
      ]
    },
    {
      "cell_type": "code",
      "source": [
        "# Import the pandas library to read the data\n",
        "import pandas as pd\n",
        "\n",
        "# Load the dataset\n",
        "data = pd.read_csv('/content/drive/MyDrive/Glaucoma_Global_Analysis.csv')\n",
        "\n",
        "# Display the first few rows of the dataset\n",
        "data.head().T"
      ],
      "metadata": {
        "colab": {
          "base_uri": "https://localhost:8080/",
          "height": 739
        },
        "id": "-P_HigsWMz5c",
        "outputId": "7eb951a9-a60b-45b8-aeae-3b2d900d9e0d"
      },
      "execution_count": 2,
      "outputs": [
        {
          "output_type": "execute_result",
          "data": {
            "text/plain": [
              "                                         0         1         2         3  \\\n",
              "Country                        Afghanistan   Albania   Algeria   Andorra   \n",
              "Population                        28638530  37734135  22050908  20250586   \n",
              "Eye_Disease                       Glaucoma  Glaucoma  Glaucoma  Glaucoma   \n",
              "Affected_People_Male                 15577     30759     47194     46621   \n",
              "Affected_People_Female               77855     14117     51195     21502   \n",
              "Blindness_Cases_Male                  2662      5688      4306      1445   \n",
              "Blindness_Cases_Female                3863      6738      5133      5805   \n",
              "Healthcare_Cost                     519206    584037    661147    555390   \n",
              "Productivity_Loss                   466059    662877    576810    110035   \n",
              "Region                                Asia    Europe    Africa    Europe   \n",
              "Age_Group                            51-60     51-60       71+       71+   \n",
              "Treatment_Availability_Male            Yes       Yes        No       Yes   \n",
              "Treatment_Availability_Female          Yes       Yes       Yes       Yes   \n",
              "Medical_Facilities                     Yes       Yes       Yes       Yes   \n",
              "Research_Funding                    435229    646972    404262    566361   \n",
              "Awareness_Programs                      No       Yes        No        No   \n",
              "Prevention_Measures                    Yes        No        No       Yes   \n",
              "Recovery_Rate                     0.160787  0.952156  0.574042  0.493378   \n",
              "Mortality_Rate                    0.956378  0.721031  0.502806  0.689884   \n",
              "Vaccination                            Yes       Yes       Yes       Yes   \n",
              "Medication                             Yes       Yes        No        No   \n",
              "Surgery_Options                         No       Yes       Yes        No   \n",
              "\n",
              "                                      4  \n",
              "Country                          Angola  \n",
              "Population                     24667186  \n",
              "Eye_Disease                    Glaucoma  \n",
              "Affected_People_Male              54498  \n",
              "Affected_People_Female            34219  \n",
              "Blindness_Cases_Male               1709  \n",
              "Blindness_Cases_Female             6146  \n",
              "Healthcare_Cost                  370512  \n",
              "Productivity_Loss                659504  \n",
              "Region                           Africa  \n",
              "Age_Group                         51-60  \n",
              "Treatment_Availability_Male         Yes  \n",
              "Treatment_Availability_Female       Yes  \n",
              "Medical_Facilities                   No  \n",
              "Research_Funding                 715049  \n",
              "Awareness_Programs                  Yes  \n",
              "Prevention_Measures                 Yes  \n",
              "Recovery_Rate                  0.845009  \n",
              "Mortality_Rate                  0.18829  \n",
              "Vaccination                         Yes  \n",
              "Medication                          Yes  \n",
              "Surgery_Options                     Yes  "
            ],
            "text/html": [
              "\n",
              "  <div id=\"df-a6b90885-d5ae-4591-ad3e-ba618d4a3f8e\" class=\"colab-df-container\">\n",
              "    <div>\n",
              "<style scoped>\n",
              "    .dataframe tbody tr th:only-of-type {\n",
              "        vertical-align: middle;\n",
              "    }\n",
              "\n",
              "    .dataframe tbody tr th {\n",
              "        vertical-align: top;\n",
              "    }\n",
              "\n",
              "    .dataframe thead th {\n",
              "        text-align: right;\n",
              "    }\n",
              "</style>\n",
              "<table border=\"1\" class=\"dataframe\">\n",
              "  <thead>\n",
              "    <tr style=\"text-align: right;\">\n",
              "      <th></th>\n",
              "      <th>0</th>\n",
              "      <th>1</th>\n",
              "      <th>2</th>\n",
              "      <th>3</th>\n",
              "      <th>4</th>\n",
              "    </tr>\n",
              "  </thead>\n",
              "  <tbody>\n",
              "    <tr>\n",
              "      <th>Country</th>\n",
              "      <td>Afghanistan</td>\n",
              "      <td>Albania</td>\n",
              "      <td>Algeria</td>\n",
              "      <td>Andorra</td>\n",
              "      <td>Angola</td>\n",
              "    </tr>\n",
              "    <tr>\n",
              "      <th>Population</th>\n",
              "      <td>28638530</td>\n",
              "      <td>37734135</td>\n",
              "      <td>22050908</td>\n",
              "      <td>20250586</td>\n",
              "      <td>24667186</td>\n",
              "    </tr>\n",
              "    <tr>\n",
              "      <th>Eye_Disease</th>\n",
              "      <td>Glaucoma</td>\n",
              "      <td>Glaucoma</td>\n",
              "      <td>Glaucoma</td>\n",
              "      <td>Glaucoma</td>\n",
              "      <td>Glaucoma</td>\n",
              "    </tr>\n",
              "    <tr>\n",
              "      <th>Affected_People_Male</th>\n",
              "      <td>15577</td>\n",
              "      <td>30759</td>\n",
              "      <td>47194</td>\n",
              "      <td>46621</td>\n",
              "      <td>54498</td>\n",
              "    </tr>\n",
              "    <tr>\n",
              "      <th>Affected_People_Female</th>\n",
              "      <td>77855</td>\n",
              "      <td>14117</td>\n",
              "      <td>51195</td>\n",
              "      <td>21502</td>\n",
              "      <td>34219</td>\n",
              "    </tr>\n",
              "    <tr>\n",
              "      <th>Blindness_Cases_Male</th>\n",
              "      <td>2662</td>\n",
              "      <td>5688</td>\n",
              "      <td>4306</td>\n",
              "      <td>1445</td>\n",
              "      <td>1709</td>\n",
              "    </tr>\n",
              "    <tr>\n",
              "      <th>Blindness_Cases_Female</th>\n",
              "      <td>3863</td>\n",
              "      <td>6738</td>\n",
              "      <td>5133</td>\n",
              "      <td>5805</td>\n",
              "      <td>6146</td>\n",
              "    </tr>\n",
              "    <tr>\n",
              "      <th>Healthcare_Cost</th>\n",
              "      <td>519206</td>\n",
              "      <td>584037</td>\n",
              "      <td>661147</td>\n",
              "      <td>555390</td>\n",
              "      <td>370512</td>\n",
              "    </tr>\n",
              "    <tr>\n",
              "      <th>Productivity_Loss</th>\n",
              "      <td>466059</td>\n",
              "      <td>662877</td>\n",
              "      <td>576810</td>\n",
              "      <td>110035</td>\n",
              "      <td>659504</td>\n",
              "    </tr>\n",
              "    <tr>\n",
              "      <th>Region</th>\n",
              "      <td>Asia</td>\n",
              "      <td>Europe</td>\n",
              "      <td>Africa</td>\n",
              "      <td>Europe</td>\n",
              "      <td>Africa</td>\n",
              "    </tr>\n",
              "    <tr>\n",
              "      <th>Age_Group</th>\n",
              "      <td>51-60</td>\n",
              "      <td>51-60</td>\n",
              "      <td>71+</td>\n",
              "      <td>71+</td>\n",
              "      <td>51-60</td>\n",
              "    </tr>\n",
              "    <tr>\n",
              "      <th>Treatment_Availability_Male</th>\n",
              "      <td>Yes</td>\n",
              "      <td>Yes</td>\n",
              "      <td>No</td>\n",
              "      <td>Yes</td>\n",
              "      <td>Yes</td>\n",
              "    </tr>\n",
              "    <tr>\n",
              "      <th>Treatment_Availability_Female</th>\n",
              "      <td>Yes</td>\n",
              "      <td>Yes</td>\n",
              "      <td>Yes</td>\n",
              "      <td>Yes</td>\n",
              "      <td>Yes</td>\n",
              "    </tr>\n",
              "    <tr>\n",
              "      <th>Medical_Facilities</th>\n",
              "      <td>Yes</td>\n",
              "      <td>Yes</td>\n",
              "      <td>Yes</td>\n",
              "      <td>Yes</td>\n",
              "      <td>No</td>\n",
              "    </tr>\n",
              "    <tr>\n",
              "      <th>Research_Funding</th>\n",
              "      <td>435229</td>\n",
              "      <td>646972</td>\n",
              "      <td>404262</td>\n",
              "      <td>566361</td>\n",
              "      <td>715049</td>\n",
              "    </tr>\n",
              "    <tr>\n",
              "      <th>Awareness_Programs</th>\n",
              "      <td>No</td>\n",
              "      <td>Yes</td>\n",
              "      <td>No</td>\n",
              "      <td>No</td>\n",
              "      <td>Yes</td>\n",
              "    </tr>\n",
              "    <tr>\n",
              "      <th>Prevention_Measures</th>\n",
              "      <td>Yes</td>\n",
              "      <td>No</td>\n",
              "      <td>No</td>\n",
              "      <td>Yes</td>\n",
              "      <td>Yes</td>\n",
              "    </tr>\n",
              "    <tr>\n",
              "      <th>Recovery_Rate</th>\n",
              "      <td>0.160787</td>\n",
              "      <td>0.952156</td>\n",
              "      <td>0.574042</td>\n",
              "      <td>0.493378</td>\n",
              "      <td>0.845009</td>\n",
              "    </tr>\n",
              "    <tr>\n",
              "      <th>Mortality_Rate</th>\n",
              "      <td>0.956378</td>\n",
              "      <td>0.721031</td>\n",
              "      <td>0.502806</td>\n",
              "      <td>0.689884</td>\n",
              "      <td>0.18829</td>\n",
              "    </tr>\n",
              "    <tr>\n",
              "      <th>Vaccination</th>\n",
              "      <td>Yes</td>\n",
              "      <td>Yes</td>\n",
              "      <td>Yes</td>\n",
              "      <td>Yes</td>\n",
              "      <td>Yes</td>\n",
              "    </tr>\n",
              "    <tr>\n",
              "      <th>Medication</th>\n",
              "      <td>Yes</td>\n",
              "      <td>Yes</td>\n",
              "      <td>No</td>\n",
              "      <td>No</td>\n",
              "      <td>Yes</td>\n",
              "    </tr>\n",
              "    <tr>\n",
              "      <th>Surgery_Options</th>\n",
              "      <td>No</td>\n",
              "      <td>Yes</td>\n",
              "      <td>Yes</td>\n",
              "      <td>No</td>\n",
              "      <td>Yes</td>\n",
              "    </tr>\n",
              "  </tbody>\n",
              "</table>\n",
              "</div>\n",
              "    <div class=\"colab-df-buttons\">\n",
              "\n",
              "  <div class=\"colab-df-container\">\n",
              "    <button class=\"colab-df-convert\" onclick=\"convertToInteractive('df-a6b90885-d5ae-4591-ad3e-ba618d4a3f8e')\"\n",
              "            title=\"Convert this dataframe to an interactive table.\"\n",
              "            style=\"display:none;\">\n",
              "\n",
              "  <svg xmlns=\"http://www.w3.org/2000/svg\" height=\"24px\" viewBox=\"0 -960 960 960\">\n",
              "    <path d=\"M120-120v-720h720v720H120Zm60-500h600v-160H180v160Zm220 220h160v-160H400v160Zm0 220h160v-160H400v160ZM180-400h160v-160H180v160Zm440 0h160v-160H620v160ZM180-180h160v-160H180v160Zm440 0h160v-160H620v160Z\"/>\n",
              "  </svg>\n",
              "    </button>\n",
              "\n",
              "  <style>\n",
              "    .colab-df-container {\n",
              "      display:flex;\n",
              "      gap: 12px;\n",
              "    }\n",
              "\n",
              "    .colab-df-convert {\n",
              "      background-color: #E8F0FE;\n",
              "      border: none;\n",
              "      border-radius: 50%;\n",
              "      cursor: pointer;\n",
              "      display: none;\n",
              "      fill: #1967D2;\n",
              "      height: 32px;\n",
              "      padding: 0 0 0 0;\n",
              "      width: 32px;\n",
              "    }\n",
              "\n",
              "    .colab-df-convert:hover {\n",
              "      background-color: #E2EBFA;\n",
              "      box-shadow: 0px 1px 2px rgba(60, 64, 67, 0.3), 0px 1px 3px 1px rgba(60, 64, 67, 0.15);\n",
              "      fill: #174EA6;\n",
              "    }\n",
              "\n",
              "    .colab-df-buttons div {\n",
              "      margin-bottom: 4px;\n",
              "    }\n",
              "\n",
              "    [theme=dark] .colab-df-convert {\n",
              "      background-color: #3B4455;\n",
              "      fill: #D2E3FC;\n",
              "    }\n",
              "\n",
              "    [theme=dark] .colab-df-convert:hover {\n",
              "      background-color: #434B5C;\n",
              "      box-shadow: 0px 1px 3px 1px rgba(0, 0, 0, 0.15);\n",
              "      filter: drop-shadow(0px 1px 2px rgba(0, 0, 0, 0.3));\n",
              "      fill: #FFFFFF;\n",
              "    }\n",
              "  </style>\n",
              "\n",
              "    <script>\n",
              "      const buttonEl =\n",
              "        document.querySelector('#df-a6b90885-d5ae-4591-ad3e-ba618d4a3f8e button.colab-df-convert');\n",
              "      buttonEl.style.display =\n",
              "        google.colab.kernel.accessAllowed ? 'block' : 'none';\n",
              "\n",
              "      async function convertToInteractive(key) {\n",
              "        const element = document.querySelector('#df-a6b90885-d5ae-4591-ad3e-ba618d4a3f8e');\n",
              "        const dataTable =\n",
              "          await google.colab.kernel.invokeFunction('convertToInteractive',\n",
              "                                                    [key], {});\n",
              "        if (!dataTable) return;\n",
              "\n",
              "        const docLinkHtml = 'Like what you see? Visit the ' +\n",
              "          '<a target=\"_blank\" href=https://colab.research.google.com/notebooks/data_table.ipynb>data table notebook</a>'\n",
              "          + ' to learn more about interactive tables.';\n",
              "        element.innerHTML = '';\n",
              "        dataTable['output_type'] = 'display_data';\n",
              "        await google.colab.output.renderOutput(dataTable, element);\n",
              "        const docLink = document.createElement('div');\n",
              "        docLink.innerHTML = docLinkHtml;\n",
              "        element.appendChild(docLink);\n",
              "      }\n",
              "    </script>\n",
              "  </div>\n",
              "\n",
              "\n",
              "<div id=\"df-2d24db95-4460-4b62-a58a-48fe4309afde\">\n",
              "  <button class=\"colab-df-quickchart\" onclick=\"quickchart('df-2d24db95-4460-4b62-a58a-48fe4309afde')\"\n",
              "            title=\"Suggest charts\"\n",
              "            style=\"display:none;\">\n",
              "\n",
              "<svg xmlns=\"http://www.w3.org/2000/svg\" height=\"24px\"viewBox=\"0 0 24 24\"\n",
              "     width=\"24px\">\n",
              "    <g>\n",
              "        <path d=\"M19 3H5c-1.1 0-2 .9-2 2v14c0 1.1.9 2 2 2h14c1.1 0 2-.9 2-2V5c0-1.1-.9-2-2-2zM9 17H7v-7h2v7zm4 0h-2V7h2v10zm4 0h-2v-4h2v4z\"/>\n",
              "    </g>\n",
              "</svg>\n",
              "  </button>\n",
              "\n",
              "<style>\n",
              "  .colab-df-quickchart {\n",
              "      --bg-color: #E8F0FE;\n",
              "      --fill-color: #1967D2;\n",
              "      --hover-bg-color: #E2EBFA;\n",
              "      --hover-fill-color: #174EA6;\n",
              "      --disabled-fill-color: #AAA;\n",
              "      --disabled-bg-color: #DDD;\n",
              "  }\n",
              "\n",
              "  [theme=dark] .colab-df-quickchart {\n",
              "      --bg-color: #3B4455;\n",
              "      --fill-color: #D2E3FC;\n",
              "      --hover-bg-color: #434B5C;\n",
              "      --hover-fill-color: #FFFFFF;\n",
              "      --disabled-bg-color: #3B4455;\n",
              "      --disabled-fill-color: #666;\n",
              "  }\n",
              "\n",
              "  .colab-df-quickchart {\n",
              "    background-color: var(--bg-color);\n",
              "    border: none;\n",
              "    border-radius: 50%;\n",
              "    cursor: pointer;\n",
              "    display: none;\n",
              "    fill: var(--fill-color);\n",
              "    height: 32px;\n",
              "    padding: 0;\n",
              "    width: 32px;\n",
              "  }\n",
              "\n",
              "  .colab-df-quickchart:hover {\n",
              "    background-color: var(--hover-bg-color);\n",
              "    box-shadow: 0 1px 2px rgba(60, 64, 67, 0.3), 0 1px 3px 1px rgba(60, 64, 67, 0.15);\n",
              "    fill: var(--button-hover-fill-color);\n",
              "  }\n",
              "\n",
              "  .colab-df-quickchart-complete:disabled,\n",
              "  .colab-df-quickchart-complete:disabled:hover {\n",
              "    background-color: var(--disabled-bg-color);\n",
              "    fill: var(--disabled-fill-color);\n",
              "    box-shadow: none;\n",
              "  }\n",
              "\n",
              "  .colab-df-spinner {\n",
              "    border: 2px solid var(--fill-color);\n",
              "    border-color: transparent;\n",
              "    border-bottom-color: var(--fill-color);\n",
              "    animation:\n",
              "      spin 1s steps(1) infinite;\n",
              "  }\n",
              "\n",
              "  @keyframes spin {\n",
              "    0% {\n",
              "      border-color: transparent;\n",
              "      border-bottom-color: var(--fill-color);\n",
              "      border-left-color: var(--fill-color);\n",
              "    }\n",
              "    20% {\n",
              "      border-color: transparent;\n",
              "      border-left-color: var(--fill-color);\n",
              "      border-top-color: var(--fill-color);\n",
              "    }\n",
              "    30% {\n",
              "      border-color: transparent;\n",
              "      border-left-color: var(--fill-color);\n",
              "      border-top-color: var(--fill-color);\n",
              "      border-right-color: var(--fill-color);\n",
              "    }\n",
              "    40% {\n",
              "      border-color: transparent;\n",
              "      border-right-color: var(--fill-color);\n",
              "      border-top-color: var(--fill-color);\n",
              "    }\n",
              "    60% {\n",
              "      border-color: transparent;\n",
              "      border-right-color: var(--fill-color);\n",
              "    }\n",
              "    80% {\n",
              "      border-color: transparent;\n",
              "      border-right-color: var(--fill-color);\n",
              "      border-bottom-color: var(--fill-color);\n",
              "    }\n",
              "    90% {\n",
              "      border-color: transparent;\n",
              "      border-bottom-color: var(--fill-color);\n",
              "    }\n",
              "  }\n",
              "</style>\n",
              "\n",
              "  <script>\n",
              "    async function quickchart(key) {\n",
              "      const quickchartButtonEl =\n",
              "        document.querySelector('#' + key + ' button');\n",
              "      quickchartButtonEl.disabled = true;  // To prevent multiple clicks.\n",
              "      quickchartButtonEl.classList.add('colab-df-spinner');\n",
              "      try {\n",
              "        const charts = await google.colab.kernel.invokeFunction(\n",
              "            'suggestCharts', [key], {});\n",
              "      } catch (error) {\n",
              "        console.error('Error during call to suggestCharts:', error);\n",
              "      }\n",
              "      quickchartButtonEl.classList.remove('colab-df-spinner');\n",
              "      quickchartButtonEl.classList.add('colab-df-quickchart-complete');\n",
              "    }\n",
              "    (() => {\n",
              "      let quickchartButtonEl =\n",
              "        document.querySelector('#df-2d24db95-4460-4b62-a58a-48fe4309afde button');\n",
              "      quickchartButtonEl.style.display =\n",
              "        google.colab.kernel.accessAllowed ? 'block' : 'none';\n",
              "    })();\n",
              "  </script>\n",
              "</div>\n",
              "    </div>\n",
              "  </div>\n"
            ]
          },
          "metadata": {},
          "execution_count": 2
        }
      ]
    },
    {
      "cell_type": "markdown",
      "source": [
        "#2. Data Preprocessing"
      ],
      "metadata": {
        "id": "5CkVmBbPPDHO"
      }
    },
    {
      "cell_type": "markdown",
      "source": [
        "##Inspect the Data\n",
        "\n",
        "The given Python code snippet is utilised for preliminary data analysis using pandas DataFrames.The program exhibits an initial subset of rows from the dataset, presents a concise overview containing information about the data kinds and the absence of null values, and generates summary statistics for columns that contain numerical data. This code serves as the initial stage in investigating and comprehending a dataset's fundamental characteristics and statistical qualities."
      ],
      "metadata": {
        "id": "PyWdTjTZQWdn"
      }
    },
    {
      "cell_type": "code",
      "source": [
        "# Install the 'tabulate' package using pip to format dataframes as ASCII tables\n",
        "!pip install tabulate\n"
      ],
      "metadata": {
        "colab": {
          "base_uri": "https://localhost:8080/"
        },
        "id": "B349ZBuTTSSI",
        "outputId": "ed538667-bdb7-4754-d250-e96b3c0901f1"
      },
      "execution_count": 3,
      "outputs": [
        {
          "output_type": "stream",
          "name": "stdout",
          "text": [
            "Requirement already satisfied: tabulate in /usr/local/lib/python3.10/dist-packages (0.9.0)\n"
          ]
        }
      ]
    },
    {
      "cell_type": "code",
      "source": [
        "# Import the 'io' module for in-memory text streams and 'tabulate' for table formatting\n",
        "import io\n",
        "from tabulate import tabulate\n",
        "\n",
        "# Display the first few rows of the dataset in a table format, transposed\n",
        "print(\"First few rows of the dataset (transposed):\")\n",
        "print(tabulate(data.head().T, headers='keys', tablefmt='psql'))\n",
        "\n",
        "# Get a summary of the dataset including data types and number of non-null values\n",
        "print(\"\\nDataset Info:\")\n",
        "buffer = io.StringIO()\n",
        "data.info(buf=buffer)\n",
        "info_string = buffer.getvalue()\n",
        "print(info_string)\n",
        "\n",
        "# Get summary statistics for numerical columns in a table format, transposed\n",
        "print(\"\\nSummary Statistics for Numerical Columns (transposed):\")\n",
        "print(tabulate(data.describe().T, headers='keys', tablefmt='psql'))\n",
        "\n"
      ],
      "metadata": {
        "colab": {
          "base_uri": "https://localhost:8080/"
        },
        "id": "gRwBbhmbTXUa",
        "outputId": "aef97c72-32fc-488a-a909-dbe33bebac61"
      },
      "execution_count": 4,
      "outputs": [
        {
          "output_type": "stream",
          "name": "stdout",
          "text": [
            "First few rows of the dataset (transposed):\n",
            "+-------------------------------+--------------------+--------------------+--------------------+--------------------+--------------------+\n",
            "|                               | 0                  | 1                  | 2                  | 3                  | 4                  |\n",
            "|-------------------------------+--------------------+--------------------+--------------------+--------------------+--------------------|\n",
            "| Country                       | Afghanistan        | Albania            | Algeria            | Andorra            | Angola             |\n",
            "| Population                    | 28638530           | 37734135           | 22050908           | 20250586           | 24667186           |\n",
            "| Eye_Disease                   | Glaucoma           | Glaucoma           | Glaucoma           | Glaucoma           | Glaucoma           |\n",
            "| Affected_People_Male          | 15577              | 30759              | 47194              | 46621              | 54498              |\n",
            "| Affected_People_Female        | 77855              | 14117              | 51195              | 21502              | 34219              |\n",
            "| Blindness_Cases_Male          | 2662               | 5688               | 4306               | 1445               | 1709               |\n",
            "| Blindness_Cases_Female        | 3863               | 6738               | 5133               | 5805               | 6146               |\n",
            "| Healthcare_Cost               | 519206             | 584037             | 661147             | 555390             | 370512             |\n",
            "| Productivity_Loss             | 466059             | 662877             | 576810             | 110035             | 659504             |\n",
            "| Region                        | Asia               | Europe             | Africa             | Europe             | Africa             |\n",
            "| Age_Group                     | 51-60              | 51-60              | 71+                | 71+                | 51-60              |\n",
            "| Treatment_Availability_Male   | Yes                | Yes                | No                 | Yes                | Yes                |\n",
            "| Treatment_Availability_Female | Yes                | Yes                | Yes                | Yes                | Yes                |\n",
            "| Medical_Facilities            | Yes                | Yes                | Yes                | Yes                | No                 |\n",
            "| Research_Funding              | 435229             | 646972             | 404262             | 566361             | 715049             |\n",
            "| Awareness_Programs            | No                 | Yes                | No                 | No                 | Yes                |\n",
            "| Prevention_Measures           | Yes                | No                 | No                 | Yes                | Yes                |\n",
            "| Recovery_Rate                 | 0.1607873840867508 | 0.9521564152967504 | 0.574042369060464  | 0.4933780091698383 | 0.8450094070980438 |\n",
            "| Mortality_Rate                | 0.9563781371276668 | 0.7210310195725357 | 0.5028062607304573 | 0.6898841683512259 | 0.188289574994264  |\n",
            "| Vaccination                   | Yes                | Yes                | Yes                | Yes                | Yes                |\n",
            "| Medication                    | Yes                | Yes                | No                 | No                 | Yes                |\n",
            "| Surgery_Options               | No                 | Yes                | Yes                | No                 | Yes                |\n",
            "+-------------------------------+--------------------+--------------------+--------------------+--------------------+--------------------+\n",
            "\n",
            "Dataset Info:\n",
            "<class 'pandas.core.frame.DataFrame'>\n",
            "RangeIndex: 196 entries, 0 to 195\n",
            "Data columns (total 22 columns):\n",
            " #   Column                         Non-Null Count  Dtype  \n",
            "---  ------                         --------------  -----  \n",
            " 0   Country                        196 non-null    object \n",
            " 1   Population                     196 non-null    int64  \n",
            " 2   Eye_Disease                    196 non-null    object \n",
            " 3   Affected_People_Male           196 non-null    int64  \n",
            " 4   Affected_People_Female         196 non-null    int64  \n",
            " 5   Blindness_Cases_Male           196 non-null    int64  \n",
            " 6   Blindness_Cases_Female         196 non-null    int64  \n",
            " 7   Healthcare_Cost                196 non-null    int64  \n",
            " 8   Productivity_Loss              196 non-null    int64  \n",
            " 9   Region                         196 non-null    object \n",
            " 10  Age_Group                      196 non-null    object \n",
            " 11  Treatment_Availability_Male    196 non-null    object \n",
            " 12  Treatment_Availability_Female  196 non-null    object \n",
            " 13  Medical_Facilities             196 non-null    object \n",
            " 14  Research_Funding               196 non-null    int64  \n",
            " 15  Awareness_Programs             196 non-null    object \n",
            " 16  Prevention_Measures            196 non-null    object \n",
            " 17  Recovery_Rate                  196 non-null    float64\n",
            " 18  Mortality_Rate                 196 non-null    float64\n",
            " 19  Vaccination                    196 non-null    object \n",
            " 20  Medication                     196 non-null    object \n",
            " 21  Surgery_Options                196 non-null    object \n",
            "dtypes: float64(2), int64(8), object(12)\n",
            "memory usage: 33.8+ KB\n",
            "\n",
            "\n",
            "Summary Statistics for Numerical Columns (transposed):\n",
            "+------------------------+---------+------------------+------------------+-----------------+------------------+-----------------+------------------+------------------+\n",
            "|                        |   count |             mean |              std |             min |              25% |             50% |              75% |              max |\n",
            "|------------------------+---------+------------------+------------------+-----------------+------------------+-----------------+------------------+------------------|\n",
            "| Population             |     196 |      2.44858e+07 |      9.89933e+06 |     -2.3435e+06 |      1.82177e+07 |      2.4384e+07 |      3.07432e+07 |      4.97485e+07 |\n",
            "| Affected_People_Male   |     196 |  48730.2         |  19162.9         |  -5966          |  36370.8         |  47514.5        |  60133.8         | 118438           |\n",
            "| Affected_People_Female |     196 |  50087.6         |  18362.7         |   9202          |  35415.8         |  51213          |  63926.8         | 108396           |\n",
            "| Blindness_Cases_Male   |     196 |   4897.85        |   2049.02        |   -963          |   3520           |   4605          |   6412.5         |  10506           |\n",
            "| Blindness_Cases_Female |     196 |   5175.55        |   2008.34        |   -865          |   3893           |   5397.5        |   6460.75        |   9594           |\n",
            "| Healthcare_Cost        |     196 | 479401           | 193094           | -39584          | 340152           | 487275          | 623755           |      1.03619e+06 |\n",
            "| Productivity_Loss      |     196 | 488051           | 204337           |  16328          | 350424           | 493796          | 612313           | 995182           |\n",
            "| Research_Funding       |     196 | 472043           | 183353           | -61019          | 361002           | 475590          | 592567           |      1.04731e+06 |\n",
            "| Recovery_Rate          |     196 |      0.535058    |      0.26821     |      0.100013   |      0.278434    |      0.520715   |      0.751448    |      0.999785    |\n",
            "| Mortality_Rate         |     196 |      0.553005    |      0.260489    |      0.103997   |      0.309051    |      0.550707   |      0.776737    |      0.994591    |\n",
            "+------------------------+---------+------------------+------------------+-----------------+------------------+-----------------+------------------+------------------+\n"
          ]
        }
      ]
    },
    {
      "cell_type": "markdown",
      "source": [
        "##Data Analysis\n",
        "\n",
        "The given dataset comprises data on eye illnesses, specifically Glaucoma, in various countries.The metrics encompassed in this analysis consist of factors such as the number of individuals impacted, expenditures related to healthcare, and rates of mortality.This thoroughly examines the data."
      ],
      "metadata": {
        "id": "jBIA5SabVqL6"
      }
    },
    {
      "cell_type": "markdown",
      "source": [
        "1. Data Overview\n",
        " - Countries and Regions: The data covers 196 countries across various regions.\n",
        " - Population: The populations of these countries vary, with some anomalies (negative values, which are likely data errors).\n",
        " - Gender Disparity in Disease Impact: The dataset includes separate counts for males and females affected by the disease.\n",
        "\n",
        "2. Key Statistics\n",
        " - Affected Population: The average number of affected males and females per country is 48,730 and 50,088, respectively. This suggests a slightly higher prevalence among females.\n",
        " - Blindness Cases: On average, there are 4,898 male and 5,176 female blindness cases per country, indicating a slightly higher impact on females.\n",
        " - Healthcare Costs and Productivity Loss: These figures are substantial, with average costs of around 479,401 and average productivity loss of around 488,051 per country.\n",
        " - Research Funding: The average research funding per country is approximately 472,043.\n",
        "\n",
        "3. Data Anomalies\n",
        "Negative Values: There are negative values in population, healthcare costs, and blindness cases. These are likely data entry errors or placeholders for missing data.\n",
        "\n",
        "4. Health Metrics\n",
        "Recovery and Mortality Rates: The average recovery rate is 53.5%, and the average mortality rate is 55.3%. This indicates a challenging health situation with a significant number of cases leading to mortality.\n",
        "\n",
        "5. Treatment and Prevention\n",
        "The data includes information on treatment availability, medical facilities, awareness programs, prevention measures, vaccination, medication, and surgery options. These variables are categorical (Yes/No) and suggest varied approaches to disease management across countries.\n",
        "\n",
        "6. Regional and Age Group Variations\n",
        "The dataset includes regions and age groups, which can be crucial for more in-depth analysis, such as understanding regional disparities or age-related vulnerability.\n",
        "\n",
        "7. Potential Data Quality Issues\n",
        "The presence of harmful and possibly erroneous data points suggests a need for data cleaning and validation.\n",
        "\n",
        "8. Limitations and Suggestions for Further Analysis\n",
        " - Age Group Analysis: The impact of Glaucoma across different age groups is not analyzed here but could provide valuable insights.\n",
        " - Regional Analysis: Further analysis could reveal regional patterns in disease prevalence, healthcare response, and outcomes.\n",
        " - Correlation Studies: Investigating correlations between variables (e.g., healthcare cost vs. recovery rate) could yield exciting findings.\n",
        " - Time-Series Analysis: If data over time is available, it could help understand trends and interventions' effectiveness.\n",
        "\n",
        "**Conclusion:**\n",
        "This dataset provides valuable insights into the global impact of Glaucoma, highlighting the burden on healthcare systems and the disparities in disease impact. However, data quality issues must be addressed for more accurate analysis and interpretation."
      ],
      "metadata": {
        "id": "0-NUsNI5W5MM"
      }
    },
    {
      "cell_type": "markdown",
      "source": [
        "##Handle Missing Values\n",
        "\n",
        "Once the missing values have been identified, we will determine a strategy for addressing them. This may entail eliminating the rows or columns that contain missing values or replacing them with a statistical measure, such as the mean or median for numerical data or the mode for categorical data."
      ],
      "metadata": {
        "id": "SKo77ZTMY-qq"
      }
    },
    {
      "cell_type": "code",
      "source": [
        "# Check for missing values\n",
        "missing_values = data.isnull().sum()\n",
        "print(\"Missing values in each column:\\n\", missing_values)\n"
      ],
      "metadata": {
        "colab": {
          "base_uri": "https://localhost:8080/"
        },
        "id": "2g0L8y5erEhL",
        "outputId": "8d3d3383-1b66-42ef-fe8b-652884b8befe"
      },
      "execution_count": 5,
      "outputs": [
        {
          "output_type": "stream",
          "name": "stdout",
          "text": [
            "Missing values in each column:\n",
            " Country                          0\n",
            "Population                       0\n",
            "Eye_Disease                      0\n",
            "Affected_People_Male             0\n",
            "Affected_People_Female           0\n",
            "Blindness_Cases_Male             0\n",
            "Blindness_Cases_Female           0\n",
            "Healthcare_Cost                  0\n",
            "Productivity_Loss                0\n",
            "Region                           0\n",
            "Age_Group                        0\n",
            "Treatment_Availability_Male      0\n",
            "Treatment_Availability_Female    0\n",
            "Medical_Facilities               0\n",
            "Research_Funding                 0\n",
            "Awareness_Programs               0\n",
            "Prevention_Measures              0\n",
            "Recovery_Rate                    0\n",
            "Mortality_Rate                   0\n",
            "Vaccination                      0\n",
            "Medication                       0\n",
            "Surgery_Options                  0\n",
            "dtype: int64\n"
          ]
        }
      ]
    },
    {
      "cell_type": "markdown",
      "source": [
        "The dataset is comprehensive and well-maintained, with no missing values across many variables about eye condition, healthcare impact, and treatment alternatives. The dataset comprises comprehensive demographic data, economic impact metrics, and health outcomes for thoroughly researching eye disease trends and intervention strategies. The inclusion of gender-specific data, as well as regional and age group information, indicates the usefulness of this research in addressing eye health issues in different groups."
      ],
      "metadata": {
        "id": "U2ugpE01tc5b"
      }
    },
    {
      "cell_type": "markdown",
      "source": [
        "##Identify and Address Outliers\n",
        "\n",
        "The provided code sample utilises the Interquartile Range (IQR) approach to detect and eliminate outliers from a dataset. It achieves this by computing the first and third quartiles (Q1 and Q3) and considering any values that fall more than 1.5 times the IQR below Q1 or above Q3 as outliers. The programme subsequently eliminates these anomalies from the dataset. It displays the dimensions of the dataset before and after this procedure to demonstrate the effect of outlier removal. A collaborative strategy is employed to mitigate the impact of outliers on the data analysis."
      ],
      "metadata": {
        "id": "vjEj9H5DuHxz"
      }
    },
    {
      "cell_type": "code",
      "source": [
        "# Import MATLAB-like interface for making plots and charts\n",
        "import matplotlib.pyplot as plt\n",
        "\n",
        "# Import Seaborn for data visualization with more attractive interface for creating statistical graphics.\n",
        "import seaborn as sns\n",
        "\n",
        "# Handling outliers using IQR\n",
        "Q1 = data.quantile(0.25)\n",
        "Q3 = data.quantile(0.75)\n",
        "IQR = Q3 - Q1\n",
        "\n",
        "# Define the bounds for the outliers\n",
        "lower_bound = Q1 - 1.5 * IQR\n",
        "upper_bound = Q3 + 1.5 * IQR\n",
        "\n",
        "# Print the bounds for outliers\n",
        "print(\"\\nLower Bound for Outliers:\\n\", lower_bound)\n",
        "print(\"\\nUpper Bound for Outliers:\\n\", upper_bound)\n",
        "\n",
        "# Print the shape of data before removing outliers\n",
        "print(\"\\nShape of data before removing outliers:\", data.shape)\n",
        "print()\n",
        "\n",
        "# Plot before removing outliers\n",
        "plt.figure(figsize=(12, 6))\n",
        "plt.title(\"Data Before Removing Outliers\")\n",
        "sns.boxplot(data=data, orient='h')  # Set orientation to horizontal\n",
        "plt.show()\n",
        "\n",
        "# Remove outliers or cap them\n",
        "data_cleaned = data[~((data < (Q1 - 1.5 * IQR)) |(data > (Q3 + 1.5 * IQR))).any(axis=1)]\n",
        "\n",
        "# Print the shape of data after removing outliers\n",
        "print(\"\\nShape of data after removing outliers:\", data_cleaned.shape)\n",
        "print()\n",
        "\n",
        "# Plot after removing outliers\n",
        "plt.figure(figsize=(12, 6))\n",
        "plt.title(\"Data After Removing Outliers\")\n",
        "sns.boxplot(data=data_cleaned, orient='h')  # Set orientation to horizontal\n",
        "plt.show()\n"
      ],
      "metadata": {
        "colab": {
          "base_uri": "https://localhost:8080/",
          "height": 1000
        },
        "id": "fvLKdESAuPDY",
        "outputId": "42ead80b-f953-4da9-c7a6-256354a2d421"
      },
      "execution_count": 19,
      "outputs": [
        {
          "output_type": "stream",
          "name": "stderr",
          "text": [
            "<ipython-input-19-fcd2032ec889>:8: FutureWarning: The default value of numeric_only in DataFrame.quantile is deprecated. In a future version, it will default to False. Select only valid columns or specify the value of numeric_only to silence this warning.\n",
            "  Q1 = data.quantile(0.25)\n",
            "<ipython-input-19-fcd2032ec889>:9: FutureWarning: The default value of numeric_only in DataFrame.quantile is deprecated. In a future version, it will default to False. Select only valid columns or specify the value of numeric_only to silence this warning.\n",
            "  Q3 = data.quantile(0.75)\n"
          ]
        },
        {
          "output_type": "stream",
          "name": "stdout",
          "text": [
            "\n",
            "Lower Bound for Outliers:\n",
            " Population               -1.643438e+06\n",
            "Affected_People_Male      7.173500e+03\n",
            "Affected_People_Female   -7.097375e+03\n",
            "Blindness_Cases_Male     -9.085000e+02\n",
            "Blindness_Cases_Female    4.618750e+02\n",
            "Healthcare_Cost          -8.932900e+04\n",
            "Productivity_Loss        -2.915912e+04\n",
            "Research_Funding          3.542062e+04\n",
            "Recovery_Rate            -4.686708e-01\n",
            "Mortality_Rate           -4.254183e-01\n",
            "dtype: float64\n",
            "\n",
            "Upper Bound for Outliers:\n",
            " Population                5.036517e+07\n",
            "Affected_People_Male      8.844350e+04\n",
            "Affected_People_Female    1.085476e+05\n",
            "Blindness_Cases_Male      1.093750e+04\n",
            "Blindness_Cases_Female    1.013888e+04\n",
            "Healthcare_Cost           1.052621e+06\n",
            "Productivity_Loss         1.007632e+06\n",
            "Research_Funding          9.286436e+05\n",
            "Recovery_Rate             1.491142e+00\n",
            "Mortality_Rate            1.496608e+00\n",
            "dtype: float64\n",
            "\n",
            "Shape of data before removing outliers: (178, 22)\n",
            "\n"
          ]
        },
        {
          "output_type": "display_data",
          "data": {
            "text/plain": [
              "<Figure size 1200x600 with 1 Axes>"
            ],
            "image/png": "[encoded data removed]"
          },
          "metadata": {}
        },
        {
          "output_type": "stream",
          "name": "stderr",
          "text": [
            "<ipython-input-19-fcd2032ec889>:31: FutureWarning: Automatic reindexing on DataFrame vs Series comparisons is deprecated and will raise ValueError in a future version. Do `left, right = left.align(right, axis=1, copy=False)` before e.g. `left == right`\n",
            "  data_cleaned = data[~((data < (Q1 - 1.5 * IQR)) |(data > (Q3 + 1.5 * IQR))).any(axis=1)]\n"
          ]
        },
        {
          "output_type": "stream",
          "name": "stdout",
          "text": [
            "\n",
            "Shape of data after removing outliers: (170, 22)\n",
            "\n"
          ]
        },
        {
          "output_type": "display_data",
          "data": {
            "text/plain": [
              "<Figure size 1200x600 with 1 Axes>"
            ],
            "image/png": "[encoded data removed]"
          },
          "metadata": {}
        }
      ]
    },
    {
      "cell_type": "markdown",
      "source": [
        "Identifying outlier bounds has revealed the presence of values within the dataset that are considered outliers for many variables. For example, negative lower bounds for variables such as 'Population', 'Affected_People_Female', and 'Healthcare_Cost' indicate that outliers within these categories have values that are notably lower than the majority of the data. On the contrary, significantly elevated upper limits for these variables suggest the existence of unusually elevated values.\n",
        "The examination of variability across various metrics: 'Population', 'Affected People', 'Blindness Cases', 'Healthcare Cost', 'Productivity Loss', and 'Research Funding' exhibit a substantial disparity between their lower and upper ranges for outliers. This indicates notable heterogeneity in these measurements among various observations within the dataset.\n",
        "The process of data reduction involves the systematic reduction of data to a more manageable and concise form while still retaining the essential information. Post-Outlier Removal: Following the removal of outliers, the dataset experienced a reduction in size from 178 to 170, signifying the identification and subsequent removal of eight data points deemed outliers. This corresponds to around 4.5% of the initial dataset, indicating that outliers influenced a tiny yet significant proportion of the data.\n",
        "The findings above draw attention to the presence of outliers within the dataset and their consequential influence on the general distribution of the data. The exclusion of these outliers can enhance the precision and representativeness of analyses, particularly in measures that are susceptible to the influence of extreme results."
      ],
      "metadata": {
        "id": "sEDrfiHkS5hp"
      }
    },
    {
      "cell_type": "code",
      "source": [],
      "metadata": {
        "id": "XEbhTr5rUA8O"
      },
      "execution_count": null,
      "outputs": []
    }
  ]
}