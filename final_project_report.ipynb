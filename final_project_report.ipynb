{
  "nbformat": 4,
  "nbformat_minor": 0,
  "metadata": {
    "colab": {
      "provenance": [],
      "toc_visible": true,
      "authorship_tag": "ABX9TyMEtUBYdNTmgJ/yG0q6fFHv",
      "include_colab_link": true
    },
    "kernelspec": {
      "name": "python3",
      "display_name": "Python 3"
    },
    "language_info": {
      "name": "python"
    }
  },
  "cells": [
    {
      "cell_type": "markdown",
      "metadata": {
        "id": "view-in-github",
        "colab_type": "text"
      },
      "source": [
        "<a href=\"https://colab.research.google.com/github/carlos-alves-one/-Eye-Disease-Analysis/blob/main/final_project_report.ipynb\" target=\"_parent\"><img src=\"https://colab.research.google.com/assets/colab-badge.svg\" alt=\"Open In Colab\"/></a>"
      ]
    },
    {
      "cell_type": "markdown",
      "source": [
        "### Goldsmiths University of London\n",
        "### MSc. Data Science and Artificial Intelligence\n",
        "### Module: Data Programming\n",
        "### Author: Carlos Manuel De Oliveira Alves\n",
        "### Student: cdeol003"
      ],
      "metadata": {
        "id": "jwk-RHnwdsHz"
      }
    },
    {
      "cell_type": "markdown",
      "source": [
        "# Final Project Report"
      ],
      "metadata": {
        "id": "8eSaYfD5enNr"
      }
    },
    {
      "cell_type": "markdown",
      "source": [
        "- Theme: Eye Diseases Analysis\n",
        "\n",
        "- Scope: Project could focus on datasets related to various eye diseases, their prevalence in different demographics, causes, symptoms, and treatments. This could include data from various research studies, hospitals, and health organizations.\n",
        "\n",
        "- Project: \"Prevalence and Risk Factors of Glaucoma: An Analysis of Global Data in AI-Driven Research\"\n"
      ],
      "metadata": {
        "id": "FCUNcGpuez05"
      }
    },
    {
      "cell_type": "markdown",
      "source": [
        "#Aims, Objectives and Background"
      ],
      "metadata": {
        "id": "l8y5dz1C1gWU"
      }
    },
    {
      "cell_type": "markdown",
      "source": [
        "##Introduction"
      ],
      "metadata": {
        "id": "t_etYUzW1pNb"
      }
    },
    {
      "cell_type": "markdown",
      "source": [
        "**The Role of Artificial Intelligence in Addressing the Global Challenge of Glaucoma**\n",
        "\n",
        "Introduction:\n",
        "\n",
        "Within the dynamic realm of healthcare, glaucoma presents itself as a noteworthy public health concern, discreetly and progressively compromising visual acuity on a global scale. This report explores the significant contribution of artificial intelligence (AI) in comprehending and addressing the prevalent ocular ailment. In this study, we will examine the characteristics of glaucoma, the notable developments made by artificial intelligence (AI) in healthcare, and the utilisation of AI in the present research to gain insights into the worldwide implications of glaucoma. The primary objective is to enhance tactics related to preventing, detecting, and treating this condition.\n"
      ],
      "metadata": {
        "id": "8JIlURDs1w5k"
      }
    }
  ]
}