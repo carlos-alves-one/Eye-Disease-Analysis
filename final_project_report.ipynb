{
  "nbformat": 4,
  "nbformat_minor": 0,
  "metadata": {
    "colab": {
      "provenance": [],
      "toc_visible": true,
      "include_colab_link": true
    },
    "kernelspec": {
      "name": "python3",
      "display_name": "Python 3"
    },
    "language_info": {
      "name": "python"
    }
  },
  "cells": [
    {
      "cell_type": "markdown",
      "metadata": {
        "id": "view-in-github",
        "colab_type": "text"
      },
      "source": [
        "<a href=\"https://colab.research.google.com/github/carlos-alves-one/-Eye-Disease-Analysis/blob/main/final_project_report.ipynb\" target=\"_parent\"><img src=\"https://colab.research.google.com/assets/colab-badge.svg\" alt=\"Open In Colab\"/></a>"
      ]
    },
    {
      "cell_type": "markdown",
      "source": [
        "### Goldsmiths University of London\n",
        "### MSc. Data Science and Artificial Intelligence\n",
        "### Module: Data Programming\n",
        "### Author: Carlos Manuel De Oliveira Alves\n",
        "### Student: cdeol003"
      ],
      "metadata": {
        "id": "jwk-RHnwdsHz"
      }
    },
    {
      "cell_type": "markdown",
      "source": [
        "# Final Project Report"
      ],
      "metadata": {
        "id": "8eSaYfD5enNr"
      }
    },
    {
      "cell_type": "markdown",
      "source": [
        "- Theme: Eye Diseases Analysis\n",
        "\n",
        "- Scope: Project could focus on datasets related to various eye diseases, their prevalence in different demographics, causes, symptoms, and treatments. This could include data from various research studies, hospitals, and health organizations.\n",
        "\n",
        "- Project: \"Prevalence and Risk Factors of Glaucoma: An Analysis of Global Data in AI-Driven Research\"\n"
      ],
      "metadata": {
        "id": "FCUNcGpuez05"
      }
    },
    {
      "cell_type": "markdown",
      "source": [
        "#Aims and Objectives"
      ],
      "metadata": {
        "id": "l8y5dz1C1gWU"
      }
    },
    {
      "cell_type": "markdown",
      "source": [
        "##Introduction"
      ],
      "metadata": {
        "id": "t_etYUzW1pNb"
      }
    },
    {
      "cell_type": "markdown",
      "source": [
        "**The Role of Artificial Intelligence in Addressing the Global Challenge of Glaucoma**\n",
        "\n",
        "Within the dynamic realm of healthcare, glaucoma presents itself as a noteworthy public health concern, discreetly and progressively compromising visual acuity on a global scale. This report explores the significant contribution of artificial intelligence (AI) in comprehending and addressing the prevalent ocular ailment. In this study, we will examine the characteristics of glaucoma, the notable developments made by artificial intelligence (AI) in healthcare, and the utilisation of AI in the present research to gain insights into the worldwide implications of glaucoma. The primary objective is to enhance tactics related to preventing, detecting, and treating this condition.\n"
      ],
      "metadata": {
        "id": "8JIlURDs1w5k"
      }
    },
    {
      "cell_type": "markdown",
      "source": [
        "1. Glaucoma Overview\n",
        "\n",
        "Definition and Impact:\n",
        "Glaucoma, commonly called the \"silent thief of sight,\" is a collection of ocular ailments distinguished by optic nerve impairment resulting in permanent visual deterioration. The insidious character of this phenomenon presents a formidable obstacle in early detection since it frequently advances without manifesting recognisable signs. Glaucoma, a leading cause of irreversible visual impairment on a global scale, poses a substantial burden by detrimentally impacting both the individual's quality of life and imposing economic obstacles.\n",
        "\n",
        "Demographic Considerations:\n",
        "The incidence of glaucoma is anticipated to rise in tandem with the advancing age of the worldwide population. The current increase in cases highlights the need for a more comprehensive comprehension of the disease's diverse prevalence and risk factors throughout various geographical areas and demographic groups. The convergence of globalisation and demographic changes amplifies the necessity for a thorough and sophisticated strategy in addressing this ailment.\n",
        "\n",
        "2. Role of Artificial Intelligence (AI) in Glaucoma Research\n",
        "\n",
        "AI in Healthcare:\n",
        "The achievements of artificial intelligence (AI) have had a profound impact on the healthcare industry, offering groundbreaking tools for comprehending and addressing a wide range of medical disorders, such as glaucoma. Through the utilisation of sophisticated algorithms and machine learning techniques, artificial intelligence (AI) has the capability to analyse extensive volumes of worldwide data, thereby revealing concealed patterns, trends, and interrelationships that would otherwise remain undisclosed.\n",
        "\n",
        "AI's Contribution to Understanding Glaucoma:\n",
        "The utilisation of artificial intelligence (AI) in the field of glaucoma research presents novel opportunities for comprehensive comprehension. This facilitates the identification of elements that contribute to the disease and allows for establishing proactive and tailored treatment strategies. This technological advancement can significantly transform our approach to glaucoma, transitioning from a reactive therapy model to a proactive and individualised strategy.\n",
        "\n",
        "3. Purpose of the Current Study\n",
        "\n",
        "Utilising AI to Explore Glaucoma Data:\n",
        "The present study utilises artificial intelligence (AI) to perform an extensive examination of worldwide databases about glaucoma. This study aims to investigate the prevalence rates and intricate risk factors related to the disease beyond regional and demographic limitations.\n",
        "\n",
        "Aiming for Actionable Insights:\n",
        "The research has been structured to offer practical and applicable knowledge to healthcare practitioners, scholars, and decision-makers. This study aims to provide guidance for preventive measures, improve early detection tools, and inform the development of effective treatment options by presenting a more detailed understanding of the dynamics of glaucoma.\n",
        "\n",
        "Envisioning a Brighter Visual Future:\n",
        "In the end, the findings obtained from this study, which utilises artificial intelligence, possess the capacity to influence a forthcoming era characterised by a substantial decrease in vision impairment resulting from glaucoma. The study seeks to enhance global visual health outcomes by informing and influencing healthcare practises and policies to minimise the impact of a significant and often overlooked threat.\n",
        "\n",
        "Conclusion:\n",
        "In summary, the convergence of artificial intelligence (AI) with the healthcare field, specifically in the context of glaucoma research, signifies the advent of a novel era characterised by enhanced medical knowledge and interventions. This study signifies a crucial advancement in utilising artificial intelligence (AI) to comprehend and comprehensively address the challenges posed by glaucoma worldwide. The ongoing integration of technology and medicine presents significant opportunities for revolutionising healthcare results, significantly impacting the well-being of those at risk of or already impacted by glaucoma."
      ],
      "metadata": {
        "id": "PBWd08tXCtyt"
      }
    },
    {
      "cell_type": "markdown",
      "source": [
        "##Aims"
      ],
      "metadata": {
        "id": "O-J5ZH5IB_jR"
      }
    },
    {
      "cell_type": "markdown",
      "source": [
        "**Unveiling the Global Landscape of Glaucoma: An AI-Driven Approach**\n",
        "\n",
        "Glaucoma, a prominent aetiology of permanent visual impairment on a global scale, poses a substantial public health dilemma owing to its insidious advancement and diverse epidemiological characteristics. To tackle this difficulty effectively, it is vital to comprehensively comprehend its worldwide occurrence and the components contributing to its risk. This report presents a research endeavour that seeks to utilise artificial intelligence (AI) to analyse extensive datasets and offer a thorough understanding of the prevalence of glaucoma and its related dangers. Through the utilisation of artificial intelligence (AI), this research endeavour endeavours to augment our comprehension of glaucoma, with the ultimate objective of making valuable contributions to the advancement of productive solutions for prevention and therapy."
      ],
      "metadata": {
        "id": "lpqlIEvs124i"
      }
    },
    {
      "cell_type": "markdown",
      "source": [
        "\n",
        "1. Understanding Global Glaucoma Prevalence\n",
        "\n",
        ">*Comprehensive Analysis*\n",
        "\n",
        "The primary objective of this study is to perform a comprehensive investigation of the worldwide prevalence of glaucoma. This entails evaluating the incidence of the disease among different geographical areas and demographic groups. The primary objective of this study is to shed light on the many epidemiological patterns associated with glaucoma, thereby providing a comprehensive worldwide outlook on its implications.\n",
        "\n",
        ">*Epidemiological Insights*\n",
        "\n",
        "Comprehending these trends is of utmost importance in discerning the impact of glaucoma on various demographic cohorts. These insights can influence healthcare methods customised for specific communities, improving the efficacy of public health efforts.\n",
        "\n",
        "2. Investigation of Glaucoma Risk Factors\n",
        "\n",
        ">*Identifying Core Risk Factors*\n",
        "\n",
        "An essential component of this study entails identifying and analysing the underlying risk factors that are inherently linked to the development and progression of glaucoma. This entails exploring the aetiology, correlations, and probable pathophysiological processes behind the onset of the disease.\n",
        "\n",
        ">*Towards Prevention and Treatment*\n",
        "\n",
        "A complete understanding of these risk variables is necessary to formulate precise preventive strategies and therapeutic interventions. This understanding could contribute to developing more individualised and pragmatic strategies for managing glaucoma, potentially decreasing the occurrence and severity of the condition.\n",
        "\n",
        "3. Utilizing AI for Data Analysis\n",
        "\n",
        ">*Leveraging AI Technologies*\n",
        "\n",
        "The research employs the sophisticated functionalities of artificial intelligence (AI) to handle and analyse extensive and intricate datasets effectively. Artificial intelligence (AI) technologies and approaches, such as machine learning and data mining, play a crucial role in enabling the efficient management, analysis, and interpretation of data derived from various geographical regions and diverse populations.\n",
        "\n",
        ">*Enhancing Analytical Efficiency*\n",
        "\n",
        "The utilisation of artificial intelligence (AI) within this research is anticipated to enhance the precision and effectiveness of the analytical procedure. The capacity of artificial intelligence (AI) to rapidly and accurately handle and analyse extensive volumes of data facilitates the generation of more refined and comprehensive insights compared to conventional data analysis techniques.\n",
        "\n",
        "\n",
        "**Conclusion**\n",
        "\n",
        "In summary, this research signifies a substantial advancement in comprehending the worldwide implications of glaucoma. By harnessing the capabilities of artificial intelligence, the objective is to offer a comprehensive examination of the prevalence and risk factors associated with the disease across diverse geographical areas and demographic groups. The findings derived from this study possess the capacity to guide public health policies, offer insights for clinical practices, and eventually contribute to the global prevention and treatment of glaucoma. With the increasing adoption of artificial intelligence (AI) and data analytics, there is a growing sense of optimism over the potential of these technologies to revolutionise healthcare and improve illness management. This holds particularly true for persons suffering from glaucoma and other related conditions, as these breakthroughs offer the promise of enhanced outcomes.\n"
      ],
      "metadata": {
        "id": "gexyOYqCCCW4"
      }
    },
    {
      "cell_type": "markdown",
      "source": [
        "##Objectives"
      ],
      "metadata": {
        "id": "Vc0Flp8Iyw3X"
      }
    },
    {
      "cell_type": "markdown",
      "source": [
        "**Harnessing AI to Illuminate the Global Landscape of Glaucoma: A Data-Driven Approach**\n",
        "\n",
        "The prevalence and risk factors of glaucoma, a prominent cause of irreversible blindness, require a comprehensive approach to comprehend the global burden it imposes. This report presents a systematic project that employs artificial intelligence (AI) to analyse worldwide glaucoma data. The primary objective of this research is to acquire and analyse data methodically to offer significant findings about patterns of glaucoma, characteristics that contribute to risk, and disparities across different regions. The primary objective is to provide valuable insights into efficient approaches for the timely identification, prevention, and treatment of glaucoma, aiming to improve patient outcomes worldwide."
      ],
      "metadata": {
        "id": "gRkBzEja2Q6j"
      }
    },
    {
      "cell_type": "markdown",
      "source": [
        "1. Objective of Data Collection\n",
        "\n",
        ">*Gathering Comprehensive Data*\n",
        "\n",
        "The initial stage entails the comprehensive acquisition of a dataset about glaucoma prevalence. This entails utilising data from reputable international organisations such as the World Health Organisation, national health databases, and diverse epidemiological studies. A dataset has been previously established in the project proposal for this undertaking.\n",
        "\n",
        ">*Categorizing Risk Factors*\n",
        "\n",
        "The data will be methodically classified to encompass potential risk factors, such as age, ethnicity, genetics, intraocular pressure, systemic health conditions, and environmental factors. The implementation of this comprehensive strategy guarantees that the investigation encompasses all pertinent factors that exert an influence on glaucoma.\n",
        "\n",
        "2. AI-Driven Data Analysis\n",
        "\n",
        ">*Utilizing Machine Learning*\n",
        "\n",
        "Machine learning techniques will be employed for pattern recognition and identifying interrelations within the data. This advanced approach facilitates discovering subtle connections and trends that traditional analysis methods might overlook.\n",
        "\n",
        ">*Statistical Methods Application*\n",
        "\n",
        "In this study, statistical approaches will be utilised to assess the relevance and influence of identified risk variables on the prevalence of glaucoma. This approach will provide a measurable comprehension of the respective roles played by these variables.\n",
        "\n",
        "3. Comprehensive Regional Analysis\n",
        "\n",
        ">*Regional Prevalence Patterns*\n",
        "\n",
        "The research will employ data segmentation according to geographical regions to identify and analyse significant patterns in the prevalence of glaucoma across different regions. This analysis will comprehensively understand how regional factors influence the disease.\n",
        "\n",
        ">*Risk Factor Significance Assessment*\n",
        "\n",
        "This study aims to examine the significance of risk variables in different locations, with a specific focus on identifying potential changes in the dynamics of glaucoma.\n",
        "\n",
        "4. Temporal Analysis\n",
        "\n",
        ">*Studying Time-Based Variations*\n",
        "\n",
        "This study aims to investigate the temporal fluctuations in glaucoma prevalence, thereby offering a historical framework to comprehend the evolution of the disease and probable future patterns. Due to the constraints imposed by the dataset, we have decided not to proceed with this analysis.\n",
        "\n",
        ">*Projecting Future Prevalence*\n",
        "\n",
        "The utilisation of present data and the identification of patterns will be employed to forecast the future prevalence of glaucoma, thereby facilitating proactive measures to address anticipated surges in the number of cases. We have decided not to proceed with the analysis.\n",
        "\n",
        "5. Development of Predictive Models\n",
        "\n",
        ">*AI-Based Prediction Models*\n",
        "\n",
        "Artificial intelligence (AI) methodologies will be employed to construct predictive models that estimate the probability of glaucoma development within different demographic cohorts, utilising recognised risk factors.\n",
        "\n",
        ">*Model Validation*\n",
        "\n",
        "The validation process will assess the correctness and dependability of these models by employing a specific subset of data, thereby confirming their suitability for real-world applications.\n",
        "\n",
        "6. Recommendations and Intervention Suggestions\n",
        "\n",
        ">*Evidence-Based Strategies*\n",
        "\n",
        "The project aims to present a comprehensive set of methods for the timely identification, prevention, and effective management of glaucoma. These strategies will be developed based on rigorous data analysis and informed by insights derived from artificial intelligence.\n",
        "\n",
        ">*Highlighting Future Research Avenues*\n",
        "\n",
        "Additionally, this study will identify and emphasise specific areas that warrant additional investigation and explore possible applications of artificial intelligence in augmenting the efficacy of glaucoma treatments.\n",
        "\n",
        "7. Project Conclusion\n",
        "\n",
        ">*Providing a Detailed Perspective*\n",
        "\n",
        "The objective of this research is to give a comprehensive examination of the worldwide glaucoma landscape, enhanced by the incorporation of insights derived from artificial intelligence analysis.\n",
        "\n",
        ">*Aiding Stakeholders*\n",
        "\n",
        "The primary objective is to provide healthcare professionals, policymakers, and researchers with a deeper level of knowledge and comprehension regarding glaucoma. This will facilitate informed decision-making and eventually enhance patient outcomes.\n",
        "\n",
        "**Conclusion**\n",
        "\n",
        "In essence, this study demonstrates the considerable influence of artificial intelligence in revolutionising healthcare research. Artificial intelligence (AI) in examining glaucoma data seeks to elucidate this ailment's worldwide occurrence and potential determinants, thereby imparting significant knowledge for its effective administration. This strategy facilitates comprehension of the current implications of glaucoma and equips individuals to anticipate and address its forthcoming obstacles, signifying a noteworthy advancement in the battle against this ocular ailment."
      ],
      "metadata": {
        "id": "A9hLeTRwyydc"
      }
    },
    {
      "cell_type": "markdown",
      "source": [
        "#Data Collection"
      ],
      "metadata": {
        "id": "JwdP2YtJMTmQ"
      }
    },
    {
      "cell_type": "markdown",
      "source": [
        "##1. Load the Data\n",
        "   - Connect to Google Drive to access the dataset\n",
        "   - Load the data from the provided CSV file."
      ],
      "metadata": {
        "id": "WJpwZmKhMzU0"
      }
    },
    {
      "cell_type": "code",
      "source": [
        "# Imports the 'drive' module from 'google.colab' and mounts the Google Drive to\n",
        "# the '/content/drive' directory in the Colab environment.\n",
        "from google.colab import drive\n",
        "drive.mount('/content/drive')"
      ],
      "metadata": {
        "colab": {
          "base_uri": "https://localhost:8080/"
        },
        "id": "3m12MJ4tOD5r",
        "outputId": "675961f5-05ae-4823-a8ee-24c1aeff1cc9"
      },
      "execution_count": 22,
      "outputs": [
        {
          "output_type": "stream",
          "name": "stdout",
          "text": [
            "Drive already mounted at /content/drive; to attempt to forcibly remount, call drive.mount(\"/content/drive\", force_remount=True).\n"
          ]
        }
      ]
    },
    {
      "cell_type": "code",
      "source": [
        "# Import the pandas library to read the data\n",
        "import pandas as pd\n",
        "\n",
        "# Load the dataset\n",
        "data = pd.read_csv('/content/drive/MyDrive/Glaucoma_Global_Analysis.csv')\n",
        "\n",
        "# Display the first few rows of the dataset\n",
        "data.head().T"
      ],
      "metadata": {
        "colab": {
          "base_uri": "https://localhost:8080/",
          "height": 739
        },
        "id": "-P_HigsWMz5c",
        "outputId": "1ca0fd5e-1461-4ecf-b4a8-4b69fa00606f"
      },
      "execution_count": 23,
      "outputs": [
        {
          "output_type": "execute_result",
          "data": {
            "text/plain": [
              "                                         0         1         2         3  \\\n",
              "Country                        Afghanistan   Albania   Algeria   Andorra   \n",
              "Population                        28638530  37734135  22050908  20250586   \n",
              "Eye_Disease                       Glaucoma  Glaucoma  Glaucoma  Glaucoma   \n",
              "Affected_People_Male                 15577     30759     47194     46621   \n",
              "Affected_People_Female               77855     14117     51195     21502   \n",
              "Blindness_Cases_Male                  2662      5688      4306      1445   \n",
              "Blindness_Cases_Female                3863      6738      5133      5805   \n",
              "Healthcare_Cost                     519206    584037    661147    555390   \n",
              "Productivity_Loss                   466059    662877    576810    110035   \n",
              "Region                                Asia    Europe    Africa    Europe   \n",
              "Age_Group                            51-60     51-60       71+       71+   \n",
              "Treatment_Availability_Male            Yes       Yes        No       Yes   \n",
              "Treatment_Availability_Female          Yes       Yes       Yes       Yes   \n",
              "Medical_Facilities                     Yes       Yes       Yes       Yes   \n",
              "Research_Funding                    435229    646972    404262    566361   \n",
              "Awareness_Programs                      No       Yes        No        No   \n",
              "Prevention_Measures                    Yes        No        No       Yes   \n",
              "Recovery_Rate                     0.160787  0.952156  0.574042  0.493378   \n",
              "Mortality_Rate                    0.956378  0.721031  0.502806  0.689884   \n",
              "Vaccination                            Yes       Yes       Yes       Yes   \n",
              "Medication                             Yes       Yes        No        No   \n",
              "Surgery_Options                         No       Yes       Yes        No   \n",
              "\n",
              "                                      4  \n",
              "Country                          Angola  \n",
              "Population                     24667186  \n",
              "Eye_Disease                    Glaucoma  \n",
              "Affected_People_Male              54498  \n",
              "Affected_People_Female            34219  \n",
              "Blindness_Cases_Male               1709  \n",
              "Blindness_Cases_Female             6146  \n",
              "Healthcare_Cost                  370512  \n",
              "Productivity_Loss                659504  \n",
              "Region                           Africa  \n",
              "Age_Group                         51-60  \n",
              "Treatment_Availability_Male         Yes  \n",
              "Treatment_Availability_Female       Yes  \n",
              "Medical_Facilities                   No  \n",
              "Research_Funding                 715049  \n",
              "Awareness_Programs                  Yes  \n",
              "Prevention_Measures                 Yes  \n",
              "Recovery_Rate                  0.845009  \n",
              "Mortality_Rate                  0.18829  \n",
              "Vaccination                         Yes  \n",
              "Medication                          Yes  \n",
              "Surgery_Options                     Yes  "
            ],
            "text/html": [
              "\n",
              "  <div id=\"df-e62e939c-f258-4139-b552-8f430b13a7b5\" class=\"colab-df-container\">\n",
              "    <div>\n",
              "<style scoped>\n",
              "    .dataframe tbody tr th:only-of-type {\n",
              "        vertical-align: middle;\n",
              "    }\n",
              "\n",
              "    .dataframe tbody tr th {\n",
              "        vertical-align: top;\n",
              "    }\n",
              "\n",
              "    .dataframe thead th {\n",
              "        text-align: right;\n",
              "    }\n",
              "</style>\n",
              "<table border=\"1\" class=\"dataframe\">\n",
              "  <thead>\n",
              "    <tr style=\"text-align: right;\">\n",
              "      <th></th>\n",
              "      <th>0</th>\n",
              "      <th>1</th>\n",
              "      <th>2</th>\n",
              "      <th>3</th>\n",
              "      <th>4</th>\n",
              "    </tr>\n",
              "  </thead>\n",
              "  <tbody>\n",
              "    <tr>\n",
              "      <th>Country</th>\n",
              "      <td>Afghanistan</td>\n",
              "      <td>Albania</td>\n",
              "      <td>Algeria</td>\n",
              "      <td>Andorra</td>\n",
              "      <td>Angola</td>\n",
              "    </tr>\n",
              "    <tr>\n",
              "      <th>Population</th>\n",
              "      <td>28638530</td>\n",
              "      <td>37734135</td>\n",
              "      <td>22050908</td>\n",
              "      <td>20250586</td>\n",
              "      <td>24667186</td>\n",
              "    </tr>\n",
              "    <tr>\n",
              "      <th>Eye_Disease</th>\n",
              "      <td>Glaucoma</td>\n",
              "      <td>Glaucoma</td>\n",
              "      <td>Glaucoma</td>\n",
              "      <td>Glaucoma</td>\n",
              "      <td>Glaucoma</td>\n",
              "    </tr>\n",
              "    <tr>\n",
              "      <th>Affected_People_Male</th>\n",
              "      <td>15577</td>\n",
              "      <td>30759</td>\n",
              "      <td>47194</td>\n",
              "      <td>46621</td>\n",
              "      <td>54498</td>\n",
              "    </tr>\n",
              "    <tr>\n",
              "      <th>Affected_People_Female</th>\n",
              "      <td>77855</td>\n",
              "      <td>14117</td>\n",
              "      <td>51195</td>\n",
              "      <td>21502</td>\n",
              "      <td>34219</td>\n",
              "    </tr>\n",
              "    <tr>\n",
              "      <th>Blindness_Cases_Male</th>\n",
              "      <td>2662</td>\n",
              "      <td>5688</td>\n",
              "      <td>4306</td>\n",
              "      <td>1445</td>\n",
              "      <td>1709</td>\n",
              "    </tr>\n",
              "    <tr>\n",
              "      <th>Blindness_Cases_Female</th>\n",
              "      <td>3863</td>\n",
              "      <td>6738</td>\n",
              "      <td>5133</td>\n",
              "      <td>5805</td>\n",
              "      <td>6146</td>\n",
              "    </tr>\n",
              "    <tr>\n",
              "      <th>Healthcare_Cost</th>\n",
              "      <td>519206</td>\n",
              "      <td>584037</td>\n",
              "      <td>661147</td>\n",
              "      <td>555390</td>\n",
              "      <td>370512</td>\n",
              "    </tr>\n",
              "    <tr>\n",
              "      <th>Productivity_Loss</th>\n",
              "      <td>466059</td>\n",
              "      <td>662877</td>\n",
              "      <td>576810</td>\n",
              "      <td>110035</td>\n",
              "      <td>659504</td>\n",
              "    </tr>\n",
              "    <tr>\n",
              "      <th>Region</th>\n",
              "      <td>Asia</td>\n",
              "      <td>Europe</td>\n",
              "      <td>Africa</td>\n",
              "      <td>Europe</td>\n",
              "      <td>Africa</td>\n",
              "    </tr>\n",
              "    <tr>\n",
              "      <th>Age_Group</th>\n",
              "      <td>51-60</td>\n",
              "      <td>51-60</td>\n",
              "      <td>71+</td>\n",
              "      <td>71+</td>\n",
              "      <td>51-60</td>\n",
              "    </tr>\n",
              "    <tr>\n",
              "      <th>Treatment_Availability_Male</th>\n",
              "      <td>Yes</td>\n",
              "      <td>Yes</td>\n",
              "      <td>No</td>\n",
              "      <td>Yes</td>\n",
              "      <td>Yes</td>\n",
              "    </tr>\n",
              "    <tr>\n",
              "      <th>Treatment_Availability_Female</th>\n",
              "      <td>Yes</td>\n",
              "      <td>Yes</td>\n",
              "      <td>Yes</td>\n",
              "      <td>Yes</td>\n",
              "      <td>Yes</td>\n",
              "    </tr>\n",
              "    <tr>\n",
              "      <th>Medical_Facilities</th>\n",
              "      <td>Yes</td>\n",
              "      <td>Yes</td>\n",
              "      <td>Yes</td>\n",
              "      <td>Yes</td>\n",
              "      <td>No</td>\n",
              "    </tr>\n",
              "    <tr>\n",
              "      <th>Research_Funding</th>\n",
              "      <td>435229</td>\n",
              "      <td>646972</td>\n",
              "      <td>404262</td>\n",
              "      <td>566361</td>\n",
              "      <td>715049</td>\n",
              "    </tr>\n",
              "    <tr>\n",
              "      <th>Awareness_Programs</th>\n",
              "      <td>No</td>\n",
              "      <td>Yes</td>\n",
              "      <td>No</td>\n",
              "      <td>No</td>\n",
              "      <td>Yes</td>\n",
              "    </tr>\n",
              "    <tr>\n",
              "      <th>Prevention_Measures</th>\n",
              "      <td>Yes</td>\n",
              "      <td>No</td>\n",
              "      <td>No</td>\n",
              "      <td>Yes</td>\n",
              "      <td>Yes</td>\n",
              "    </tr>\n",
              "    <tr>\n",
              "      <th>Recovery_Rate</th>\n",
              "      <td>0.160787</td>\n",
              "      <td>0.952156</td>\n",
              "      <td>0.574042</td>\n",
              "      <td>0.493378</td>\n",
              "      <td>0.845009</td>\n",
              "    </tr>\n",
              "    <tr>\n",
              "      <th>Mortality_Rate</th>\n",
              "      <td>0.956378</td>\n",
              "      <td>0.721031</td>\n",
              "      <td>0.502806</td>\n",
              "      <td>0.689884</td>\n",
              "      <td>0.18829</td>\n",
              "    </tr>\n",
              "    <tr>\n",
              "      <th>Vaccination</th>\n",
              "      <td>Yes</td>\n",
              "      <td>Yes</td>\n",
              "      <td>Yes</td>\n",
              "      <td>Yes</td>\n",
              "      <td>Yes</td>\n",
              "    </tr>\n",
              "    <tr>\n",
              "      <th>Medication</th>\n",
              "      <td>Yes</td>\n",
              "      <td>Yes</td>\n",
              "      <td>No</td>\n",
              "      <td>No</td>\n",
              "      <td>Yes</td>\n",
              "    </tr>\n",
              "    <tr>\n",
              "      <th>Surgery_Options</th>\n",
              "      <td>No</td>\n",
              "      <td>Yes</td>\n",
              "      <td>Yes</td>\n",
              "      <td>No</td>\n",
              "      <td>Yes</td>\n",
              "    </tr>\n",
              "  </tbody>\n",
              "</table>\n",
              "</div>\n",
              "    <div class=\"colab-df-buttons\">\n",
              "\n",
              "  <div class=\"colab-df-container\">\n",
              "    <button class=\"colab-df-convert\" onclick=\"convertToInteractive('df-e62e939c-f258-4139-b552-8f430b13a7b5')\"\n",
              "            title=\"Convert this dataframe to an interactive table.\"\n",
              "            style=\"display:none;\">\n",
              "\n",
              "  <svg xmlns=\"http://www.w3.org/2000/svg\" height=\"24px\" viewBox=\"0 -960 960 960\">\n",
              "    <path d=\"M120-120v-720h720v720H120Zm60-500h600v-160H180v160Zm220 220h160v-160H400v160Zm0 220h160v-160H400v160ZM180-400h160v-160H180v160Zm440 0h160v-160H620v160ZM180-180h160v-160H180v160Zm440 0h160v-160H620v160Z\"/>\n",
              "  </svg>\n",
              "    </button>\n",
              "\n",
              "  <style>\n",
              "    .colab-df-container {\n",
              "      display:flex;\n",
              "      gap: 12px;\n",
              "    }\n",
              "\n",
              "    .colab-df-convert {\n",
              "      background-color: #E8F0FE;\n",
              "      border: none;\n",
              "      border-radius: 50%;\n",
              "      cursor: pointer;\n",
              "      display: none;\n",
              "      fill: #1967D2;\n",
              "      height: 32px;\n",
              "      padding: 0 0 0 0;\n",
              "      width: 32px;\n",
              "    }\n",
              "\n",
              "    .colab-df-convert:hover {\n",
              "      background-color: #E2EBFA;\n",
              "      box-shadow: 0px 1px 2px rgba(60, 64, 67, 0.3), 0px 1px 3px 1px rgba(60, 64, 67, 0.15);\n",
              "      fill: #174EA6;\n",
              "    }\n",
              "\n",
              "    .colab-df-buttons div {\n",
              "      margin-bottom: 4px;\n",
              "    }\n",
              "\n",
              "    [theme=dark] .colab-df-convert {\n",
              "      background-color: #3B4455;\n",
              "      fill: #D2E3FC;\n",
              "    }\n",
              "\n",
              "    [theme=dark] .colab-df-convert:hover {\n",
              "      background-color: #434B5C;\n",
              "      box-shadow: 0px 1px 3px 1px rgba(0, 0, 0, 0.15);\n",
              "      filter: drop-shadow(0px 1px 2px rgba(0, 0, 0, 0.3));\n",
              "      fill: #FFFFFF;\n",
              "    }\n",
              "  </style>\n",
              "\n",
              "    <script>\n",
              "      const buttonEl =\n",
              "        document.querySelector('#df-e62e939c-f258-4139-b552-8f430b13a7b5 button.colab-df-convert');\n",
              "      buttonEl.style.display =\n",
              "        google.colab.kernel.accessAllowed ? 'block' : 'none';\n",
              "\n",
              "      async function convertToInteractive(key) {\n",
              "        const element = document.querySelector('#df-e62e939c-f258-4139-b552-8f430b13a7b5');\n",
              "        const dataTable =\n",
              "          await google.colab.kernel.invokeFunction('convertToInteractive',\n",
              "                                                    [key], {});\n",
              "        if (!dataTable) return;\n",
              "\n",
              "        const docLinkHtml = 'Like what you see? Visit the ' +\n",
              "          '<a target=\"_blank\" href=https://colab.research.google.com/notebooks/data_table.ipynb>data table notebook</a>'\n",
              "          + ' to learn more about interactive tables.';\n",
              "        element.innerHTML = '';\n",
              "        dataTable['output_type'] = 'display_data';\n",
              "        await google.colab.output.renderOutput(dataTable, element);\n",
              "        const docLink = document.createElement('div');\n",
              "        docLink.innerHTML = docLinkHtml;\n",
              "        element.appendChild(docLink);\n",
              "      }\n",
              "    </script>\n",
              "  </div>\n",
              "\n",
              "\n",
              "<div id=\"df-bcb9d08c-0ce7-4d1b-ae58-63d6ebf5f9db\">\n",
              "  <button class=\"colab-df-quickchart\" onclick=\"quickchart('df-bcb9d08c-0ce7-4d1b-ae58-63d6ebf5f9db')\"\n",
              "            title=\"Suggest charts\"\n",
              "            style=\"display:none;\">\n",
              "\n",
              "<svg xmlns=\"http://www.w3.org/2000/svg\" height=\"24px\"viewBox=\"0 0 24 24\"\n",
              "     width=\"24px\">\n",
              "    <g>\n",
              "        <path d=\"M19 3H5c-1.1 0-2 .9-2 2v14c0 1.1.9 2 2 2h14c1.1 0 2-.9 2-2V5c0-1.1-.9-2-2-2zM9 17H7v-7h2v7zm4 0h-2V7h2v10zm4 0h-2v-4h2v4z\"/>\n",
              "    </g>\n",
              "</svg>\n",
              "  </button>\n",
              "\n",
              "<style>\n",
              "  .colab-df-quickchart {\n",
              "      --bg-color: #E8F0FE;\n",
              "      --fill-color: #1967D2;\n",
              "      --hover-bg-color: #E2EBFA;\n",
              "      --hover-fill-color: #174EA6;\n",
              "      --disabled-fill-color: #AAA;\n",
              "      --disabled-bg-color: #DDD;\n",
              "  }\n",
              "\n",
              "  [theme=dark] .colab-df-quickchart {\n",
              "      --bg-color: #3B4455;\n",
              "      --fill-color: #D2E3FC;\n",
              "      --hover-bg-color: #434B5C;\n",
              "      --hover-fill-color: #FFFFFF;\n",
              "      --disabled-bg-color: #3B4455;\n",
              "      --disabled-fill-color: #666;\n",
              "  }\n",
              "\n",
              "  .colab-df-quickchart {\n",
              "    background-color: var(--bg-color);\n",
              "    border: none;\n",
              "    border-radius: 50%;\n",
              "    cursor: pointer;\n",
              "    display: none;\n",
              "    fill: var(--fill-color);\n",
              "    height: 32px;\n",
              "    padding: 0;\n",
              "    width: 32px;\n",
              "  }\n",
              "\n",
              "  .colab-df-quickchart:hover {\n",
              "    background-color: var(--hover-bg-color);\n",
              "    box-shadow: 0 1px 2px rgba(60, 64, 67, 0.3), 0 1px 3px 1px rgba(60, 64, 67, 0.15);\n",
              "    fill: var(--button-hover-fill-color);\n",
              "  }\n",
              "\n",
              "  .colab-df-quickchart-complete:disabled,\n",
              "  .colab-df-quickchart-complete:disabled:hover {\n",
              "    background-color: var(--disabled-bg-color);\n",
              "    fill: var(--disabled-fill-color);\n",
              "    box-shadow: none;\n",
              "  }\n",
              "\n",
              "  .colab-df-spinner {\n",
              "    border: 2px solid var(--fill-color);\n",
              "    border-color: transparent;\n",
              "    border-bottom-color: var(--fill-color);\n",
              "    animation:\n",
              "      spin 1s steps(1) infinite;\n",
              "  }\n",
              "\n",
              "  @keyframes spin {\n",
              "    0% {\n",
              "      border-color: transparent;\n",
              "      border-bottom-color: var(--fill-color);\n",
              "      border-left-color: var(--fill-color);\n",
              "    }\n",
              "    20% {\n",
              "      border-color: transparent;\n",
              "      border-left-color: var(--fill-color);\n",
              "      border-top-color: var(--fill-color);\n",
              "    }\n",
              "    30% {\n",
              "      border-color: transparent;\n",
              "      border-left-color: var(--fill-color);\n",
              "      border-top-color: var(--fill-color);\n",
              "      border-right-color: var(--fill-color);\n",
              "    }\n",
              "    40% {\n",
              "      border-color: transparent;\n",
              "      border-right-color: var(--fill-color);\n",
              "      border-top-color: var(--fill-color);\n",
              "    }\n",
              "    60% {\n",
              "      border-color: transparent;\n",
              "      border-right-color: var(--fill-color);\n",
              "    }\n",
              "    80% {\n",
              "      border-color: transparent;\n",
              "      border-right-color: var(--fill-color);\n",
              "      border-bottom-color: var(--fill-color);\n",
              "    }\n",
              "    90% {\n",
              "      border-color: transparent;\n",
              "      border-bottom-color: var(--fill-color);\n",
              "    }\n",
              "  }\n",
              "</style>\n",
              "\n",
              "  <script>\n",
              "    async function quickchart(key) {\n",
              "      const quickchartButtonEl =\n",
              "        document.querySelector('#' + key + ' button');\n",
              "      quickchartButtonEl.disabled = true;  // To prevent multiple clicks.\n",
              "      quickchartButtonEl.classList.add('colab-df-spinner');\n",
              "      try {\n",
              "        const charts = await google.colab.kernel.invokeFunction(\n",
              "            'suggestCharts', [key], {});\n",
              "      } catch (error) {\n",
              "        console.error('Error during call to suggestCharts:', error);\n",
              "      }\n",
              "      quickchartButtonEl.classList.remove('colab-df-spinner');\n",
              "      quickchartButtonEl.classList.add('colab-df-quickchart-complete');\n",
              "    }\n",
              "    (() => {\n",
              "      let quickchartButtonEl =\n",
              "        document.querySelector('#df-bcb9d08c-0ce7-4d1b-ae58-63d6ebf5f9db button');\n",
              "      quickchartButtonEl.style.display =\n",
              "        google.colab.kernel.accessAllowed ? 'block' : 'none';\n",
              "    })();\n",
              "  </script>\n",
              "</div>\n",
              "    </div>\n",
              "  </div>\n"
            ]
          },
          "metadata": {},
          "execution_count": 23
        }
      ]
    },
    {
      "cell_type": "markdown",
      "source": [
        "##Data Inspection\n"
      ],
      "metadata": {
        "id": "d0o_4EENiRby"
      }
    },
    {
      "cell_type": "markdown",
      "source": [
        "- Dataset Structure: It contains 196 entries and 22 columns.\n",
        "- Columns: The columns include information about the country, population, details about the eye disease (glaucoma in this case), numbers of affected people (male and\n",
        "  female), cases of blindness, healthcare costs, region, age group, and several other factors related to treatment, facilities, and outcomes.\n",
        "- Data Types: There are a mix of numerical (integers and floats) and categorical (objects) data types.\n",
        "- Potential Risk Factor Columns: Columns that might be related to risk factors include 'Age_Group', 'Region', and possibly others depending on the exact definitions\n",
        "  of the categories like 'Medical_Facilities', 'Awareness_Programs', 'Prevention_Measures', etc."
      ],
      "metadata": {
        "id": "JRZFCCn7iqRz"
      }
    },
    {
      "cell_type": "markdown",
      "source": [
        "##Identify Risk Factor Columns"
      ],
      "metadata": {
        "id": "uuq5zwOWgkdk"
      }
    },
    {
      "cell_type": "markdown",
      "source": [
        "- Age_Group: Contains three age categories - '51-60', '61-70', and '71+'.\n",
        "- Region: Includes various global regions like 'Asia', 'Europe', 'Africa', 'North America', 'South America', 'Australia', and 'Oceania'.\n",
        "- Medical_Facilities: Binary categorization with values 'Yes' and 'No'.\n",
        "- Awareness_Programs: Also a binary categorization with 'Yes' and 'No'.\n",
        "- Prevention_Measures: Similarly, it is categorized as 'Yes' and 'No'."
      ],
      "metadata": {
        "id": "dAZGtb57jd8J"
      }
    },
    {
      "cell_type": "markdown",
      "source": [
        ">**Categorization of Risk Factors:** Categorize these risk factors. We are looking at the distribution of glaucoma cases or other relevant metrics across different age groups and regions based on the availability of medical facilities, awareness programs, and prevention measures."
      ],
      "metadata": {
        "id": "N6Gi-yEjrtw6"
      }
    },
    {
      "cell_type": "markdown",
      "source": [
        "#2. Data Preprocessing"
      ],
      "metadata": {
        "id": "5CkVmBbPPDHO"
      }
    },
    {
      "cell_type": "markdown",
      "source": [
        "##Inspect the Data\n",
        "\n",
        "The given Python code snippet is utilised for preliminary data analysis using pandas DataFrames.The program exhibits an initial subset of rows from the dataset, presents a concise overview containing information about the data kinds and the absence of null values, and generates summary statistics for columns that contain numerical data. This code serves as the initial stage in investigating and comprehending a dataset's fundamental characteristics and statistical qualities."
      ],
      "metadata": {
        "id": "PyWdTjTZQWdn"
      }
    },
    {
      "cell_type": "code",
      "source": [
        "# Install the 'tabulate' package using pip to format dataframes as ASCII tables\n",
        "!pip install tabulate\n"
      ],
      "metadata": {
        "colab": {
          "base_uri": "https://localhost:8080/"
        },
        "id": "B349ZBuTTSSI",
        "outputId": "89240f46-0bd0-4146-9a35-8bb2fbb149dc"
      },
      "execution_count": 24,
      "outputs": [
        {
          "output_type": "stream",
          "name": "stdout",
          "text": [
            "Requirement already satisfied: tabulate in /usr/local/lib/python3.10/dist-packages (0.9.0)\n"
          ]
        }
      ]
    },
    {
      "cell_type": "code",
      "source": [
        "# Import the 'io' module for in-memory text streams and 'tabulate' for table formatting\n",
        "import io\n",
        "from tabulate import tabulate\n",
        "\n",
        "# Display the first few rows of the dataset in a table format, transposed\n",
        "print(\"First few rows of the dataset (transposed):\")\n",
        "print(tabulate(data.head().T, headers='keys', tablefmt='psql'))\n",
        "\n",
        "# Get a summary of the dataset including data types and number of non-null values\n",
        "print(\"\\nDataset Info:\")\n",
        "buffer = io.StringIO()\n",
        "data.info(buf=buffer)\n",
        "info_string = buffer.getvalue()\n",
        "print(info_string)\n",
        "\n",
        "# Get summary statistics for numerical columns in a table format, transposed\n",
        "print(\"\\nSummary Statistics for Numerical Columns (transposed):\")\n",
        "print(tabulate(data.describe().T, headers='keys', tablefmt='psql'))\n"
      ],
      "metadata": {
        "colab": {
          "base_uri": "https://localhost:8080/"
        },
        "id": "gRwBbhmbTXUa",
        "outputId": "8ed1f11b-b6a2-430f-ceb0-b568c1e057dc"
      },
      "execution_count": 25,
      "outputs": [
        {
          "output_type": "stream",
          "name": "stdout",
          "text": [
            "First few rows of the dataset (transposed):\n",
            "+-------------------------------+--------------------+--------------------+--------------------+--------------------+--------------------+\n",
            "|                               | 0                  | 1                  | 2                  | 3                  | 4                  |\n",
            "|-------------------------------+--------------------+--------------------+--------------------+--------------------+--------------------|\n",
            "| Country                       | Afghanistan        | Albania            | Algeria            | Andorra            | Angola             |\n",
            "| Population                    | 28638530           | 37734135           | 22050908           | 20250586           | 24667186           |\n",
            "| Eye_Disease                   | Glaucoma           | Glaucoma           | Glaucoma           | Glaucoma           | Glaucoma           |\n",
            "| Affected_People_Male          | 15577              | 30759              | 47194              | 46621              | 54498              |\n",
            "| Affected_People_Female        | 77855              | 14117              | 51195              | 21502              | 34219              |\n",
            "| Blindness_Cases_Male          | 2662               | 5688               | 4306               | 1445               | 1709               |\n",
            "| Blindness_Cases_Female        | 3863               | 6738               | 5133               | 5805               | 6146               |\n",
            "| Healthcare_Cost               | 519206             | 584037             | 661147             | 555390             | 370512             |\n",
            "| Productivity_Loss             | 466059             | 662877             | 576810             | 110035             | 659504             |\n",
            "| Region                        | Asia               | Europe             | Africa             | Europe             | Africa             |\n",
            "| Age_Group                     | 51-60              | 51-60              | 71+                | 71+                | 51-60              |\n",
            "| Treatment_Availability_Male   | Yes                | Yes                | No                 | Yes                | Yes                |\n",
            "| Treatment_Availability_Female | Yes                | Yes                | Yes                | Yes                | Yes                |\n",
            "| Medical_Facilities            | Yes                | Yes                | Yes                | Yes                | No                 |\n",
            "| Research_Funding              | 435229             | 646972             | 404262             | 566361             | 715049             |\n",
            "| Awareness_Programs            | No                 | Yes                | No                 | No                 | Yes                |\n",
            "| Prevention_Measures           | Yes                | No                 | No                 | Yes                | Yes                |\n",
            "| Recovery_Rate                 | 0.1607873840867508 | 0.9521564152967504 | 0.574042369060464  | 0.4933780091698383 | 0.8450094070980438 |\n",
            "| Mortality_Rate                | 0.9563781371276668 | 0.7210310195725357 | 0.5028062607304573 | 0.6898841683512259 | 0.188289574994264  |\n",
            "| Vaccination                   | Yes                | Yes                | Yes                | Yes                | Yes                |\n",
            "| Medication                    | Yes                | Yes                | No                 | No                 | Yes                |\n",
            "| Surgery_Options               | No                 | Yes                | Yes                | No                 | Yes                |\n",
            "+-------------------------------+--------------------+--------------------+--------------------+--------------------+--------------------+\n",
            "\n",
            "Dataset Info:\n",
            "<class 'pandas.core.frame.DataFrame'>\n",
            "RangeIndex: 196 entries, 0 to 195\n",
            "Data columns (total 22 columns):\n",
            " #   Column                         Non-Null Count  Dtype  \n",
            "---  ------                         --------------  -----  \n",
            " 0   Country                        196 non-null    object \n",
            " 1   Population                     196 non-null    int64  \n",
            " 2   Eye_Disease                    196 non-null    object \n",
            " 3   Affected_People_Male           196 non-null    int64  \n",
            " 4   Affected_People_Female         196 non-null    int64  \n",
            " 5   Blindness_Cases_Male           196 non-null    int64  \n",
            " 6   Blindness_Cases_Female         196 non-null    int64  \n",
            " 7   Healthcare_Cost                196 non-null    int64  \n",
            " 8   Productivity_Loss              196 non-null    int64  \n",
            " 9   Region                         196 non-null    object \n",
            " 10  Age_Group                      196 non-null    object \n",
            " 11  Treatment_Availability_Male    196 non-null    object \n",
            " 12  Treatment_Availability_Female  196 non-null    object \n",
            " 13  Medical_Facilities             196 non-null    object \n",
            " 14  Research_Funding               196 non-null    int64  \n",
            " 15  Awareness_Programs             196 non-null    object \n",
            " 16  Prevention_Measures            196 non-null    object \n",
            " 17  Recovery_Rate                  196 non-null    float64\n",
            " 18  Mortality_Rate                 196 non-null    float64\n",
            " 19  Vaccination                    196 non-null    object \n",
            " 20  Medication                     196 non-null    object \n",
            " 21  Surgery_Options                196 non-null    object \n",
            "dtypes: float64(2), int64(8), object(12)\n",
            "memory usage: 33.8+ KB\n",
            "\n",
            "\n",
            "Summary Statistics for Numerical Columns (transposed):\n",
            "+------------------------+---------+------------------+------------------+-----------------+------------------+-----------------+------------------+------------------+\n",
            "|                        |   count |             mean |              std |             min |              25% |             50% |              75% |              max |\n",
            "|------------------------+---------+------------------+------------------+-----------------+------------------+-----------------+------------------+------------------|\n",
            "| Population             |     196 |      2.44858e+07 |      9.89933e+06 |     -2.3435e+06 |      1.82177e+07 |      2.4384e+07 |      3.07432e+07 |      4.97485e+07 |\n",
            "| Affected_People_Male   |     196 |  48730.2         |  19162.9         |  -5966          |  36370.8         |  47514.5        |  60133.8         | 118438           |\n",
            "| Affected_People_Female |     196 |  50087.6         |  18362.7         |   9202          |  35415.8         |  51213          |  63926.8         | 108396           |\n",
            "| Blindness_Cases_Male   |     196 |   4897.85        |   2049.02        |   -963          |   3520           |   4605          |   6412.5         |  10506           |\n",
            "| Blindness_Cases_Female |     196 |   5175.55        |   2008.34        |   -865          |   3893           |   5397.5        |   6460.75        |   9594           |\n",
            "| Healthcare_Cost        |     196 | 479401           | 193094           | -39584          | 340152           | 487275          | 623755           |      1.03619e+06 |\n",
            "| Productivity_Loss      |     196 | 488051           | 204337           |  16328          | 350424           | 493796          | 612313           | 995182           |\n",
            "| Research_Funding       |     196 | 472043           | 183353           | -61019          | 361002           | 475590          | 592567           |      1.04731e+06 |\n",
            "| Recovery_Rate          |     196 |      0.535058    |      0.26821     |      0.100013   |      0.278434    |      0.520715   |      0.751448    |      0.999785    |\n",
            "| Mortality_Rate         |     196 |      0.553005    |      0.260489    |      0.103997   |      0.309051    |      0.550707   |      0.776737    |      0.994591    |\n",
            "+------------------------+---------+------------------+------------------+-----------------+------------------+-----------------+------------------+------------------+\n"
          ]
        }
      ]
    },
    {
      "cell_type": "markdown",
      "source": [
        "##Data Analysis\n",
        "\n",
        "The given dataset comprises data on eye illnesses, specifically Glaucoma, in various countries.The metrics encompassed in this analysis consist of factors such as the number of individuals impacted, expenditures related to healthcare, and rates of mortality.This thoroughly examines the data."
      ],
      "metadata": {
        "id": "jBIA5SabVqL6"
      }
    },
    {
      "cell_type": "markdown",
      "source": [
        "1. Data Overview\n",
        " - Countries and Regions: The data covers 196 countries across various regions.\n",
        " - Population: The populations of these countries vary, with some anomalies (negative values, which are likely data errors).\n",
        " - Gender Disparity in Disease Impact: The dataset includes separate counts for males and females affected by the disease.\n",
        "\n",
        "2. Key Statistics\n",
        " - Affected Population: The average number of affected males and females per country is 48,730 and 50,088, respectively. This suggests a slightly higher prevalence among females.\n",
        " - Blindness Cases: On average, there are 4,898 male and 5,176 female blindness cases per country, indicating a slightly higher impact on females.\n",
        " - Healthcare Costs and Productivity Loss: These figures are substantial, with average costs of around 479,401 and average productivity loss of around 488,051 per country.\n",
        " - Research Funding: The average research funding per country is approximately 472,043.\n",
        "\n",
        "3. Data Anomalies\n",
        "Negative Values: There are negative values in population, healthcare costs, and blindness cases. These are likely data entry errors or placeholders for missing data.\n",
        "\n",
        "4. Health Metrics\n",
        "Recovery and Mortality Rates: The average recovery rate is 53.5%, and the average mortality rate is 55.3%. This indicates a challenging health situation with a significant number of cases leading to mortality.\n",
        "\n",
        "5. Treatment and Prevention\n",
        "The data includes information on treatment availability, medical facilities, awareness programs, prevention measures, vaccination, medication, and surgery options. These variables are categorical (Yes/No) and suggest varied approaches to disease management across countries.\n",
        "\n",
        "6. Regional and Age Group Variations\n",
        "The dataset includes regions and age groups, which can be crucial for more in-depth analysis, such as understanding regional disparities or age-related vulnerability.\n",
        "\n",
        "7. Potential Data Quality Issues\n",
        "The presence of harmful and possibly erroneous data points suggests a need for data cleaning and validation.\n",
        "\n",
        "8. Limitations and Suggestions for Further Analysis\n",
        " - Age Group Analysis: The impact of Glaucoma across different age groups is not analyzed here but could provide valuable insights.\n",
        " - Regional Analysis: Further analysis could reveal regional patterns in disease prevalence, healthcare response, and outcomes.\n",
        " - Correlation Studies: Investigating correlations between variables (e.g., healthcare cost vs. recovery rate) could yield exciting findings.\n",
        " - Time-Series Analysis: If data over time is available, it could help understand trends and interventions' effectiveness.\n",
        "\n",
        "**Conclusion:**\n",
        "This dataset provides valuable insights into the global impact of Glaucoma, highlighting the burden on healthcare systems and the disparities in disease impact. However, data quality issues must be addressed for more accurate analysis and interpretation."
      ],
      "metadata": {
        "id": "0-NUsNI5W5MM"
      }
    },
    {
      "cell_type": "markdown",
      "source": [
        "##Handle Missing Values\n",
        "\n",
        "Once the missing values have been identified, we will determine a strategy for addressing them. This may entail eliminating the rows or columns that contain missing values or replacing them with a statistical measure, such as the mean or median for numerical data or the mode for categorical data."
      ],
      "metadata": {
        "id": "SKo77ZTMY-qq"
      }
    },
    {
      "cell_type": "code",
      "source": [
        "# Check for missing values\n",
        "missing_values = data.isnull().sum()\n",
        "print(\"Missing values in each column:\\n\", missing_values)\n"
      ],
      "metadata": {
        "colab": {
          "base_uri": "https://localhost:8080/"
        },
        "id": "2g0L8y5erEhL",
        "outputId": "88794b71-966e-47b0-c8f1-3a1282f1fb3a"
      },
      "execution_count": 26,
      "outputs": [
        {
          "output_type": "stream",
          "name": "stdout",
          "text": [
            "Missing values in each column:\n",
            " Country                          0\n",
            "Population                       0\n",
            "Eye_Disease                      0\n",
            "Affected_People_Male             0\n",
            "Affected_People_Female           0\n",
            "Blindness_Cases_Male             0\n",
            "Blindness_Cases_Female           0\n",
            "Healthcare_Cost                  0\n",
            "Productivity_Loss                0\n",
            "Region                           0\n",
            "Age_Group                        0\n",
            "Treatment_Availability_Male      0\n",
            "Treatment_Availability_Female    0\n",
            "Medical_Facilities               0\n",
            "Research_Funding                 0\n",
            "Awareness_Programs               0\n",
            "Prevention_Measures              0\n",
            "Recovery_Rate                    0\n",
            "Mortality_Rate                   0\n",
            "Vaccination                      0\n",
            "Medication                       0\n",
            "Surgery_Options                  0\n",
            "dtype: int64\n"
          ]
        }
      ]
    },
    {
      "cell_type": "markdown",
      "source": [
        "The dataset is comprehensive and well-maintained, with no missing values across many variables about eye condition, healthcare impact, and treatment alternatives. The dataset comprises comprehensive demographic data, economic impact metrics, and health outcomes for thoroughly researching eye disease trends and intervention strategies. The inclusion of gender-specific data, as well as regional and age group information, indicates the usefulness of this research in addressing eye health issues in different groups."
      ],
      "metadata": {
        "id": "U2ugpE01tc5b"
      }
    },
    {
      "cell_type": "markdown",
      "source": [
        "##Identify and Address Outliers\n",
        "\n",
        "Identifying and mitigating outliers play a critical role in data analysis due to their potential to distort outcomes and generate erroneous models. Outliers are data points that exhibit extreme values, deviating substantially from the rest of the observations. These exceptional data points can be detected by several techniques, such as the Interquartile Range (IQR) approach. Effectively managing these outliers, whether by their exclusion or adjustment, guarantees a more resilient and inclusive analysis, augmenting prediction models' precision and dependability."
      ],
      "metadata": {
        "id": "vjEj9H5DuHxz"
      }
    },
    {
      "cell_type": "markdown",
      "source": [
        "The provided code sample utilises the Interquartile Range (IQR) approach to detect and eliminate outliers from a dataset. It achieves this by computing the first and third quartiles (Q1 and Q3) and considering any values that fall more than 1.5 times the IQR below Q1 or above Q3 as outliers. The programme subsequently eliminates these anomalies from the dataset. It displays the dimensions of the dataset before and after this procedure to demonstrate the effect of outlier removal. A collaborative strategy is employed to mitigate the impact of outliers on the data analysis."
      ],
      "metadata": {
        "id": "ngyKVmFHaSe4"
      }
    },
    {
      "cell_type": "code",
      "source": [
        "# Import MATLAB-like interface for making plots and charts\n",
        "import matplotlib.pyplot as plt\n",
        "\n",
        "# Import Seaborn for data visualization with more attractive interface for creating statistical graphics.\n",
        "import seaborn as sns\n",
        "\n",
        "# Handling outliers using IQR\n",
        "Q1 = data.quantile(0.25)\n",
        "Q3 = data.quantile(0.75)\n",
        "IQR = Q3 - Q1\n",
        "\n",
        "# Define the bounds for the outliers\n",
        "lower_bound = Q1 - 1.5 * IQR\n",
        "upper_bound = Q3 + 1.5 * IQR\n",
        "\n",
        "# Print the bounds for outliers\n",
        "print(\"\\nLower Bound for Outliers:\\n\", lower_bound)\n",
        "print(\"\\nUpper Bound for Outliers:\\n\", upper_bound)\n",
        "\n",
        "# Print the shape of data before removing outliers\n",
        "print(\"\\nShape of data before removing outliers:\", data.shape)\n",
        "print()\n",
        "\n",
        "# Plot before removing outliers\n",
        "plt.figure(figsize=(12, 6))\n",
        "plt.title(\"Data Before Removing Outliers\")\n",
        "sns.boxplot(data=data, orient='h')  # Set orientation to horizontal\n",
        "plt.show()\n",
        "\n",
        "# Remove outliers or cap them\n",
        "data_cleaned = data[~((data < (Q1 - 1.5 * IQR)) |(data > (Q3 + 1.5 * IQR))).any(axis=1)]\n",
        "\n",
        "# Print the shape of data after removing outliers\n",
        "print(\"\\nShape of data after removing outliers:\", data_cleaned.shape)\n",
        "print()\n",
        "\n",
        "# Plot after removing outliers\n",
        "plt.figure(figsize=(12, 6))\n",
        "plt.title(\"Data After Removing Outliers\")\n",
        "sns.boxplot(data=data_cleaned, orient='h')  # Set orientation to horizontal\n",
        "plt.show()\n"
      ],
      "metadata": {
        "colab": {
          "base_uri": "https://localhost:8080/",
          "height": 1000
        },
        "id": "fvLKdESAuPDY",
        "outputId": "3f576f9e-f677-464a-eb45-ed93610d49b0"
      },
      "execution_count": 27,
      "outputs": [
        {
          "output_type": "stream",
          "name": "stdout",
          "text": [
            "\n",
            "Lower Bound for Outliers:\n",
            " Population               -570610.875000\n",
            "Affected_People_Male         726.250000\n",
            "Affected_People_Female     -7350.750000\n",
            "Blindness_Cases_Male        -818.750000\n",
            "Blindness_Cases_Female        41.375000\n",
            "Healthcare_Cost           -85251.625000\n",
            "Productivity_Loss         -42409.250000\n",
            "Research_Funding           13655.125000\n",
            "Recovery_Rate                 -0.431086\n",
            "Mortality_Rate                -0.392477\n",
            "dtype: float64\n",
            "\n",
            "Upper Bound for Outliers:\n",
            " Population                4.953153e+07\n",
            "Affected_People_Male      9.577825e+04\n",
            "Affected_People_Female    1.066932e+05\n",
            "Blindness_Cases_Male      1.075125e+04\n",
            "Blindness_Cases_Female    1.031238e+04\n",
            "Healthcare_Cost           1.049159e+06\n",
            "Productivity_Loss         1.005147e+06\n",
            "Research_Funding          9.399141e+05\n",
            "Recovery_Rate             1.460969e+00\n",
            "Mortality_Rate            1.478265e+00\n",
            "dtype: float64\n",
            "\n",
            "Shape of data before removing outliers: (196, 22)\n",
            "\n"
          ]
        },
        {
          "output_type": "stream",
          "name": "stderr",
          "text": [
            "<ipython-input-27-fcd2032ec889>:8: FutureWarning: The default value of numeric_only in DataFrame.quantile is deprecated. In a future version, it will default to False. Select only valid columns or specify the value of numeric_only to silence this warning.\n",
            "  Q1 = data.quantile(0.25)\n",
            "<ipython-input-27-fcd2032ec889>:9: FutureWarning: The default value of numeric_only in DataFrame.quantile is deprecated. In a future version, it will default to False. Select only valid columns or specify the value of numeric_only to silence this warning.\n",
            "  Q3 = data.quantile(0.75)\n"
          ]
        },
        {
          "output_type": "display_data",
          "data": {
            "text/plain": [
              "<Figure size 1200x600 with 1 Axes>"
            ],
            "image/png": "[encoded data removed]"
          },
          "metadata": {}
        },
        {
          "output_type": "stream",
          "name": "stderr",
          "text": [
            "<ipython-input-27-fcd2032ec889>:31: FutureWarning: Automatic reindexing on DataFrame vs Series comparisons is deprecated and will raise ValueError in a future version. Do `left, right = left.align(right, axis=1, copy=False)` before e.g. `left == right`\n",
            "  data_cleaned = data[~((data < (Q1 - 1.5 * IQR)) |(data > (Q3 + 1.5 * IQR))).any(axis=1)]\n"
          ]
        },
        {
          "output_type": "stream",
          "name": "stdout",
          "text": [
            "\n",
            "Shape of data after removing outliers: (178, 22)\n",
            "\n"
          ]
        },
        {
          "output_type": "display_data",
          "data": {
            "text/plain": [
              "<Figure size 1200x600 with 1 Axes>"
            ],
            "image/png": "[encoded data removed]"
          },
          "metadata": {}
        }
      ]
    },
    {
      "cell_type": "markdown",
      "source": [
        "Identifying outlier bounds has revealed the presence of values within the dataset that are considered outliers for many variables. For example, negative lower bounds for variables such as 'Population', 'Affected_People_Female', and 'Healthcare_Cost' indicate that outliers within these categories have values that are notably lower than the majority of the data. On the contrary, significantly elevated upper limits for these variables suggest the existence of unusually elevated values.\n",
        "The examination of variability across various metrics: 'Population', 'Affected People', 'Blindness Cases', 'Healthcare Cost', 'Productivity Loss', and 'Research Funding' exhibit a substantial disparity between their lower and upper ranges for outliers. This indicates notable heterogeneity in these measurements among various observations within the dataset.\n",
        "The process of data reduction involves the systematic reduction of data to a more manageable and concise form while still retaining the essential information. Post-Outlier Removal: Following the removal of outliers, the dataset experienced a reduction in size from 178 to 170, signifying the identification and subsequent removal of eight data points deemed outliers. This corresponds to around 4.5% of the initial dataset, indicating that outliers influenced a tiny yet significant proportion of the data.\n",
        "The findings above draw attention to the presence of outliers within the dataset and their consequential influence on the general distribution of the data. The exclusion of these outliers can enhance the precision and representativeness of analyses, particularly in measures that are susceptible to the influence of extreme results."
      ],
      "metadata": {
        "id": "sEDrfiHkS5hp"
      }
    },
    {
      "cell_type": "markdown",
      "source": [
        "##Normalize the Data\n",
        "\n",
        "The data normalisation process is of utmost importance in several machine learning algorithms due to its ability to ensure the equitable contribution of each feature towards the analysis, enhancing the model's performance and stability. The procedure is essential for algorithms that depend on distance computations or gradient descent optimisation. The requirement for normalisation varies depending on the exact method employed, as specific algorithms, such as tree-based models, do not necessitate feature scaling."
      ],
      "metadata": {
        "id": "8YNo6R9TVUij"
      }
    },
    {
      "cell_type": "markdown",
      "source": [
        "The provided code excerpt utilises the `MinMaxScaler` function from the scikit-learn library to perform normalisation on numerical columns within a given dataset. This normalisation process involves scaling the values of these columns to a range that spans from 0 to 1. Subsequently, the normalised numeric columns are merged with the original non-numeric columns while preserving the overall structure of the dataset. The merged dataset is presented in a transposed table format, utilising the `tabulate` package to facilitate convenient visualisation and examination."
      ],
      "metadata": {
        "id": "2OGWKnRIantK"
      }
    },
    {
      "cell_type": "code",
      "source": [
        "# Import MinMaxScaler\n",
        "from sklearn.preprocessing import MinMaxScaler\n",
        "\n",
        "# Import tabulate for table formatting\n",
        "from tabulate import tabulate\n",
        "\n",
        "# Initialize the MinMaxScaler\n",
        "scaler = MinMaxScaler()\n",
        "\n",
        "# Separate numeric and non-numeric columns\n",
        "numeric_cols = data_cleaned.select_dtypes(include=['int64', 'float64']).columns\n",
        "non_numeric_cols = data_cleaned.select_dtypes(exclude=['int64', 'float64']).columns\n",
        "\n",
        "# Apply MinMaxScaler only to numeric columns\n",
        "data_cleaned_numeric = data_cleaned[numeric_cols]\n",
        "normalized_data_numeric = scaler.fit_transform(data_cleaned_numeric)\n",
        "\n",
        "# Convert the normalized numeric data back to a DataFrame\n",
        "normalized_data_numeric_df = pd.DataFrame(normalized_data_numeric, columns=numeric_cols)\n",
        "\n",
        "# Concatenate the non-numeric data with the normalized numeric data\n",
        "normalized_data_df = pd.concat([data_cleaned[non_numeric_cols].reset_index(drop=True), normalized_data_numeric_df.reset_index(drop=True)], axis=1)\n",
        "\n",
        "# Transpose the DataFrame for displaying\n",
        "transposed_normalized_data_df = normalized_data_df.head().T\n",
        "\n",
        "# Display the first few rows of the normalized dataset in a table format, transposed\n",
        "print(\"First few rows of the normalized dataset (transposed):\")\n",
        "print(tabulate(transposed_normalized_data_df, headers='keys', tablefmt='psql'))\n"
      ],
      "metadata": {
        "colab": {
          "base_uri": "https://localhost:8080/"
        },
        "id": "0zPCDRZHVaJ7",
        "outputId": "1216e11f-69f9-473a-dc9d-7810544e6ce5"
      },
      "execution_count": 28,
      "outputs": [
        {
          "output_type": "stream",
          "name": "stdout",
          "text": [
            "First few rows of the normalized dataset (transposed):\n",
            "+-------------------------------+---------------------+----------------------+---------------------+---------------------+---------------------+\n",
            "|                               | 0                   | 1                    | 2                   | 3                   | 4                   |\n",
            "|-------------------------------+---------------------+----------------------+---------------------+---------------------+---------------------|\n",
            "| Country                       | Afghanistan         | Albania              | Algeria             | Andorra             | Angola              |\n",
            "| Eye_Disease                   | Glaucoma            | Glaucoma             | Glaucoma            | Glaucoma            | Glaucoma            |\n",
            "| Region                        | Asia                | Europe               | Africa              | Europe              | Africa              |\n",
            "| Age_Group                     | 51-60               | 51-60                | 71+                 | 71+                 | 51-60               |\n",
            "| Treatment_Availability_Male   | Yes                 | Yes                  | No                  | Yes                 | Yes                 |\n",
            "| Treatment_Availability_Female | Yes                 | Yes                  | Yes                 | Yes                 | Yes                 |\n",
            "| Medical_Facilities            | Yes                 | Yes                  | Yes                 | Yes                 | No                  |\n",
            "| Awareness_Programs            | No                  | Yes                  | No                  | No                  | Yes                 |\n",
            "| Prevention_Measures           | Yes                 | No                   | No                  | Yes                 | Yes                 |\n",
            "| Vaccination                   | Yes                 | Yes                  | Yes                 | Yes                 | Yes                 |\n",
            "| Medication                    | Yes                 | Yes                  | No                  | No                  | Yes                 |\n",
            "| Surgery_Options               | No                  | Yes                  | Yes                 | No                  | Yes                 |\n",
            "| Population                    | 0.5623554677597665  | 0.7580053386598756   | 0.42065325071772053 | 0.38192765007008617 | 0.47693037059471566 |\n",
            "| Affected_People_Male          | 0.1358631338119442  | 0.3069684094264558   | 0.49219533636127977 | 0.4857374702746565  | 0.5745134059890227  |\n",
            "| Affected_People_Female        | 0.8074353727095241  | 0.057805847623079984 | 0.49388422364923673 | 0.14466163291228562 | 0.2942276480135488  |\n",
            "| Blindness_Cases_Male          | 0.1927549655243388  | 0.5041679530719357   | 0.3619429865184728  | 0.06751054852320675 | 0.09467942780693629 |\n",
            "| Blindness_Cases_Female        | 0.386468258216465   | 0.6942511508403811   | 0.5224280055668559  | 0.5943689112514721  | 0.6308746386896479  |\n",
            "| Healthcare_Cost               | 0.5194296954012732  | 0.5796940998869653   | 0.6513725905764769  | 0.5530649503242311  | 0.38120947111666365 |\n",
            "| Productivity_Loss             | 0.4594464547317577  | 0.660516277197621    | 0.5725899878837907  | 0.09573133480580352 | 0.6570704109090835  |\n",
            "| Research_Funding              | 0.5196076825268008  | 0.7864407762169819   | 0.4805838639717419  | 0.6848568630984411  | 0.8722296642517526  |\n",
            "| Recovery_Rate                 | 0.06754446944355333 | 0.9470656715526133   | 0.5268327494080891  | 0.43718302597895164 | 0.8279833449303217  |\n",
            "| Mortality_Rate                | 0.9570927105689863  | 0.6928340938735188   | 0.44780125259896747 | 0.6578609703287414  | 0.09464738709296762 |\n",
            "+-------------------------------+---------------------+----------------------+---------------------+---------------------+---------------------+\n"
          ]
        }
      ]
    },
    {
      "cell_type": "markdown",
      "source": [
        "Based on the data snippet extracted from the normalised dataset:\n",
        "\n",
        "Geographic and demographic insights refer to the analysis and understanding of the spatial and population characteristics of a particular area or region. The dataset encompasses a range of countries spanning multiple continents, including Afghanistan in Asia, Albania and Andorra in Europe, and Algeria and Angola in Africa. The age categories encompassed in this study consist of individuals aged '51-60' and '71+' years, with a specific emphasis on middle-aged to older people.\n",
        "\n",
        "2. Healthcare and Disease Management:\n",
        "   - Variability exists in the accessibility of treatments, medical facilities, and awareness programmes among these nations. For instance, although the majority of nations offer treatment for glaucoma to both genders, it is noteworthy that Algeria needs to provide treatment tailored explicitly for guys, while Angola faces challenges in terms of insufficient medical infrastructure. The variability in the implementation of preventative measures, availability of vaccinations, access to medications, and availability of surgical alternatives across different countries indicates disparities in healthcare infrastructure and approaches to managing glaucoma.\n",
        "\n",
        "3. Quantitative Health Indicators:\n",
        "   - The standardised metrics for population, individuals affected (both males and females), cases of blindness (males and females), healthcare expenditures, loss of productivity, funding for research, rate of recovery, and rate of mortality offer valuable insights into the ramifications of glaucoma within these geographical areas.\n",
        "   It is worth noting that there is considerable diversity in the prevalence of blindness and the proportion of affected individuals across different countries. For instance, specific countries, such as Angola, exhibit higher rates of blindness among females, while others, like Albania, have higher rates among males.\n",
        "\n",
        "   Indicators about glaucoma's economic and health impacts, including healthcare expenditures, productivity decline, and research investment, exhibit significant variations across different countries. These variations might be attributed to varying national priorities and available resources to address the condition.\n",
        "\n",
        "The aforementioned data suggest that there are various obstacles and reactions to glaucoma that vary among different countries. This underscores the importance of developing healthcare plans and allocating resources in a customised manner to successfully treat and reduce the impact of the disease."
      ],
      "metadata": {
        "id": "mQRXhR8UcL9i"
      }
    },
    {
      "cell_type": "markdown",
      "source": [
        "##Encode Categorical Data\n",
        "\n"
      ],
      "metadata": {
        "id": "E68E_xceovHh"
      }
    },
    {
      "cell_type": "markdown",
      "source": [
        "###Identify Categorical Columns\n",
        "\n",
        "To identify the categorical columns, we will need to examine the data types of each column. Typically, categorical columns are of type object."
      ],
      "metadata": {
        "id": "OGmGR8F-0EIZ"
      }
    },
    {
      "cell_type": "code",
      "source": [
        "# Identify categorical columns\n",
        "categorical_columns = data.select_dtypes(include=['object']).columns.tolist()\n",
        "\n",
        "# Print categorical columns vertically\n",
        "for column in categorical_columns:\n",
        "    print(column)\n",
        "\n",
        "# Print the count of categorical columns\n",
        "print(\"\\nNumber of categorical columns:\", len(categorical_columns))\n"
      ],
      "metadata": {
        "colab": {
          "base_uri": "https://localhost:8080/"
        },
        "id": "F_MpwvNs0N3M",
        "outputId": "5d12b449-ab9a-42eb-c498-ceb147def65e"
      },
      "execution_count": 29,
      "outputs": [
        {
          "output_type": "stream",
          "name": "stdout",
          "text": [
            "Country\n",
            "Eye_Disease\n",
            "Region\n",
            "Age_Group\n",
            "Treatment_Availability_Male\n",
            "Treatment_Availability_Female\n",
            "Medical_Facilities\n",
            "Awareness_Programs\n",
            "Prevention_Measures\n",
            "Vaccination\n",
            "Medication\n",
            "Surgery_Options\n",
            "\n",
            "Number of categorical columns: 12\n"
          ]
        }
      ]
    },
    {
      "cell_type": "markdown",
      "source": [
        "###Choose the Encoding Method\n",
        "\n",
        "- One-hot encoding is used for nominal data where there is no intrinsic ordering.\n",
        "- Label encoding is used for ordinal data where the categories have a specific order."
      ],
      "metadata": {
        "id": "jSBjQr7Z4hRh"
      }
    },
    {
      "cell_type": "code",
      "source": [
        "# Identify categorical columns\n",
        "categorical_columns = data.select_dtypes(include=['object', 'category']).columns\n",
        "\n",
        "# Set a threshold for the maximum number of unique values for One-hot encoding\n",
        "threshold = 10\n",
        "\n",
        "# Lists to hold column names\n",
        "one_hot_columns = []\n",
        "label_encode_columns = []\n",
        "\n",
        "# Analyze each categorical column\n",
        "for column in categorical_columns:\n",
        "    unique_values = data[column].nunique()\n",
        "    if unique_values <= threshold:\n",
        "        one_hot_columns.append(column)\n",
        "    else:\n",
        "        label_encode_columns.append(column)\n",
        "\n",
        "# Print results\n",
        "print(\"Columns for One-hot encoding:\")\n",
        "for column in one_hot_columns:\n",
        "    print(column)\n",
        "\n",
        "print(\"\\nColumns for Label encoding:\")\n",
        "for column in label_encode_columns:\n",
        "    print(column)\n",
        "\n",
        "# Print totals\n",
        "print(\"\\nTotal One-hot encoded columns..:\", len(one_hot_columns))\n",
        "print(\"Total Label encoded columns....:\", len(label_encode_columns))\n"
      ],
      "metadata": {
        "colab": {
          "base_uri": "https://localhost:8080/"
        },
        "id": "68iRoR783P1m",
        "outputId": "110ce67c-bcb8-4a16-a733-cef71ab5b974"
      },
      "execution_count": 30,
      "outputs": [
        {
          "output_type": "stream",
          "name": "stdout",
          "text": [
            "Columns for One-hot encoding:\n",
            "Eye_Disease\n",
            "Region\n",
            "Age_Group\n",
            "Treatment_Availability_Male\n",
            "Treatment_Availability_Female\n",
            "Medical_Facilities\n",
            "Awareness_Programs\n",
            "Prevention_Measures\n",
            "Vaccination\n",
            "Medication\n",
            "Surgery_Options\n",
            "\n",
            "Columns for Label encoding:\n",
            "Country\n",
            "\n",
            "Total One-hot encoded columns..: 11\n",
            "Total Label encoded columns....: 1\n"
          ]
        }
      ]
    },
    {
      "cell_type": "markdown",
      "source": [
        "###Encode the Categorical Data\n",
        "\n"
      ],
      "metadata": {
        "id": "PmiJPJ586A_7"
      }
    },
    {
      "cell_type": "markdown",
      "source": [
        "- For one-hot encoding:"
      ],
      "metadata": {
        "id": "FineC1SC6Ll7"
      }
    },
    {
      "cell_type": "code",
      "source": [
        "# Import the OneHotEncoder class from the scikit-learn library\n",
        "from sklearn.preprocessing import OneHotEncoder\n",
        "\n",
        "# Create an instance of OneHotEncoder\n",
        "# Setting sparse=False means the output will be a dense numpy array, not a sparse matrix\n",
        "encoder = OneHotEncoder(sparse=False)\n",
        "\n",
        "# Apply the OneHotEncoder to the specified categorical columns of the dataset\n",
        "# .fit_transform() method first fits the encoder to the data, then transforms the data\n",
        "# 'data[categorical_columns]' should contain the categorical data to be transformed\n",
        "encoded_data = encoder.fit_transform(data[categorical_columns])\n"
      ],
      "metadata": {
        "colab": {
          "base_uri": "https://localhost:8080/"
        },
        "id": "u3Am8Hal6M5T",
        "outputId": "b9ac2248-ff36-4840-e8c9-96801a9eeb32"
      },
      "execution_count": 31,
      "outputs": [
        {
          "output_type": "stream",
          "name": "stderr",
          "text": [
            "/usr/local/lib/python3.10/dist-packages/sklearn/preprocessing/_encoders.py:868: FutureWarning: `sparse` was renamed to `sparse_output` in version 1.2 and will be removed in 1.4. `sparse_output` is ignored unless you leave `sparse` to its default value.\n",
            "  warnings.warn(\n"
          ]
        }
      ]
    },
    {
      "cell_type": "markdown",
      "source": [
        "- For label encoding:"
      ],
      "metadata": {
        "id": "TzZcFNsD6g-O"
      }
    },
    {
      "cell_type": "code",
      "source": [
        "# Import the LabelEncoder class from the scikit-learn library\n",
        "from sklearn.preprocessing import LabelEncoder\n",
        "\n",
        "# Create an instance of LabelEncoder\n",
        "label_encoder = LabelEncoder()\n",
        "\n",
        "# Loop through each column in the list of categorical columns\n",
        "for column in categorical_columns:\n",
        "\n",
        "    # Apply the LabelEncoder to the current column\n",
        "    # The fit_transform method fits the label encoder and then transforms the data\n",
        "    # This replaces each categorical value with a unique integer\n",
        "    data[column] = label_encoder.fit_transform(data[column])\n"
      ],
      "metadata": {
        "id": "bjYzDDYF6iI-"
      },
      "execution_count": 32,
      "outputs": []
    },
    {
      "cell_type": "markdown",
      "source": [
        "###Display the Transformed Dataset\n",
        "\n"
      ],
      "metadata": {
        "id": "8yB7YgZA6nNh"
      }
    },
    {
      "cell_type": "code",
      "source": [
        "# Print the first 3 records from the dataset\n",
        "print(data.head(3).T)\n"
      ],
      "metadata": {
        "colab": {
          "base_uri": "https://localhost:8080/"
        },
        "id": "AXAYF8in6uhs",
        "outputId": "0ff7fdff-7a82-42bc-929b-dd04999db50f"
      },
      "execution_count": 33,
      "outputs": [
        {
          "output_type": "stream",
          "name": "stdout",
          "text": [
            "                                          0             1             2\n",
            "Country                        0.000000e+00  1.000000e+00  2.000000e+00\n",
            "Population                     2.863853e+07  3.773414e+07  2.205091e+07\n",
            "Eye_Disease                    0.000000e+00  0.000000e+00  0.000000e+00\n",
            "Affected_People_Male           1.557700e+04  3.075900e+04  4.719400e+04\n",
            "Affected_People_Female         7.785500e+04  1.411700e+04  5.119500e+04\n",
            "Blindness_Cases_Male           2.662000e+03  5.688000e+03  4.306000e+03\n",
            "Blindness_Cases_Female         3.863000e+03  6.738000e+03  5.133000e+03\n",
            "Healthcare_Cost                5.192060e+05  5.840370e+05  6.611470e+05\n",
            "Productivity_Loss              4.660590e+05  6.628770e+05  5.768100e+05\n",
            "Region                         1.000000e+00  3.000000e+00  0.000000e+00\n",
            "Age_Group                      0.000000e+00  0.000000e+00  2.000000e+00\n",
            "Treatment_Availability_Male    1.000000e+00  1.000000e+00  0.000000e+00\n",
            "Treatment_Availability_Female  1.000000e+00  1.000000e+00  1.000000e+00\n",
            "Medical_Facilities             1.000000e+00  1.000000e+00  1.000000e+00\n",
            "Research_Funding               4.352290e+05  6.469720e+05  4.042620e+05\n",
            "Awareness_Programs             0.000000e+00  1.000000e+00  0.000000e+00\n",
            "Prevention_Measures            1.000000e+00  0.000000e+00  0.000000e+00\n",
            "Recovery_Rate                  1.607874e-01  9.521564e-01  5.740424e-01\n",
            "Mortality_Rate                 9.563781e-01  7.210310e-01  5.028063e-01\n",
            "Vaccination                    1.000000e+00  1.000000e+00  1.000000e+00\n",
            "Medication                     1.000000e+00  1.000000e+00  0.000000e+00\n",
            "Surgery_Options                0.000000e+00  1.000000e+00  1.000000e+00\n"
          ]
        }
      ]
    },
    {
      "cell_type": "markdown",
      "source": [
        "#AI-Driven Data Analysis"
      ],
      "metadata": {
        "id": "b9DgxoGhZwRM"
      }
    },
    {
      "cell_type": "markdown",
      "source": [
        "##Exploratory Data Analysis (EDA)"
      ],
      "metadata": {
        "id": "r_twoPAMbA29"
      }
    },
    {
      "cell_type": "markdown",
      "source": [
        "###Initial Inspection of the Dataset"
      ],
      "metadata": {
        "id": "4ZIDUqfhciBF"
      }
    },
    {
      "cell_type": "markdown",
      "source": [
        "The dataset contains information about glaucoma across different countries. Here are the columns and their descriptions based on the initial inspection:\n",
        "\n",
        "- Country: Name of the country\n",
        "- Population: Population of the country\n",
        "- Eye_Disease: Type of eye disease, here it's specifically Glaucoma\n",
        "- Affected_People_Male: Number of males affected by Glaucoma\n",
        "- Affected_People_Female: Number of females affected by Glaucoma\n",
        "- Blindness_Cases_Male: Number of males who became blind due to Glaucoma\n",
        "- Blindness_Cases_Female: Number of females who became blind due to Glaucoma\n",
        "- Healthcare_Cost: Healthcare cost associated with Glaucoma\n",
        "- Productivity_Loss: Productivity loss due to Glaucoma\n",
        "- Region: Geographical region of the country\n",
        "- Income_Level: Income level of the country\n",
        "- Treatment_Availability_Male: Whether treatment is available for males\n",
        "- Treatment_Availability_Female: Whether treatment is available for females\n",
        "- Medical_Facilities: Availability of medical facilities\n",
        "- Research_Funding: Funding for Glaucoma research\n",
        "- Awareness_Programs: Existence of awareness programs for Glaucoma\n",
        "- Prevention_Measures: Existence of prevention measures for Glaucoma\n",
        "- Recovery_Rate: Rate of recovery from Glaucoma\n",
        "- Mortality_Rate: Mortality rate due to Glaucoma\n",
        "- Vaccination: Availability of vaccination for Glaucoma\n",
        "- Medication: Availability of medication for Glaucoma\n",
        "- Surgery_Options: Availability of surgery options for Glaucoma"
      ],
      "metadata": {
        "id": "lRrnPsvIc65m"
      }
    },
    {
      "cell_type": "markdown",
      "source": [
        "###Data Structure and Types"
      ],
      "metadata": {
        "id": "H4rq34S_deWr"
      }
    },
    {
      "cell_type": "code",
      "source": [
        "# Display the first few rows of the dataset\n",
        "data.head().T\n"
      ],
      "metadata": {
        "colab": {
          "base_uri": "https://localhost:8080/",
          "height": 739
        },
        "id": "R0U2Snpydf5r",
        "outputId": "43078643-c641-436f-b6b3-aca7ef9b9543"
      },
      "execution_count": 36,
      "outputs": [
        {
          "output_type": "execute_result",
          "data": {
            "text/plain": [
              "                                          0             1             2  \\\n",
              "Country                        0.000000e+00  1.000000e+00  2.000000e+00   \n",
              "Population                     2.863853e+07  3.773414e+07  2.205091e+07   \n",
              "Eye_Disease                    0.000000e+00  0.000000e+00  0.000000e+00   \n",
              "Affected_People_Male           1.557700e+04  3.075900e+04  4.719400e+04   \n",
              "Affected_People_Female         7.785500e+04  1.411700e+04  5.119500e+04   \n",
              "Blindness_Cases_Male           2.662000e+03  5.688000e+03  4.306000e+03   \n",
              "Blindness_Cases_Female         3.863000e+03  6.738000e+03  5.133000e+03   \n",
              "Healthcare_Cost                5.192060e+05  5.840370e+05  6.611470e+05   \n",
              "Productivity_Loss              4.660590e+05  6.628770e+05  5.768100e+05   \n",
              "Region                         1.000000e+00  3.000000e+00  0.000000e+00   \n",
              "Age_Group                      0.000000e+00  0.000000e+00  2.000000e+00   \n",
              "Treatment_Availability_Male    1.000000e+00  1.000000e+00  0.000000e+00   \n",
              "Treatment_Availability_Female  1.000000e+00  1.000000e+00  1.000000e+00   \n",
              "Medical_Facilities             1.000000e+00  1.000000e+00  1.000000e+00   \n",
              "Research_Funding               4.352290e+05  6.469720e+05  4.042620e+05   \n",
              "Awareness_Programs             0.000000e+00  1.000000e+00  0.000000e+00   \n",
              "Prevention_Measures            1.000000e+00  0.000000e+00  0.000000e+00   \n",
              "Recovery_Rate                  1.607874e-01  9.521564e-01  5.740424e-01   \n",
              "Mortality_Rate                 9.563781e-01  7.210310e-01  5.028063e-01   \n",
              "Vaccination                    1.000000e+00  1.000000e+00  1.000000e+00   \n",
              "Medication                     1.000000e+00  1.000000e+00  0.000000e+00   \n",
              "Surgery_Options                0.000000e+00  1.000000e+00  1.000000e+00   \n",
              "\n",
              "                                          3             4  \n",
              "Country                        3.000000e+00  4.000000e+00  \n",
              "Population                     2.025059e+07  2.466719e+07  \n",
              "Eye_Disease                    0.000000e+00  0.000000e+00  \n",
              "Affected_People_Male           4.662100e+04  5.449800e+04  \n",
              "Affected_People_Female         2.150200e+04  3.421900e+04  \n",
              "Blindness_Cases_Male           1.445000e+03  1.709000e+03  \n",
              "Blindness_Cases_Female         5.805000e+03  6.146000e+03  \n",
              "Healthcare_Cost                5.553900e+05  3.705120e+05  \n",
              "Productivity_Loss              1.100350e+05  6.595040e+05  \n",
              "Region                         3.000000e+00  0.000000e+00  \n",
              "Age_Group                      2.000000e+00  0.000000e+00  \n",
              "Treatment_Availability_Male    1.000000e+00  1.000000e+00  \n",
              "Treatment_Availability_Female  1.000000e+00  1.000000e+00  \n",
              "Medical_Facilities             1.000000e+00  0.000000e+00  \n",
              "Research_Funding               5.663610e+05  7.150490e+05  \n",
              "Awareness_Programs             0.000000e+00  1.000000e+00  \n",
              "Prevention_Measures            1.000000e+00  1.000000e+00  \n",
              "Recovery_Rate                  4.933780e-01  8.450094e-01  \n",
              "Mortality_Rate                 6.898842e-01  1.882896e-01  \n",
              "Vaccination                    1.000000e+00  1.000000e+00  \n",
              "Medication                     0.000000e+00  1.000000e+00  \n",
              "Surgery_Options                0.000000e+00  1.000000e+00  "
            ],
            "text/html": [
              "\n",
              "  <div id=\"df-241434a4-ef20-4ae7-bec9-4a55bd1912f8\" class=\"colab-df-container\">\n",
              "    <div>\n",
              "<style scoped>\n",
              "    .dataframe tbody tr th:only-of-type {\n",
              "        vertical-align: middle;\n",
              "    }\n",
              "\n",
              "    .dataframe tbody tr th {\n",
              "        vertical-align: top;\n",
              "    }\n",
              "\n",
              "    .dataframe thead th {\n",
              "        text-align: right;\n",
              "    }\n",
              "</style>\n",
              "<table border=\"1\" class=\"dataframe\">\n",
              "  <thead>\n",
              "    <tr style=\"text-align: right;\">\n",
              "      <th></th>\n",
              "      <th>0</th>\n",
              "      <th>1</th>\n",
              "      <th>2</th>\n",
              "      <th>3</th>\n",
              "      <th>4</th>\n",
              "    </tr>\n",
              "  </thead>\n",
              "  <tbody>\n",
              "    <tr>\n",
              "      <th>Country</th>\n",
              "      <td>0.000000e+00</td>\n",
              "      <td>1.000000e+00</td>\n",
              "      <td>2.000000e+00</td>\n",
              "      <td>3.000000e+00</td>\n",
              "      <td>4.000000e+00</td>\n",
              "    </tr>\n",
              "    <tr>\n",
              "      <th>Population</th>\n",
              "      <td>2.863853e+07</td>\n",
              "      <td>3.773414e+07</td>\n",
              "      <td>2.205091e+07</td>\n",
              "      <td>2.025059e+07</td>\n",
              "      <td>2.466719e+07</td>\n",
              "    </tr>\n",
              "    <tr>\n",
              "      <th>Eye_Disease</th>\n",
              "      <td>0.000000e+00</td>\n",
              "      <td>0.000000e+00</td>\n",
              "      <td>0.000000e+00</td>\n",
              "      <td>0.000000e+00</td>\n",
              "      <td>0.000000e+00</td>\n",
              "    </tr>\n",
              "    <tr>\n",
              "      <th>Affected_People_Male</th>\n",
              "      <td>1.557700e+04</td>\n",
              "      <td>3.075900e+04</td>\n",
              "      <td>4.719400e+04</td>\n",
              "      <td>4.662100e+04</td>\n",
              "      <td>5.449800e+04</td>\n",
              "    </tr>\n",
              "    <tr>\n",
              "      <th>Affected_People_Female</th>\n",
              "      <td>7.785500e+04</td>\n",
              "      <td>1.411700e+04</td>\n",
              "      <td>5.119500e+04</td>\n",
              "      <td>2.150200e+04</td>\n",
              "      <td>3.421900e+04</td>\n",
              "    </tr>\n",
              "    <tr>\n",
              "      <th>Blindness_Cases_Male</th>\n",
              "      <td>2.662000e+03</td>\n",
              "      <td>5.688000e+03</td>\n",
              "      <td>4.306000e+03</td>\n",
              "      <td>1.445000e+03</td>\n",
              "      <td>1.709000e+03</td>\n",
              "    </tr>\n",
              "    <tr>\n",
              "      <th>Blindness_Cases_Female</th>\n",
              "      <td>3.863000e+03</td>\n",
              "      <td>6.738000e+03</td>\n",
              "      <td>5.133000e+03</td>\n",
              "      <td>5.805000e+03</td>\n",
              "      <td>6.146000e+03</td>\n",
              "    </tr>\n",
              "    <tr>\n",
              "      <th>Healthcare_Cost</th>\n",
              "      <td>5.192060e+05</td>\n",
              "      <td>5.840370e+05</td>\n",
              "      <td>6.611470e+05</td>\n",
              "      <td>5.553900e+05</td>\n",
              "      <td>3.705120e+05</td>\n",
              "    </tr>\n",
              "    <tr>\n",
              "      <th>Productivity_Loss</th>\n",
              "      <td>4.660590e+05</td>\n",
              "      <td>6.628770e+05</td>\n",
              "      <td>5.768100e+05</td>\n",
              "      <td>1.100350e+05</td>\n",
              "      <td>6.595040e+05</td>\n",
              "    </tr>\n",
              "    <tr>\n",
              "      <th>Region</th>\n",
              "      <td>1.000000e+00</td>\n",
              "      <td>3.000000e+00</td>\n",
              "      <td>0.000000e+00</td>\n",
              "      <td>3.000000e+00</td>\n",
              "      <td>0.000000e+00</td>\n",
              "    </tr>\n",
              "    <tr>\n",
              "      <th>Age_Group</th>\n",
              "      <td>0.000000e+00</td>\n",
              "      <td>0.000000e+00</td>\n",
              "      <td>2.000000e+00</td>\n",
              "      <td>2.000000e+00</td>\n",
              "      <td>0.000000e+00</td>\n",
              "    </tr>\n",
              "    <tr>\n",
              "      <th>Treatment_Availability_Male</th>\n",
              "      <td>1.000000e+00</td>\n",
              "      <td>1.000000e+00</td>\n",
              "      <td>0.000000e+00</td>\n",
              "      <td>1.000000e+00</td>\n",
              "      <td>1.000000e+00</td>\n",
              "    </tr>\n",
              "    <tr>\n",
              "      <th>Treatment_Availability_Female</th>\n",
              "      <td>1.000000e+00</td>\n",
              "      <td>1.000000e+00</td>\n",
              "      <td>1.000000e+00</td>\n",
              "      <td>1.000000e+00</td>\n",
              "      <td>1.000000e+00</td>\n",
              "    </tr>\n",
              "    <tr>\n",
              "      <th>Medical_Facilities</th>\n",
              "      <td>1.000000e+00</td>\n",
              "      <td>1.000000e+00</td>\n",
              "      <td>1.000000e+00</td>\n",
              "      <td>1.000000e+00</td>\n",
              "      <td>0.000000e+00</td>\n",
              "    </tr>\n",
              "    <tr>\n",
              "      <th>Research_Funding</th>\n",
              "      <td>4.352290e+05</td>\n",
              "      <td>6.469720e+05</td>\n",
              "      <td>4.042620e+05</td>\n",
              "      <td>5.663610e+05</td>\n",
              "      <td>7.150490e+05</td>\n",
              "    </tr>\n",
              "    <tr>\n",
              "      <th>Awareness_Programs</th>\n",
              "      <td>0.000000e+00</td>\n",
              "      <td>1.000000e+00</td>\n",
              "      <td>0.000000e+00</td>\n",
              "      <td>0.000000e+00</td>\n",
              "      <td>1.000000e+00</td>\n",
              "    </tr>\n",
              "    <tr>\n",
              "      <th>Prevention_Measures</th>\n",
              "      <td>1.000000e+00</td>\n",
              "      <td>0.000000e+00</td>\n",
              "      <td>0.000000e+00</td>\n",
              "      <td>1.000000e+00</td>\n",
              "      <td>1.000000e+00</td>\n",
              "    </tr>\n",
              "    <tr>\n",
              "      <th>Recovery_Rate</th>\n",
              "      <td>1.607874e-01</td>\n",
              "      <td>9.521564e-01</td>\n",
              "      <td>5.740424e-01</td>\n",
              "      <td>4.933780e-01</td>\n",
              "      <td>8.450094e-01</td>\n",
              "    </tr>\n",
              "    <tr>\n",
              "      <th>Mortality_Rate</th>\n",
              "      <td>9.563781e-01</td>\n",
              "      <td>7.210310e-01</td>\n",
              "      <td>5.028063e-01</td>\n",
              "      <td>6.898842e-01</td>\n",
              "      <td>1.882896e-01</td>\n",
              "    </tr>\n",
              "    <tr>\n",
              "      <th>Vaccination</th>\n",
              "      <td>1.000000e+00</td>\n",
              "      <td>1.000000e+00</td>\n",
              "      <td>1.000000e+00</td>\n",
              "      <td>1.000000e+00</td>\n",
              "      <td>1.000000e+00</td>\n",
              "    </tr>\n",
              "    <tr>\n",
              "      <th>Medication</th>\n",
              "      <td>1.000000e+00</td>\n",
              "      <td>1.000000e+00</td>\n",
              "      <td>0.000000e+00</td>\n",
              "      <td>0.000000e+00</td>\n",
              "      <td>1.000000e+00</td>\n",
              "    </tr>\n",
              "    <tr>\n",
              "      <th>Surgery_Options</th>\n",
              "      <td>0.000000e+00</td>\n",
              "      <td>1.000000e+00</td>\n",
              "      <td>1.000000e+00</td>\n",
              "      <td>0.000000e+00</td>\n",
              "      <td>1.000000e+00</td>\n",
              "    </tr>\n",
              "  </tbody>\n",
              "</table>\n",
              "</div>\n",
              "    <div class=\"colab-df-buttons\">\n",
              "\n",
              "  <div class=\"colab-df-container\">\n",
              "    <button class=\"colab-df-convert\" onclick=\"convertToInteractive('df-241434a4-ef20-4ae7-bec9-4a55bd1912f8')\"\n",
              "            title=\"Convert this dataframe to an interactive table.\"\n",
              "            style=\"display:none;\">\n",
              "\n",
              "  <svg xmlns=\"http://www.w3.org/2000/svg\" height=\"24px\" viewBox=\"0 -960 960 960\">\n",
              "    <path d=\"M120-120v-720h720v720H120Zm60-500h600v-160H180v160Zm220 220h160v-160H400v160Zm0 220h160v-160H400v160ZM180-400h160v-160H180v160Zm440 0h160v-160H620v160ZM180-180h160v-160H180v160Zm440 0h160v-160H620v160Z\"/>\n",
              "  </svg>\n",
              "    </button>\n",
              "\n",
              "  <style>\n",
              "    .colab-df-container {\n",
              "      display:flex;\n",
              "      gap: 12px;\n",
              "    }\n",
              "\n",
              "    .colab-df-convert {\n",
              "      background-color: #E8F0FE;\n",
              "      border: none;\n",
              "      border-radius: 50%;\n",
              "      cursor: pointer;\n",
              "      display: none;\n",
              "      fill: #1967D2;\n",
              "      height: 32px;\n",
              "      padding: 0 0 0 0;\n",
              "      width: 32px;\n",
              "    }\n",
              "\n",
              "    .colab-df-convert:hover {\n",
              "      background-color: #E2EBFA;\n",
              "      box-shadow: 0px 1px 2px rgba(60, 64, 67, 0.3), 0px 1px 3px 1px rgba(60, 64, 67, 0.15);\n",
              "      fill: #174EA6;\n",
              "    }\n",
              "\n",
              "    .colab-df-buttons div {\n",
              "      margin-bottom: 4px;\n",
              "    }\n",
              "\n",
              "    [theme=dark] .colab-df-convert {\n",
              "      background-color: #3B4455;\n",
              "      fill: #D2E3FC;\n",
              "    }\n",
              "\n",
              "    [theme=dark] .colab-df-convert:hover {\n",
              "      background-color: #434B5C;\n",
              "      box-shadow: 0px 1px 3px 1px rgba(0, 0, 0, 0.15);\n",
              "      filter: drop-shadow(0px 1px 2px rgba(0, 0, 0, 0.3));\n",
              "      fill: #FFFFFF;\n",
              "    }\n",
              "  </style>\n",
              "\n",
              "    <script>\n",
              "      const buttonEl =\n",
              "        document.querySelector('#df-241434a4-ef20-4ae7-bec9-4a55bd1912f8 button.colab-df-convert');\n",
              "      buttonEl.style.display =\n",
              "        google.colab.kernel.accessAllowed ? 'block' : 'none';\n",
              "\n",
              "      async function convertToInteractive(key) {\n",
              "        const element = document.querySelector('#df-241434a4-ef20-4ae7-bec9-4a55bd1912f8');\n",
              "        const dataTable =\n",
              "          await google.colab.kernel.invokeFunction('convertToInteractive',\n",
              "                                                    [key], {});\n",
              "        if (!dataTable) return;\n",
              "\n",
              "        const docLinkHtml = 'Like what you see? Visit the ' +\n",
              "          '<a target=\"_blank\" href=https://colab.research.google.com/notebooks/data_table.ipynb>data table notebook</a>'\n",
              "          + ' to learn more about interactive tables.';\n",
              "        element.innerHTML = '';\n",
              "        dataTable['output_type'] = 'display_data';\n",
              "        await google.colab.output.renderOutput(dataTable, element);\n",
              "        const docLink = document.createElement('div');\n",
              "        docLink.innerHTML = docLinkHtml;\n",
              "        element.appendChild(docLink);\n",
              "      }\n",
              "    </script>\n",
              "  </div>\n",
              "\n",
              "\n",
              "<div id=\"df-e0687b01-0f06-47ea-8792-3314f828a055\">\n",
              "  <button class=\"colab-df-quickchart\" onclick=\"quickchart('df-e0687b01-0f06-47ea-8792-3314f828a055')\"\n",
              "            title=\"Suggest charts\"\n",
              "            style=\"display:none;\">\n",
              "\n",
              "<svg xmlns=\"http://www.w3.org/2000/svg\" height=\"24px\"viewBox=\"0 0 24 24\"\n",
              "     width=\"24px\">\n",
              "    <g>\n",
              "        <path d=\"M19 3H5c-1.1 0-2 .9-2 2v14c0 1.1.9 2 2 2h14c1.1 0 2-.9 2-2V5c0-1.1-.9-2-2-2zM9 17H7v-7h2v7zm4 0h-2V7h2v10zm4 0h-2v-4h2v4z\"/>\n",
              "    </g>\n",
              "</svg>\n",
              "  </button>\n",
              "\n",
              "<style>\n",
              "  .colab-df-quickchart {\n",
              "      --bg-color: #E8F0FE;\n",
              "      --fill-color: #1967D2;\n",
              "      --hover-bg-color: #E2EBFA;\n",
              "      --hover-fill-color: #174EA6;\n",
              "      --disabled-fill-color: #AAA;\n",
              "      --disabled-bg-color: #DDD;\n",
              "  }\n",
              "\n",
              "  [theme=dark] .colab-df-quickchart {\n",
              "      --bg-color: #3B4455;\n",
              "      --fill-color: #D2E3FC;\n",
              "      --hover-bg-color: #434B5C;\n",
              "      --hover-fill-color: #FFFFFF;\n",
              "      --disabled-bg-color: #3B4455;\n",
              "      --disabled-fill-color: #666;\n",
              "  }\n",
              "\n",
              "  .colab-df-quickchart {\n",
              "    background-color: var(--bg-color);\n",
              "    border: none;\n",
              "    border-radius: 50%;\n",
              "    cursor: pointer;\n",
              "    display: none;\n",
              "    fill: var(--fill-color);\n",
              "    height: 32px;\n",
              "    padding: 0;\n",
              "    width: 32px;\n",
              "  }\n",
              "\n",
              "  .colab-df-quickchart:hover {\n",
              "    background-color: var(--hover-bg-color);\n",
              "    box-shadow: 0 1px 2px rgba(60, 64, 67, 0.3), 0 1px 3px 1px rgba(60, 64, 67, 0.15);\n",
              "    fill: var(--button-hover-fill-color);\n",
              "  }\n",
              "\n",
              "  .colab-df-quickchart-complete:disabled,\n",
              "  .colab-df-quickchart-complete:disabled:hover {\n",
              "    background-color: var(--disabled-bg-color);\n",
              "    fill: var(--disabled-fill-color);\n",
              "    box-shadow: none;\n",
              "  }\n",
              "\n",
              "  .colab-df-spinner {\n",
              "    border: 2px solid var(--fill-color);\n",
              "    border-color: transparent;\n",
              "    border-bottom-color: var(--fill-color);\n",
              "    animation:\n",
              "      spin 1s steps(1) infinite;\n",
              "  }\n",
              "\n",
              "  @keyframes spin {\n",
              "    0% {\n",
              "      border-color: transparent;\n",
              "      border-bottom-color: var(--fill-color);\n",
              "      border-left-color: var(--fill-color);\n",
              "    }\n",
              "    20% {\n",
              "      border-color: transparent;\n",
              "      border-left-color: var(--fill-color);\n",
              "      border-top-color: var(--fill-color);\n",
              "    }\n",
              "    30% {\n",
              "      border-color: transparent;\n",
              "      border-left-color: var(--fill-color);\n",
              "      border-top-color: var(--fill-color);\n",
              "      border-right-color: var(--fill-color);\n",
              "    }\n",
              "    40% {\n",
              "      border-color: transparent;\n",
              "      border-right-color: var(--fill-color);\n",
              "      border-top-color: var(--fill-color);\n",
              "    }\n",
              "    60% {\n",
              "      border-color: transparent;\n",
              "      border-right-color: var(--fill-color);\n",
              "    }\n",
              "    80% {\n",
              "      border-color: transparent;\n",
              "      border-right-color: var(--fill-color);\n",
              "      border-bottom-color: var(--fill-color);\n",
              "    }\n",
              "    90% {\n",
              "      border-color: transparent;\n",
              "      border-bottom-color: var(--fill-color);\n",
              "    }\n",
              "  }\n",
              "</style>\n",
              "\n",
              "  <script>\n",
              "    async function quickchart(key) {\n",
              "      const quickchartButtonEl =\n",
              "        document.querySelector('#' + key + ' button');\n",
              "      quickchartButtonEl.disabled = true;  // To prevent multiple clicks.\n",
              "      quickchartButtonEl.classList.add('colab-df-spinner');\n",
              "      try {\n",
              "        const charts = await google.colab.kernel.invokeFunction(\n",
              "            'suggestCharts', [key], {});\n",
              "      } catch (error) {\n",
              "        console.error('Error during call to suggestCharts:', error);\n",
              "      }\n",
              "      quickchartButtonEl.classList.remove('colab-df-spinner');\n",
              "      quickchartButtonEl.classList.add('colab-df-quickchart-complete');\n",
              "    }\n",
              "    (() => {\n",
              "      let quickchartButtonEl =\n",
              "        document.querySelector('#df-e0687b01-0f06-47ea-8792-3314f828a055 button');\n",
              "      quickchartButtonEl.style.display =\n",
              "        google.colab.kernel.accessAllowed ? 'block' : 'none';\n",
              "    })();\n",
              "  </script>\n",
              "</div>\n",
              "    </div>\n",
              "  </div>\n"
            ]
          },
          "metadata": {},
          "execution_count": 36
        }
      ]
    }
  ]
}