{
  "nbformat": 4,
  "nbformat_minor": 0,
  "metadata": {
    "colab": {
      "provenance": [],
      "authorship_tag": "ABX9TyObzjP/rKTJ0KHx/9CshYsU",
      "include_colab_link": true
    },
    "kernelspec": {
      "name": "python3",
      "display_name": "Python 3"
    },
    "language_info": {
      "name": "python"
    }
  },
  "cells": [
    {
      "cell_type": "markdown",
      "metadata": {
        "id": "view-in-github",
        "colab_type": "text"
      },
      "source": [
        "<a href=\"https://colab.research.google.com/github/carlos-alves-one/-Eye-Disease-Analysis/blob/main/project_proposal.ipynb\" target=\"_parent\"><img src=\"https://colab.research.google.com/assets/colab-badge.svg\" alt=\"Open In Colab\"/></a>"
      ]
    },
    {
      "cell_type": "markdown",
      "source": [
        "### Goldsmiths University of London\n",
        "### MSc. Data Science and Artificial Inteligence\n",
        "### Module: Data Programming\n",
        "### Author: Carlos Manuel De Oliveira Alves\n",
        "### Student: cdeol003\n",
        "### Created: 27/10/2023"
      ],
      "metadata": {
        "id": "u-SRryswl7Vl"
      }
    },
    {
      "cell_type": "markdown",
      "source": [
        "# Project Proposal"
      ],
      "metadata": {
        "id": "hwXE_SO7nV8-"
      }
    },
    {
      "cell_type": "markdown",
      "source": [
        "# Theme:\n",
        "###Eye Diseases Analysis"
      ],
      "metadata": {
        "id": "eZ1Wmu8dlEJr"
      }
    },
    {
      "cell_type": "markdown",
      "source": [
        "# Scope:\n",
        "The proposed study might centre its attention on datasets pertaining to a diverse range of ocular illnesses covering their frequency across distinct demographic groups, etiological factors, clinical manifestations, and therapeutic interventions. This could involve data derived from a multitude of research investigations, medical institutions, and health organisations."
      ],
      "metadata": {
        "id": "-TcBWuxHnb_b"
      }
    },
    {
      "cell_type": "markdown",
      "source": [
        "# Project:\n",
        "\"Prevalence and Risk Factors of Glaucoma: An Analysis of Global Data\""
      ],
      "metadata": {
        "id": "6zXhQ4XRpGL5"
      }
    },
    {
      "cell_type": "markdown",
      "source": [
        "## 1 Aims, objectives and background"
      ],
      "metadata": {
        "id": "3I5cRJgJmNIh"
      }
    },
    {
      "cell_type": "code",
      "source": [],
      "metadata": {
        "id": "uXyr4Ep0mTJB"
      },
      "execution_count": null,
      "outputs": []
    }
  ]
}