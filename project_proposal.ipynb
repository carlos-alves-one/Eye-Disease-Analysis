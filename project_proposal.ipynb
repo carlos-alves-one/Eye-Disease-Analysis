{
  "nbformat": 4,
  "nbformat_minor": 0,
  "metadata": {
    "colab": {
      "provenance": [],
      "toc_visible": true,
      "include_colab_link": true
    },
    "kernelspec": {
      "name": "python3",
      "display_name": "Python 3"
    },
    "language_info": {
      "name": "python"
    }
  },
  "cells": [
    {
      "cell_type": "markdown",
      "metadata": {
        "id": "view-in-github",
        "colab_type": "text"
      },
      "source": [
        "<a href=\"https://colab.research.google.com/github/carlos-alves-one/-Eye-Disease-Analysis/blob/main/project_proposal.ipynb\" target=\"_parent\"><img src=\"https://colab.research.google.com/assets/colab-badge.svg\" alt=\"Open In Colab\"/></a>"
      ]
    },
    {
      "cell_type": "markdown",
      "source": [
        "### Goldsmiths University of London\n",
        "### MSc. Data Science and Artificial Inteligence\n",
        "### Module: Data Programming\n",
        "### Author: Carlos Manuel De Oliveira Alves\n",
        "### Student: cdeol003"
      ],
      "metadata": {
        "id": "eD7eQWFJJOnS"
      }
    },
    {
      "cell_type": "markdown",
      "source": [
        "# Project Proposal"
      ],
      "metadata": {
        "id": "W58bOoOBKDKd"
      }
    },
    {
      "cell_type": "markdown",
      "source": [
        "Theme:\n",
        "Eye Diseases Analysis"
      ],
      "metadata": {
        "id": "_ye0-EgVKS9T"
      }
    },
    {
      "cell_type": "markdown",
      "source": [
        "Scope:\n",
        "Project could focus on datasets related to various eye diseases, their prevalence in different demographics, causes, symptoms, and treatments. This could include data from various research studies, hospitals, and health organizations.\n",
        "\n"
      ],
      "metadata": {
        "id": "XGYuV-JVKe3N"
      }
    },
    {
      "cell_type": "markdown",
      "source": [
        "Project:\n",
        "\"Prevalence and Risk Factors of Glaucoma: An Analysis of Global Data in AI-driven Research\""
      ],
      "metadata": {
        "id": "Khv4FHWrKm71"
      }
    },
    {
      "cell_type": "markdown",
      "source": [
        "# 1. Aims, Objectives and Background"
      ],
      "metadata": {
        "id": "SPHDfwQyKwhS"
      }
    },
    {
      "cell_type": "markdown",
      "source": [
        "##1.1 Introduction"
      ],
      "metadata": {
        "id": "k8G9JjPgLqw3"
      }
    },
    {
      "cell_type": "markdown",
      "source": [
        "1. **Glaucoma Overview**\n",
        "   - Definition: Glaucoma is a collection of eye diseases causing optic nerve damage and vision loss.\n",
        "   - Nicknamed the \"silent thief of sight\" because of its unnoticed and slow progression.\n",
        "   - A major global cause of permanent vision loss.\n",
        "   - Often goes undetected due to its subtle onset, making it a significant public health challenge.\n",
        "   - With an aging global population, the impact of glaucoma is predicted to rise, affecting individual quality of life and creating socio-economic burdens.\n",
        "   - There's a need to understand its varied occurrence and risk factors across different regions and demographics due to globalisation and demographic shifts.\n",
        "\n",
        "2. **Role of Artificial Intelligence (AI)**\n",
        "   - AI is making significant strides in healthcare.\n",
        "   - It offers tools to better understand and treat various conditions, including glaucoma.\n",
        "   - AI uses advanced algorithms and machine learning to analyze vast global data.\n",
        "   - This analysis can reveal hidden patterns, trends, and connections related to glaucoma.\n",
        "   - AI can provide a more in-depth understanding of glaucoma worldwide and form the basis for proactive and tailored treatments.\n",
        "\n",
        "3. **Purpose of the Current Study**\n",
        "   - This research uses AI to thoroughly review global datasets related to glaucoma.\n",
        "   - The aim is to understand incidence rates and complex risk factors associated with the disease.\n",
        "   - The study intends to offer actionable insights for healthcare professionals, researchers, and policymakers.\n",
        "   - Insights from the study can guide preventative actions, enhance early detection, and inform treatment strategies to secure a brighter visual future for many."
      ],
      "metadata": {
        "id": "xsSrUBGeNAbs"
      }
    },
    {
      "cell_type": "markdown",
      "source": [
        "##1.2 Aims"
      ],
      "metadata": {
        "id": "1cIVYMA_NX8b"
      }
    },
    {
      "cell_type": "markdown",
      "source": [
        "1. **Understanding Global Glaucoma Prevalence**\n",
        "   - The study seeks to provide a thorough analysis of the global occurrence of glaucoma.\n",
        "   - Recognizing diverse epidemiological patterns across different regions and populations enhances our understanding of the disease's overall impact.\n",
        "\n",
        "2. **Investigation of Glaucoma Risk Factors**\n",
        "   - The study aims to identify and study the fundamental risk factors associated with glaucoma.\n",
        "   - Gaining a comprehensive understanding of the causes, associations, and potential mechanisms leading to glaucoma can be achieved.\n",
        "   - This understanding aids in developing preventive measures and therapeutic treatments for glaucoma.\n",
        "\n",
        "3. **Utilizing AI for Data Analysis**\n",
        "   - The study leverages the power of Artificial Intelligence (AI) to manage and analyze large datasets.\n",
        "   - AI technologies and methodologies facilitate effective handling, analysis, and interpretation of complex data sources.\n",
        "   - Using AI increases the accuracy and efficiency of the analytical process."
      ],
      "metadata": {
        "id": "zfhyM_DUOhkU"
      }
    },
    {
      "cell_type": "markdown",
      "source": [
        "##1.3 Objectives"
      ],
      "metadata": {
        "id": "Kq3XHEGTOJDM"
      }
    },
    {
      "cell_type": "markdown",
      "source": [
        "1. **Objective of Data Collection**\n",
        "   - Collect a thorough dataset on glaucoma prevalence.\n",
        "   - Source data from global entities like the World Health Organisation, national health databases, and epidemiological studies.\n",
        "   - Systematically categorize data about potential risk factors such as age, ethnicity, genetics, intraocular pressure, systemic health issues, and environmental factors.\n",
        "\n",
        "2. **AI-Driven Data Analysis**\n",
        "   - Utilize machine learning for data pattern recognition and interrelation identification.\n",
        "   - Apply statistical methods to determine the importance and effectiveness of identified risk variables.\n",
        "\n",
        "3. **Comprehensive Regional Analysis**\n",
        "   - Segment data based on geographical regions to discern regional glaucoma prevalence patterns.\n",
        "   - Assess and compare the significance of risk factors across different regions.\n",
        "\n",
        "4. **Temporal Analysis**\n",
        "   - Study the variations in glaucoma prevalence over distinct time intervals.\n",
        "   - Base future prevalence projections on current data and identified patterns.\n",
        "\n",
        "5. **Development of Predictive Models**\n",
        "   - Create a model employing AI techniques that uses risk variables to predict the chances of developing glaucoma in various demographic groups.\n",
        "   - Validate the model's accuracy and reliability with a specific data subset.\n",
        "\n",
        "6. **Recommendations and Intervention Suggestions**\n",
        "   - Propose evidence-based strategies for early detection, prevention, and management of glaucoma.\n",
        "   - Highlight avenues for further research and areas where AI can enhance glaucoma treatments.\n",
        "\n",
        "7. **Project Conclusion**\n",
        "   - Offer a detailed perspective on the global glaucoma scenario, enriched by AI insights.\n",
        "   - The main goal is to equip stakeholders with a deeper knowledge of glaucoma, aiding in informed decision-making and enhancing patient outcomes."
      ],
      "metadata": {
        "id": "pZgwBHJ-PUYI"
      }
    },
    {
      "cell_type": "markdown",
      "source": [
        "##2. Literature Review"
      ],
      "metadata": {
        "id": "mhhTecgfQ_CA"
      }
    },
    {
      "cell_type": "markdown",
      "source": [
        "1. **Introduction to Glaucoma**\n",
        "   - Glaucoma is a leading cause of permanent visual impairment worldwide.\n",
        "   - It represents a significant public health challenge.\n",
        "\n",
        "2. **Variability in Prevalence and Risk Factors**\n",
        "   - The occurrence and associated risk factors of glaucoma vary across different geographical areas and demographic groups.\n",
        "\n",
        "3. **Purpose of the Literature Review**\n",
        "   - The review aims to consolidate existing data on global glaucoma prevalence and its risk factors.\n",
        "   - The goal is to lay the groundwork for future research and exploration in the domain of glaucoma."
      ],
      "metadata": {
        "id": "oIHXev9OR8Ap"
      }
    },
    {
      "cell_type": "markdown",
      "source": [
        "##3. Background and Relevance"
      ],
      "metadata": {
        "id": "e350p2CcSPFX"
      }
    },
    {
      "cell_type": "markdown",
      "source": [
        "1. **Glaucoma as the \"Silent Thief of Sight\"**\n",
        "   - Glaucoma's nickname is derived from its discreet onset and frequent late diagnosis.\n",
        "   - It poses a significant threat to global eye health.\n",
        "\n",
        "2. **Impact of Global Ageing**\n",
        "   - The worldwide ageing trend is leading to an expected rise in chronic illnesses.\n",
        "   - As a result, glaucoma research and treatment are becoming increasingly crucial.\n",
        "\n",
        "3. **Socio-Economic Implications of Glaucoma**\n",
        "   - Untreated or late-treated glaucoma has broad socio-economic repercussions.\n",
        "   - These repercussions include the direct financial costs of medical care as well as the negative effects on work productivity and overall life quality.\n",
        "\n",
        "4. **Variability in Glaucoma Prevalence**\n",
        "   - Glaucoma's occurrence varies across different demographic and geographical groups.\n",
        "   - With increasing global mobility and migration, understanding these variations becomes even more essential.\n",
        "\n",
        "5. **Role of Artificial Intelligence in Healthcare**\n",
        "   - AI's ability to handle vast data and identify complex patterns is promising.\n",
        "   - AI offers potential insights into the detailed epidemiology and causes of glaucoma.\n",
        "\n",
        "6. **Project Dataset Details**\n",
        "   - The dataset for the study was artificially created using Python's Numpy library.\n",
        "   - Data generation involved random number generation with realistic distributions and potential noise."
      ],
      "metadata": {
        "id": "uCa8nJ0cS_TB"
      }
    },
    {
      "cell_type": "markdown",
      "source": [
        "##4. Limitations"
      ],
      "metadata": {
        "id": "wGEFARJTThwB"
      }
    },
    {
      "cell_type": "markdown",
      "source": [
        "1. **Artificial Data Generation**\n",
        "   - The study's data was synthetically created using the Numpy package in Python.\n",
        "   - Efforts were made to simulate a realistic distribution, but the data remains artificial and may not capture the depth and variability seen in actual data.\n",
        "\n",
        "2. **Lack of Real-World Noise**\n",
        "   - Real-world datasets often contain unexpected anomalies, outliers, and noise.\n",
        "   - The synthetically generated data might have some simulated noise but might not represent the unpredictability typical of real-world data.\n",
        "\n",
        "3. **Generalization Concerns**\n",
        "   - Models trained on synthetic data might show higher accuracy due to the controlled nature of the dataset.\n",
        "   - There are concerns about the performance of such models on real-world data, especially when faced with scenarios not well-represented in the synthetic data.\n",
        "\n",
        "4. **Data Completeness Issues**\n",
        "   - The artificially generated dataset was designed to replicate certain features but does not have the exhaustive nature of real-world data.\n",
        "   - Real-world data captures a broader array of factors, interactions, and unpredictable patterns that the synthetic dataset might miss."
      ],
      "metadata": {
        "id": "1XtDNJD9UDlg"
      }
    },
    {
      "cell_type": "markdown",
      "source": [
        "##4. Ethical Considerations"
      ],
      "metadata": {
        "id": "hwxm3fvwUbQW"
      }
    },
    {
      "cell_type": "markdown",
      "source": [
        "1. **Introduction and Project Objective**\n",
        "   - AI's role in healthcare offers potential solutions for diseases like glaucoma.\n",
        "   - The project aims to use AI to pinpoint complex risk factors and incidence rates of glaucoma using synthetic data.\n",
        "   - There are ethical challenges related to data integrity, privacy protection, and AI model application.\n",
        "\n",
        "2. **Ethical Concerns with Synthetic Data**\n",
        "   - The project uses synthetic data from Python's Numpy library to simulate glaucoma data.\n",
        "   - Ethical questions arise about the validity and relevance of results derived from artificial data.\n",
        "   - Without grounding in real-world evidence, conclusions might lack robustness and context.\n",
        "   - Over-reliance on synthetic data might lead to overconfidence in AI model accuracy, potentially impacting healthcare decisions.\n",
        "\n",
        "3. **Privacy and Real-World Data Collection**\n",
        "   - The project plans to collaborate with healthcare entities to gather real-world data.\n",
        "   - Ethical issues emerge regarding patient privacy and data protection.\n",
        "   - It's vital to maintain patient confidentiality and adhere to data protection regulations.\n",
        "   - The global scope of the project emphasizes the need to respect various data privacy laws and cultural views on health data.\n",
        "   - Ethical best practices include obtaining informed consent, de-identifying data, and ensuring data security.\n",
        "\n",
        "4. **Model Validation and Potential Pitfalls**\n",
        "   - There's a recognized limitation with models trained on synthetic data when applied to real-world scenarios.\n",
        "   - Ethically, it's imperative to ensure AI models are validated thoroughly, transparently, and in diverse settings.\n",
        "   - Over-reliance on AI might overlook the nuanced understanding and judgment of medical professionals.\n",
        "   - Merging AI insights with expert experience is vital for ethical and effective healthcare solutions."
      ],
      "metadata": {
        "id": "sEW_xyh3UhUV"
      }
    },
    {
      "cell_type": "markdown",
      "source": [
        "##4. Data"
      ],
      "metadata": {
        "id": "pgR4M31xVMwz"
      }
    },
    {
      "cell_type": "markdown",
      "source": [
        "1. **Introduction to the Role of Data**\n",
        "   - Data is pivotal in the digital age, influencing decisions, shaping policies, and enhancing understanding.\n",
        "   - Data's value lies not just in its quantity but also in its relevance and complexity.\n",
        "\n",
        "2. **Importance of \"Glaucoma Global Analysis\" Dataset**\n",
        "   - Glaucoma is a leading cause of global visual impairment.\n",
        "   - Understanding its global implications helps stakeholders make informed decisions.\n",
        "   - The dataset offers a detailed look at glaucoma's prevalence and effects across regions and demographics, making it vital for healthcare professionals.\n",
        "\n",
        "3. **Benefits of Analyzing the Dataset**\n",
        "   - Analyzing the data can reveal trends in disease progression, treatment effectiveness, and socio-economic factors affecting glaucoma prevalence.\n",
        "\n",
        "4. **Dataset Complexity and Manipulation Potential**\n",
        "   - A rich dataset allows for diverse data manipulation and interpretation.\n",
        "   - \"Glaucoma Global Analysis\" is expected to cover various parameters like location, age groups, disease severity, and treatment outcomes."
      ],
      "metadata": {
        "id": "aVvx0FYgVQ8d"
      }
    },
    {
      "cell_type": "markdown",
      "source": [
        "##4.1 Design decisions made with the provided code and dataset:\n",
        "\n",
        "The design choices made in this study demonstrate a clear intention to develop a complete dataset on Glaucoma that\n",
        "encompasses global representation. The study places equal attention on the medical aspects of Glaucoma as well as\n",
        "its economic repercussions. The utilisation of random data creation techniques serves to create diversity within\n",
        "the dataset, but at the potential cost of incorporating non-realistic values. The selection of visualisations and\n",
        "statistical techniques allows for an early comprehension of the dataset's inherent properties.\n",
        "\n",
        "    1. Choice of Libraries:\n",
        "    \n",
        "        1.1 Pandas: Chosen for data manipulation and analysis because it offers data structures for efficiently storing\n",
        "        large datasets and tools for reshaping and aggregating data.\n",
        "\n",
        "        1.2 Numpy: Used for numerical operations. It's especially useful for generating random numbers following a normal distribution.\n",
        "\n",
        "        1.3 Matplotlib and Seaborn: These libraries are used for data visualization. Seaborn is built on top of Matplotlib\n",
        "        and provides a more attractive interface for creating statistical graphics.\n",
        "\n",
        "        1.4 Random: Utilized to generate random choices, especially for categorical data.\n",
        "\n",
        "   2. Dataset Structure:\n",
        "        The dataset columns were carefully chosen to represent various facets of the Glaucoma disease, from the number\n",
        "        of people affected to the availability of treatments. The inclusion of columns like Healthcare_Cost,\n",
        "        Productivity_Loss, and Research_Funding indicates an intent to study the economic impact of the disease alongside\n",
        "        its medical impact.\n",
        "\n",
        "   3. Data Generation:\n",
        "        The decision to use a normal distribution (via np.random.normal()) for many of the columns is based on the\n",
        "        assumption that most real-world phenomena, including disease prevalence, follow a bell curve.\n",
        "        Specific probabilities were assigned to some categorical variables (e.g., treatment_availability_male) to\n",
        "        simulate real-world scenarios where certain outcomes are more likely than others.\n",
        "        The country_regions dictionary ensures that the dataset covers a global perspective, spanning various\n",
        "        regions and countries.\n",
        "\n",
        "   4. Data Storage:\n",
        "        The data was stored in a CSV file, a commonly used format for tabular data. This makes it easy to share,\n",
        "        analyze, or use with other tools.\n",
        "\n",
        "   5. Visualization Decisions:\n",
        "        Scatter plots were chosen to visualize the relationship between two continuous variables (Population and\n",
        "        Affected_People_Male/Female). Scatter plots are ideal for observing trends, correlations, and outliers\n",
        "        in bivariate data. Two separate plots for males and females highlight gender-specific trends or\n",
        "        disparities in disease prevalence.\n",
        "\n",
        "   6. Statistical Analysis:\n",
        "        The describe() function was used to get a quick statistical summary of the data. This is crucial for\n",
        "        initial exploratory data analysis (EDA) as it provides insights into data distribution, central tendency,\n",
        "        and spread.\n",
        "\n",
        "   7. Data Integrity:\n",
        "        While generating random data, there's a possibility of producing negative values for certain attributes\n",
        "        (like population or affected people) due to the nature of the normal distribution. This might not be\n",
        "        realistic in a real-world context. Future iterations might want to address this by ensuring non-negative\n",
        "        values for certain columns.\n",
        "\n",
        "   8. Fixed Disease Type:\n",
        "        The dataset focuses solely on Glaucoma. This design decision narrows the scope of the analysis to a\n",
        "        specific eye disease, making the dataset specialized.\n",
        "\n",
        "   9. Download Mechanism:\n",
        "        The use of Google Colab's files.download() method indicates that the code was intended to run in a\n",
        "        Colab notebook environment, facilitating easy download of generated datasets."
      ],
      "metadata": {
        "id": "jtvWxB44WhDx"
      }
    },
    {
      "cell_type": "markdown",
      "source": [
        "##4.2 Design decisions made with the provided code and dataset:\n",
        "\n",
        "The design choices made in this study demonstrate a clear intention to develop a complete dataset on Glaucoma that\n",
        "encompasses global representation. The study places equal attention on the medical aspects of Glaucoma as well as\n",
        "its economic repercussions. The utilisation of random data creation techniques serves to create diversity within\n",
        "the dataset, but at the potential cost of incorporating non-realistic values. The selection of visualisations and\n",
        "statistical techniques allows for an early comprehension of the dataset's inherent properties.\n",
        "\n",
        "    1. Choice of Libraries:\n",
        "    \n",
        "        1.1 Pandas: Chosen for data manipulation and analysis because it offers data structures for efficiently storing\n",
        "        large datasets and tools for reshaping and aggregating data.\n",
        "\n",
        "        1.2 Numpy: Used for numerical operations. It's especially useful for generating random numbers following a normal distribution.\n",
        "\n",
        "        1.3 Matplotlib and Seaborn: These libraries are used for data visualization. Seaborn is built on top of Matplotlib\n",
        "        and provides a more attractive interface for creating statistical graphics.\n",
        "\n",
        "        1.4 Random: Utilized to generate random choices, especially for categorical data.\n",
        "\n",
        "   2. Dataset Structure:\n",
        "        The dataset columns were carefully chosen to represent various facets of the Glaucoma disease, from the number\n",
        "        of people affected to the availability of treatments. The inclusion of columns like Healthcare_Cost,\n",
        "        Productivity_Loss, and Research_Funding indicates an intent to study the economic impact of the disease alongside\n",
        "        its medical impact.\n",
        "\n",
        "   3. Data Generation:\n",
        "        The decision to use a normal distribution (via np.random.normal()) for many of the columns is based on the\n",
        "        assumption that most real-world phenomena, including disease prevalence, follow a bell curve.\n",
        "        Specific probabilities were assigned to some categorical variables (e.g., treatment_availability_male) to\n",
        "        simulate real-world scenarios where certain outcomes are more likely than others.\n",
        "        The country_regions dictionary ensures that the dataset covers a global perspective, spanning various\n",
        "        regions and countries.\n",
        "\n",
        "   4. Data Storage:\n",
        "        The data was stored in a CSV file, a commonly used format for tabular data. This makes it easy to share,\n",
        "        analyze, or use with other tools.\n",
        "\n",
        "   5. Visualization Decisions:\n",
        "        Scatter plots were chosen to visualize the relationship between two continuous variables (Population and\n",
        "        Affected_People_Male/Female). Scatter plots are ideal for observing trends, correlations, and outliers\n",
        "        in bivariate data. Two separate plots for males and females highlight gender-specific trends or\n",
        "        disparities in disease prevalence.\n",
        "\n",
        "   6. Statistical Analysis:\n",
        "        The describe() function was used to get a quick statistical summary of the data. This is crucial for\n",
        "        initial exploratory data analysis (EDA) as it provides insights into data distribution, central tendency,\n",
        "        and spread.\n",
        "\n",
        "   7. Data Integrity:\n",
        "        While generating random data, there's a possibility of producing negative values for certain attributes\n",
        "        (like population or affected people) due to the nature of the normal distribution. This might not be\n",
        "        realistic in a real-world context. Future iterations might want to address this by ensuring non-negative\n",
        "        values for certain columns.\n",
        "\n",
        "   8. Fixed Disease Type:\n",
        "        The dataset focuses solely on Glaucoma. This design decision narrows the scope of the analysis to a\n",
        "        specific eye disease, making the dataset specialized.\n",
        "\n",
        "   9. Download Mechanism:\n",
        "        The use of Google Colab's files.download() method indicates that the code was intended to run in a\n",
        "        Colab notebook environment, facilitating easy download of generated datasets."
      ],
      "metadata": {
        "id": "XncGt_7yXOSP"
      }
    },
    {
      "cell_type": "markdown",
      "source": [
        "##4.3 Data Processing Pipeline and Data Preparation Analysis:"
      ],
      "metadata": {
        "id": "K1JivuP2XlCX"
      }
    },
    {
      "cell_type": "markdown",
      "source": [
        "##4.3.1 Data Import and Library Initialization\n",
        "\n",
        "    Imported necessary libraries: pandas, random, numpy, matplotlib.pyplot, and seaborn.\n",
        "    The dataset is focused on eye disease analysis, specifically Glaucoma."
      ],
      "metadata": {
        "id": "UojhVtFjX7Em"
      }
    },
    {
      "cell_type": "code",
      "source": [
        "# Import the pandas library to read the data\n",
        "import pandas as pd\n",
        "\n",
        "# Import random to generate random data\n",
        "import random\n",
        "\n",
        "# Import the numpy library to perform numerical operations\n",
        "import numpy as np\n",
        "\n",
        "# Import MATLAB-like interface for making plots and charts\n",
        "import matplotlib.pyplot as plt\n",
        "\n",
        "# Import Seaborn for data visualization with more attractive interface for creating statistical graphics.\n",
        "import seaborn as sns"
      ],
      "metadata": {
        "id": "xEWd1z95QIlt"
      },
      "execution_count": null,
      "outputs": []
    },
    {
      "cell_type": "markdown",
      "source": [
        "##2. Dataset Structure\n",
        "\n",
        "    Defined the columns of the dataset which include country, population, disease type, affected males and females,\n",
        "    number of blindness cases, costs associated with healthcare and productivity loss, region, age group, and\n",
        "    various factors related to treatment and medical facilities."
      ],
      "metadata": {
        "id": "06DGJ4alQYsk"
      }
    },
    {
      "cell_type": "code",
      "source": [
        "# Declare 22 columns for the dataset\n",
        "\n",
        "columns = ['Country', 'Population', 'Eye_Disease',\n",
        "           'Affected_People_Male', 'Affected_People_Female',\n",
        "           'Blindness_Cases_Male', 'Blindness_Cases_Female',\n",
        "           'Healthcare_Cost', 'Productivity_Loss', 'Region', 'Age_Group',\n",
        "           'Treatment_Availability_Male', 'Treatment_Availability_Female',\n",
        "           'Medical_Facilities', 'Research_Funding', 'Awareness_Programs',\n",
        "           'Prevention_Measures', 'Recovery_Rate', 'Mortality_Rate',\n",
        "           'Vaccination', 'Medication', 'Surgery_Options']"
      ],
      "metadata": {
        "id": "6dtsLU3VQ-qq"
      },
      "execution_count": null,
      "outputs": []
    },
    {
      "cell_type": "markdown",
      "source": [
        "##3. Data Generation\n",
        "\n",
        "    Used a dictionary country_regions that contains 196 countries and their respective regions.\n",
        "    Defined age groups, and a binary list (Yes/No) for treatments and other binary attributes.\n",
        "    Generated random data for each column using normal distributions,"
      ],
      "metadata": {
        "id": "njAwWLIVRL0V"
      }
    },
    {
      "cell_type": "code",
      "source": [
        "# Declare sample data for each column\n",
        "\n",
        "# Declare a dictionary with 196 countries and regions\n",
        "country_regions = {\n",
        "    'Afghanistan': 'Asia',\n",
        "    'Albania': 'Europe',\n",
        "    'Algeria': 'Africa',\n",
        "    'Andorra': 'Europe',\n",
        "    'Angola': 'Africa',\n",
        "    'Antigua and Barbuda': 'North America',\n",
        "    'Argentina': 'South America',\n",
        "    'Armenia': 'Asia',\n",
        "    'Australia': 'Australia',\n",
        "    'Austria': 'Europe',\n",
        "    'Azerbaijan': 'Asia',\n",
        "    'Bahamas': 'North America',\n",
        "    'Bahrain': 'Asia',\n",
        "    'Bangladesh': 'Asia',\n",
        "    'Barbados': 'North America',\n",
        "    'Belarus': 'Europe',\n",
        "    'Belgium': 'Europe',\n",
        "    'Belize': 'North America',\n",
        "    'Benin': 'Africa',\n",
        "    'Bhutan': 'Asia',\n",
        "    'Bolivia': 'South America',\n",
        "    'Bosnia and Herzegovina': 'Europe',\n",
        "    'Botswana': 'Africa',\n",
        "    'Brazil': 'South America',\n",
        "    'Brunei': 'Asia',\n",
        "    'Bulgaria': 'Europe',\n",
        "    'Burkina Faso': 'Africa',\n",
        "    'Burundi': 'Africa',\n",
        "    'Côte d\\'Ivoire': 'Africa',\n",
        "    'Cabo Verde': 'Africa',\n",
        "    'Cambodia': 'Asia',\n",
        "    'Cameroon': 'Africa',\n",
        "    'Canada': 'North America',\n",
        "    'Central African Republic': 'Africa',\n",
        "    'Chad': 'Africa',\n",
        "    'Chile': 'South America',\n",
        "    'China': 'Asia',\n",
        "    'Colombia': 'South America',\n",
        "    'Comoros': 'Africa',\n",
        "    'Congo': 'Africa',\n",
        "    'Costa Rica': 'North America',\n",
        "    'Croatia': 'Europe',\n",
        "    'Cuba': 'North America',\n",
        "    'Cyprus': 'Europe',\n",
        "    'Czechia': 'Europe',\n",
        "    'Democratic Republic of the Congo': 'Africa',\n",
        "    'Denmark': 'Europe',\n",
        "    'Djibouti': 'Africa',\n",
        "    'Dominica': 'North America',\n",
        "    'Dominican Republic': 'North America',\n",
        "    'Ecuador': 'South America',\n",
        "    'Egypt': 'Africa',\n",
        "    'El Salvador': 'North America',\n",
        "    'Equatorial Guinea': 'Africa',\n",
        "    'Eritrea': 'Africa',\n",
        "    'Estonia': 'Europe',\n",
        "    'Eswatini': 'Africa',\n",
        "    'Ethiopia': 'Africa',\n",
        "    'Fiji': 'Oceania',\n",
        "    'Finland': 'Europe',\n",
        "    'France': 'Europe',\n",
        "    'Gabon': 'Africa',\n",
        "    'Gambia': 'Africa',\n",
        "    'Georgia': 'Asia',\n",
        "    'Germany': 'Europe',\n",
        "    'Ghana': 'Africa',\n",
        "    'Greece': 'Europe',\n",
        "    'Grenada': 'North America',\n",
        "    'Guatemala': 'North America',\n",
        "    'Guinea': 'Africa',\n",
        "    'Guinea-Bissau': 'Africa',\n",
        "    'Guyana': 'South America',\n",
        "    'Haiti': 'North America',\n",
        "    'Holy See': 'Europe',\n",
        "    'Honduras': 'North America',\n",
        "    'Hungary': 'Europe',\n",
        "    'Iceland': 'Europe',\n",
        "    'India': 'Asia',\n",
        "    'Indonesia': 'Asia',\n",
        "    'Iran': 'Asia',\n",
        "    'Iraq': 'Asia',\n",
        "    'Ireland': 'Europe',\n",
        "    'Israel': 'Asia',\n",
        "    'Italy': 'Europe',\n",
        "    'Jamaica': 'North America',\n",
        "    'Japan': 'Asia',\n",
        "    'Jordan': 'Asia',\n",
        "    'Kazakhstan': 'Asia',\n",
        "    'Kenya': 'Africa',\n",
        "    'Kiribati': 'Oceania',\n",
        "    'Kuwait': 'Asia',\n",
        "    'Kyrgyzstan': 'Asia',\n",
        "    'Laos': 'Asia',\n",
        "    'Latvia': 'Europe',\n",
        "    'Lebanon': 'Asia',\n",
        "    'Lesotho': 'Africa',\n",
        "    'Liberia': 'Africa',\n",
        "    'Libya': 'Africa',\n",
        "    'Liechtenstein': 'Europe',\n",
        "    'Lithuania': 'Europe',\n",
        "    'Luxembourg': 'Europe',\n",
        "    'Madagascar': 'Africa',\n",
        "    'Malawi': 'Africa',\n",
        "    'Malaysia': 'Asia',\n",
        "    'Maldives': 'Asia',\n",
        "    'Mali': 'Africa',\n",
        "    'Malta': 'Europe',\n",
        "    'Marshall Islands': 'Oceania',\n",
        "    'Mauritania': 'Africa',\n",
        "    'Mauritius': 'Africa',\n",
        "    'Mexico': 'North America',\n",
        "    'Micronesia': 'Oceania',\n",
        "    'Moldova': 'Europe',\n",
        "    'Monaco': 'Europe',\n",
        "    'Mongolia': 'Asia',\n",
        "    'Montenegro': 'Europe',\n",
        "    'Morocco': 'Africa',\n",
        "    'Mozambique': 'Africa',\n",
        "    'Myanmar': 'Asia',\n",
        "    'Namibia': 'Africa',\n",
        "    'Nauru': 'Oceania',\n",
        "    'Nepal': 'Asia',\n",
        "    'Netherlands': 'Europe',\n",
        "    'New Zealand': 'Oceania',\n",
        "    'Nicaragua': 'North America',\n",
        "    'Niger': 'Africa',\n",
        "    'Nigeria': 'Africa',\n",
        "    'North Korea': 'Asia',\n",
        "    'North Macedonia': 'Europe',\n",
        "    'Norway': 'Europe',\n",
        "    'Oman': 'Asia',\n",
        "    'Pakistan': 'Asia',\n",
        "    'Palau': 'Oceania',\n",
        "    'Palestine': 'Asia',\n",
        "    'Panama': 'North America',\n",
        "    'Papua New Guinea': 'Oceania',\n",
        "    'Paraguay': 'South America',\n",
        "    'Peru': 'South America',\n",
        "    'Philippines': 'Asia',\n",
        "    'Poland': 'Europe',\n",
        "    'Portugal': 'Europe',\n",
        "    'Qatar': 'Asia',\n",
        "    'Romania': 'Europe',\n",
        "    'Russia': 'Europe',\n",
        "    'Rwanda': 'Africa',\n",
        "    'Saint Kitts and Nevis': 'North America',\n",
        "    'Saint Lucia': 'North America',\n",
        "    'Saint Vincent and the Grenadines': 'North America',\n",
        "    'Samoa': 'Oceania',\n",
        "    'San Marino': 'Europe',\n",
        "    'Sao Tome and Principe': 'Africa',\n",
        "    'Saudi Arabia': 'Asia',\n",
        "    'Senegal': 'Africa',\n",
        "    'Serbia': 'Europe',\n",
        "    'Seychelles': 'Africa',\n",
        "    'Sierra Leone': 'Africa',\n",
        "    'Singapore': 'Asia',\n",
        "    'Slovakia': 'Europe',\n",
        "    'Slovenia': 'Europe',\n",
        "    'Solomon Islands': 'Oceania',\n",
        "    'Somalia': 'Africa',\n",
        "    'South Africa': 'Africa',\n",
        "    'South Korea': 'Asia',\n",
        "    'South Sudan': 'Africa',\n",
        "    'Spain': 'Europe',\n",
        "    'Sri Lanka': 'Asia',\n",
        "    'Sudan': 'Africa',\n",
        "    'Suriname': 'South America',\n",
        "    'Sweden': 'Europe',\n",
        "    'Switzerland': 'Europe',\n",
        "    'Syria': 'Asia',\n",
        "    'Taiwan': 'Asia',\n",
        "    'Tajikistan': 'Asia',\n",
        "    'Tanzania': 'Africa',\n",
        "    'Thailand': 'Asia',\n",
        "    'Timor-Leste': 'Asia',\n",
        "    'Togo': 'Africa',\n",
        "    'Tonga': 'Oceania',\n",
        "    'Trinidad and Tobago': 'North America',\n",
        "    'Tunisia': 'Africa',\n",
        "    'Turkey': 'Asia',\n",
        "    'Turkmenistan': 'Asia',\n",
        "    'Tuvalu': 'Oceania',\n",
        "    'Uganda': 'Africa',\n",
        "    'Ukraine': 'Europe',\n",
        "    'United Arab Emirates': 'Asia',\n",
        "    'United Kingdom': 'Europe',\n",
        "    'United States of America': 'North America',\n",
        "    'Uruguay': 'South America',\n",
        "    'Uzbekistan': 'Asia',\n",
        "    'Vanuatu': 'Oceania',\n",
        "    'Venezuela': 'South America',\n",
        "    'Vietnam': 'Asia',\n",
        "    'Yemen': 'Asia',\n",
        "    'Zambia': 'Africa',\n",
        "    'Zimbabwe': 'Africa'\n",
        "}\n",
        "\n",
        "# Declare list of age groups\n",
        "age_groups = ['41-60', '51-60', '61-70', '71+']\n",
        "\n",
        "# Declare list with yes and no\n",
        "yes_no = ['Yes', 'No']\n"
      ],
      "metadata": {
        "id": "HYanLmgjROlX"
      },
      "execution_count": null,
      "outputs": []
    },
    {
      "cell_type": "code",
      "source": [
        "# Generating random data for the dataset\n",
        "\n",
        "# Declare an empty list to store the data generated\n",
        "data = []\n",
        "\n",
        "# Declare a for loop to generate random data for each country in the list\n",
        "for country_region in country_regions:\n",
        "\n",
        "    # Declare variables to store 22 columns with random data related with the eye disease\n",
        "    country = country_region\n",
        "    population = int(np.random.normal(25000000, 10000000))  # mean, std deviation\n",
        "    eye_disease = 'Glaucoma'\n",
        "\n",
        "    affected_people_male = int(np.random.normal(50000, 20000))\n",
        "    affected_people_female = int(np.random.normal(50000, 20000))\n",
        "\n",
        "    blindness_cases_male = int(np.random.normal(5000, 2000))\n",
        "    blindness_cases_female = int(np.random.normal(5000, 2000))\n",
        "\n",
        "    healthcare_cost = int(np.random.normal(500000, 200000))\n",
        "    productivity_loss = int(np.random.normal(500000, 200000))\n",
        "    region = country_regions[country]\n",
        "    age_group = random.choice(age_groups)\n",
        "\n",
        "    treatment_availability_male = np.random.choice(yes_no, p=[0.7, 0.3])  # 70% Yes, 30% No\n",
        "    treatment_availability_female = np.random.choice(yes_no, p=[0.7, 0.3])\n",
        "\n",
        "    medical_facilities = np.random.choice(yes_no, p=[0.8, 0.2])\n",
        "    research_funding = int(np.random.normal(500000, 200000))\n",
        "    awareness_programs = np.random.choice(yes_no, p=[0.6, 0.4])\n",
        "    prevention_measures = np.random.choice(yes_no, p=[0.7, 0.3])\n",
        "    recovery_rate = random.uniform(0.1, 1.0)\n",
        "    mortality_rate = random.uniform(0.1, 1.0)\n",
        "    vaccination = np.random.choice(yes_no, p=[0.5, 0.5])\n",
        "    medication = np.random.choice(yes_no, p=[0.6, 0.4])\n",
        "    surgery_options = np.random.choice(yes_no, p=[0.4, 0.6])\n",
        "\n",
        "    # Store the data generated in the list\n",
        "    data.append([country, population, eye_disease, affected_people_male, affected_people_female, blindness_cases_male, blindness_cases_female, healthcare_cost, productivity_loss, region, age_group,\n",
        "                treatment_availability_male, treatment_availability_female, medical_facilities, research_funding, awareness_programs, prevention_measures, recovery_rate,\n",
        "                mortality_rate, vaccination, medication, surgery_options])\n"
      ],
      "metadata": {
        "id": "GEVoNjCDRm-e"
      },
      "execution_count": null,
      "outputs": []
    },
    {
      "cell_type": "markdown",
      "source": [
        "9. Summary\n",
        "  \n",
        "  9.1 Conclusions\n",
        "  \n",
        "  9.2 Summary of prepared data\n",
        "\n",
        "10. References and Resources\n",
        "  \n",
        "  10.1 References [1] ...\n",
        "  \n",
        "  10.2 Resources used\n",
        "  \n",
        "     . Python (books, youtube, udemy)\n",
        "  \n",
        "     . Data cleaning and processing, feature generation\n",
        "  \n",
        "     . Exploratory data analysis (books, youtube, udemy)"
      ],
      "metadata": {
        "id": "BA_LSvJgYLP6"
      }
    }
  ]
}